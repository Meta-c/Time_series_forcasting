{
 "cells": [
  {
   "attachments": {},
   "cell_type": "markdown",
   "metadata": {},
   "source": [
    "## Time Series forcasting ( Bitcoin predict)"
   ]
  },
  {
   "attachments": {},
   "cell_type": "markdown",
   "metadata": {},
   "source": [
    "### Imports"
   ]
  },
  {
   "cell_type": "code",
   "execution_count": 1,
   "metadata": {},
   "outputs": [],
   "source": [
    "#At first, we import python libraries that we need\n",
    "import pandas as pd \n",
    "import numpy as np\n",
    "import matplotlib.pyplot as plt\n",
    "import seaborn as sns\n",
    "from sklearn import preprocessing\n",
    "from sklearn.metrics import confusion_matrix\n",
    "from sklearn.model_selection import train_test_split\n",
    "from sklearn.metrics import accuracy_score\n",
    "from sklearn import svm\n",
    "from sklearn.neighbors import KNeighborsClassifier"
   ]
  },
  {
   "attachments": {},
   "cell_type": "markdown",
   "metadata": {},
   "source": [
    "### Get Data"
   ]
  },
  {
   "cell_type": "code",
   "execution_count": 2,
   "metadata": {},
   "outputs": [
    {
     "data": {
      "text/html": [
       "<div>\n",
       "<style scoped>\n",
       "    .dataframe tbody tr th:only-of-type {\n",
       "        vertical-align: middle;\n",
       "    }\n",
       "\n",
       "    .dataframe tbody tr th {\n",
       "        vertical-align: top;\n",
       "    }\n",
       "\n",
       "    .dataframe thead th {\n",
       "        text-align: right;\n",
       "    }\n",
       "</style>\n",
       "<table border=\"1\" class=\"dataframe\">\n",
       "  <thead>\n",
       "    <tr style=\"text-align: right;\">\n",
       "      <th></th>\n",
       "      <th>Currency</th>\n",
       "      <th>Closing Price (USD)</th>\n",
       "      <th>24h Open (USD)</th>\n",
       "      <th>24h High (USD)</th>\n",
       "      <th>24h Low (USD)</th>\n",
       "    </tr>\n",
       "    <tr>\n",
       "      <th>Date</th>\n",
       "      <th></th>\n",
       "      <th></th>\n",
       "      <th></th>\n",
       "      <th></th>\n",
       "      <th></th>\n",
       "    </tr>\n",
       "  </thead>\n",
       "  <tbody>\n",
       "    <tr>\n",
       "      <th>2013-10-01</th>\n",
       "      <td>BTC</td>\n",
       "      <td>123.65499</td>\n",
       "      <td>124.30466</td>\n",
       "      <td>124.75166</td>\n",
       "      <td>122.56349</td>\n",
       "    </tr>\n",
       "    <tr>\n",
       "      <th>2013-10-02</th>\n",
       "      <td>BTC</td>\n",
       "      <td>125.45500</td>\n",
       "      <td>123.65499</td>\n",
       "      <td>125.75850</td>\n",
       "      <td>123.63383</td>\n",
       "    </tr>\n",
       "    <tr>\n",
       "      <th>2013-10-03</th>\n",
       "      <td>BTC</td>\n",
       "      <td>108.58483</td>\n",
       "      <td>125.45500</td>\n",
       "      <td>125.66566</td>\n",
       "      <td>83.32833</td>\n",
       "    </tr>\n",
       "    <tr>\n",
       "      <th>2013-10-04</th>\n",
       "      <td>BTC</td>\n",
       "      <td>118.67466</td>\n",
       "      <td>108.58483</td>\n",
       "      <td>118.67500</td>\n",
       "      <td>107.05816</td>\n",
       "    </tr>\n",
       "    <tr>\n",
       "      <th>2013-10-05</th>\n",
       "      <td>BTC</td>\n",
       "      <td>121.33866</td>\n",
       "      <td>118.67466</td>\n",
       "      <td>121.93633</td>\n",
       "      <td>118.00566</td>\n",
       "    </tr>\n",
       "  </tbody>\n",
       "</table>\n",
       "</div>"
      ],
      "text/plain": [
       "           Currency  Closing Price (USD)  24h Open (USD)  24h High (USD)  \\\n",
       "Date                                                                       \n",
       "2013-10-01      BTC            123.65499       124.30466       124.75166   \n",
       "2013-10-02      BTC            125.45500       123.65499       125.75850   \n",
       "2013-10-03      BTC            108.58483       125.45500       125.66566   \n",
       "2013-10-04      BTC            118.67466       108.58483       118.67500   \n",
       "2013-10-05      BTC            121.33866       118.67466       121.93633   \n",
       "\n",
       "            24h Low (USD)  \n",
       "Date                       \n",
       "2013-10-01      122.56349  \n",
       "2013-10-02      123.63383  \n",
       "2013-10-03       83.32833  \n",
       "2013-10-04      107.05816  \n",
       "2013-10-05      118.00566  "
      ]
     },
     "execution_count": 2,
     "metadata": {},
     "output_type": "execute_result"
    }
   ],
   "source": [
    "df = pd.read_csv('BTC_USD_2013-10-01_2021-05-18-CoinDesk.csv',\n",
    "                 parse_dates=[\"Date\"],\n",
    "                 index_col=[\"Date\"])\n",
    "df.head()"
   ]
  },
  {
   "cell_type": "code",
   "execution_count": 3,
   "metadata": {},
   "outputs": [
    {
     "name": "stdout",
     "output_type": "stream",
     "text": [
      "<class 'pandas.core.frame.DataFrame'>\n",
      "DatetimeIndex: 2787 entries, 2013-10-01 to 2021-05-18\n",
      "Data columns (total 5 columns):\n",
      " #   Column               Non-Null Count  Dtype  \n",
      "---  ------               --------------  -----  \n",
      " 0   Currency             2787 non-null   object \n",
      " 1   Closing Price (USD)  2787 non-null   float64\n",
      " 2   24h Open (USD)       2787 non-null   float64\n",
      " 3   24h High (USD)       2787 non-null   float64\n",
      " 4   24h Low (USD)        2787 non-null   float64\n",
      "dtypes: float64(4), object(1)\n",
      "memory usage: 130.6+ KB\n"
     ]
    }
   ],
   "source": [
    "df.info()"
   ]
  },
  {
   "cell_type": "code",
   "execution_count": 4,
   "metadata": {},
   "outputs": [
    {
     "data": {
      "text/plain": [
       "2787"
      ]
     },
     "execution_count": 4,
     "metadata": {},
     "output_type": "execute_result"
    }
   ],
   "source": [
    "df.__len__()"
   ]
  },
  {
   "cell_type": "code",
   "execution_count": 5,
   "metadata": {},
   "outputs": [
    {
     "data": {
      "text/html": [
       "<div>\n",
       "<style scoped>\n",
       "    .dataframe tbody tr th:only-of-type {\n",
       "        vertical-align: middle;\n",
       "    }\n",
       "\n",
       "    .dataframe tbody tr th {\n",
       "        vertical-align: top;\n",
       "    }\n",
       "\n",
       "    .dataframe thead th {\n",
       "        text-align: right;\n",
       "    }\n",
       "</style>\n",
       "<table border=\"1\" class=\"dataframe\">\n",
       "  <thead>\n",
       "    <tr style=\"text-align: right;\">\n",
       "      <th></th>\n",
       "      <th>Price</th>\n",
       "    </tr>\n",
       "    <tr>\n",
       "      <th>Date</th>\n",
       "      <th></th>\n",
       "    </tr>\n",
       "  </thead>\n",
       "  <tbody>\n",
       "    <tr>\n",
       "      <th>2013-10-01</th>\n",
       "      <td>123.65499</td>\n",
       "    </tr>\n",
       "    <tr>\n",
       "      <th>2013-10-02</th>\n",
       "      <td>125.45500</td>\n",
       "    </tr>\n",
       "    <tr>\n",
       "      <th>2013-10-03</th>\n",
       "      <td>108.58483</td>\n",
       "    </tr>\n",
       "    <tr>\n",
       "      <th>2013-10-04</th>\n",
       "      <td>118.67466</td>\n",
       "    </tr>\n",
       "    <tr>\n",
       "      <th>2013-10-05</th>\n",
       "      <td>121.33866</td>\n",
       "    </tr>\n",
       "  </tbody>\n",
       "</table>\n",
       "</div>"
      ],
      "text/plain": [
       "                Price\n",
       "Date                 \n",
       "2013-10-01  123.65499\n",
       "2013-10-02  125.45500\n",
       "2013-10-03  108.58483\n",
       "2013-10-04  118.67466\n",
       "2013-10-05  121.33866"
      ]
     },
     "execution_count": 5,
     "metadata": {},
     "output_type": "execute_result"
    }
   ],
   "source": [
    "bitcoin_prices= pd.DataFrame(df[\"Closing Price (USD)\"]).rename(columns={\"Closing Price (USD)\":\"Price\"})\n",
    "\n",
    "bitcoin_prices.head()"
   ]
  },
  {
   "cell_type": "code",
   "execution_count": 6,
   "metadata": {},
   "outputs": [
    {
     "data": {
      "text/plain": [
       "<matplotlib.legend.Legend at 0x21dd8758340>"
      ]
     },
     "execution_count": 6,
     "metadata": {},
     "output_type": "execute_result"
    },
    {
     "data": {
      "image/png": "[encoded data removed]",
      "text/plain": [
       "<Figure size 1000x700 with 1 Axes>"
      ]
     },
     "metadata": {},
     "output_type": "display_data"
    }
   ],
   "source": [
    "bitcoin_prices.plot(figsize=(10,7))\n",
    "plt.ylabel(\"BTC Price\")\n",
    "plt.title(\"Price of Bitcoin from 1 OCT 2013 to 18 May 2021\",fontsize=16)\n",
    "plt.legend()"
   ]
  },
  {
   "attachments": {},
   "cell_type": "markdown",
   "metadata": {},
   "source": [
    "### Split training and testing sets ( Wrong way )"
   ]
  },
  {
   "cell_type": "code",
   "execution_count": 7,
   "metadata": {},
   "outputs": [
    {
     "data": {
      "text/plain": [
       "(array(['2013-10-01T00:00:00.000000000', '2013-10-02T00:00:00.000000000',\n",
       "        '2013-10-03T00:00:00.000000000', '2013-10-04T00:00:00.000000000',\n",
       "        '2013-10-05T00:00:00.000000000', '2013-10-06T00:00:00.000000000',\n",
       "        '2013-10-07T00:00:00.000000000', '2013-10-08T00:00:00.000000000',\n",
       "        '2013-10-09T00:00:00.000000000', '2013-10-10T00:00:00.000000000'],\n",
       "       dtype='datetime64[ns]'),\n",
       " array([123.65499, 125.455  , 108.58483, 118.67466, 121.33866, 120.65533,\n",
       "        121.795  , 123.033  , 124.049  , 125.96116]))"
      ]
     },
     "execution_count": 7,
     "metadata": {},
     "output_type": "execute_result"
    }
   ],
   "source": [
    "# Get bitcoin data array\n",
    "timesteps = bitcoin_prices.index.to_numpy()\n",
    "prices= bitcoin_prices[\"Price\"].to_numpy()\n",
    "\n",
    "timesteps[:10],prices[:10]"
   ]
  },
  {
   "cell_type": "code",
   "execution_count": 8,
   "metadata": {},
   "outputs": [
    {
     "data": {
      "text/plain": [
       "((2229,), (558,), (2229,), (558,))"
      ]
     },
     "execution_count": 8,
     "metadata": {},
     "output_type": "execute_result"
    }
   ],
   "source": [
    "from sklearn.model_selection import train_test_split\n",
    "\n",
    "X_train, X_test, y_train, y_test =train_test_split(timesteps,\n",
    "                                                   prices,\n",
    "                                                   test_size=0.2,\n",
    "                                                   random_state=42)\n",
    "X_train.shape,X_test.shape,y_train.shape,y_test.shape"
   ]
  },
  {
   "cell_type": "code",
   "execution_count": 9,
   "metadata": {},
   "outputs": [
    {
     "data": {
      "image/png": "[encoded data removed]",
      "text/plain": [
       "<Figure size 1000x700 with 1 Axes>"
      ]
     },
     "metadata": {},
     "output_type": "display_data"
    }
   ],
   "source": [
    "plt.figure(figsize=(10,7))\n",
    "plt.scatter(X_train,y_train,s=5,label=\"Train data\")\n",
    "plt.scatter(X_test,y_test,s=5,label=\"Test data\")\n",
    "plt.xlabel(\"Date\")\n",
    "plt.ylabel(\"BTC Price\")\n",
    "plt.legend(fontsize=14)\n",
    "plt.show()"
   ]
  },
  {
   "attachments": {},
   "cell_type": "markdown",
   "metadata": {},
   "source": [
    "### Split training and testing sets ( Right way )"
   ]
  },
  {
   "cell_type": "code",
   "execution_count": 10,
   "metadata": {},
   "outputs": [
    {
     "data": {
      "text/plain": [
       "(2229, 558, 2229, 558)"
      ]
     },
     "execution_count": 10,
     "metadata": {},
     "output_type": "execute_result"
    }
   ],
   "source": [
    "split_size=int(0.8 * len(prices))\n",
    "\n",
    "X_train,y_train=timesteps[:split_size],prices[:split_size]\n",
    "\n",
    "X_test,y_test= timesteps[split_size:],prices[split_size:]\n",
    "\n",
    "len(X_train),len(X_test),len(y_train),len(y_test)"
   ]
  },
  {
   "cell_type": "code",
   "execution_count": 11,
   "metadata": {},
   "outputs": [
    {
     "data": {
      "image/png": "[encoded data removed]",
      "text/plain": [
       "<Figure size 1000x700 with 1 Axes>"
      ]
     },
     "metadata": {},
     "output_type": "display_data"
    }
   ],
   "source": [
    "plt.figure(figsize=(10,7))\n",
    "plt.scatter(X_train,y_train,s=5,label=\"Train data\")\n",
    "plt.scatter(X_test,y_test,s=5,label=\"Test data\")\n",
    "plt.xlabel(\"Date\")\n",
    "plt.ylabel(\"BTC Price\")\n",
    "plt.legend(fontsize=14)\n",
    "plt.show()"
   ]
  },
  {
   "attachments": {},
   "cell_type": "markdown",
   "metadata": {},
   "source": [
    "### Create Plottting function"
   ]
  },
  {
   "cell_type": "code",
   "execution_count": 12,
   "metadata": {},
   "outputs": [],
   "source": [
    "def plot_time_series(timesteps,values,format=\".\",start=0,end=None,label=None):\n",
    "    plt.plot(timesteps[start:end],values[start:end],format,label=label)\n",
    "    plt.xlabel(\"Time\")\n",
    "    plt.ylabel(\"BTC Price\")\n",
    "    if label:\n",
    "        plt.legend(fontsize=14)\n",
    "    plt.grid(True)"
   ]
  },
  {
   "cell_type": "code",
   "execution_count": 13,
   "metadata": {},
   "outputs": [
    {
     "data": {
      "image/png": "[encoded data removed]",
      "text/plain": [
       "<Figure size 1000x700 with 1 Axes>"
      ]
     },
     "metadata": {},
     "output_type": "display_data"
    }
   ],
   "source": [
    "plt.figure(figsize=(10,7))\n",
    "plot_time_series(timesteps=X_train,values=y_train,label=\"Train data\")\n",
    "plot_time_series(timesteps=X_test,values=y_test,label=\"Test data\")"
   ]
  },
  {
   "attachments": {},
   "cell_type": "markdown",
   "metadata": {},
   "source": [
    "## Model 0 : Naive Forecasting "
   ]
  },
  {
   "cell_type": "code",
   "execution_count": 14,
   "metadata": {},
   "outputs": [
    {
     "data": {
      "text/plain": [
       "(array([9226.48582088, 8794.35864452, 8798.04205463, 9081.18687849,\n",
       "        8711.53433917, 8760.89271814, 8749.52059102, 8656.97092235,\n",
       "        8500.64355816, 8469.2608989 ]),\n",
       " array([57107.12067189, 58788.20967893, 58102.19142623, 55715.54665129,\n",
       "        56573.5554719 , 52147.82118698, 49764.1320816 , 50032.69313676,\n",
       "        47885.62525472, 45604.61575361]))"
      ]
     },
     "execution_count": 14,
     "metadata": {},
     "output_type": "execute_result"
    }
   ],
   "source": [
    "naive_forecast=y_test[:-1]\n",
    "\n",
    "naive_forecast[:10],naive_forecast[-10:]"
   ]
  },
  {
   "cell_type": "code",
   "execution_count": 15,
   "metadata": {},
   "outputs": [
    {
     "data": {
      "image/png": "[encoded data removed]",
      "text/plain": [
       "<Figure size 1000x700 with 1 Axes>"
      ]
     },
     "metadata": {},
     "output_type": "display_data"
    }
   ],
   "source": [
    "plt.figure(figsize=(10,7))\n",
    "# plot_time_series(timesteps=X_train,values=y_train,label=\"Train data\")\n",
    "plot_time_series(timesteps=X_test,values=y_test,start=350,format=\"-\",label=\"Test data\")\n",
    "plot_time_series(timesteps=X_test[1:],values=naive_forecast,start=350,format=\"-\",label=\"naive forecast\")"
   ]
  },
  {
   "cell_type": "code",
   "execution_count": 16,
   "metadata": {},
   "outputs": [],
   "source": [
    "import tensorflow as tf"
   ]
  },
  {
   "cell_type": "code",
   "execution_count": 17,
   "metadata": {},
   "outputs": [],
   "source": [
    "# MASE implementation\n",
    "def mean_absolute_scaled_error(y_true,y_pred):\n",
    "    mae=tf.reduce_mean(tf.abs(y_true-y_pred))\n",
    "    \n",
    "    # Find MAE of naive forecast (no seasonality)\n",
    "    mae_naive_no_season= tf.reduce_mean(tf.abs(y_true[1:] - y_true[:-1]))\n",
    "    \n",
    "    return mae/mae_naive_no_season"
   ]
  },
  {
   "cell_type": "code",
   "execution_count": 18,
   "metadata": {},
   "outputs": [
    {
     "data": {
      "text/plain": [
       "<tf.Tensor: shape=(), dtype=float64, numpy=0.9995699939182624>"
      ]
     },
     "execution_count": 18,
     "metadata": {},
     "output_type": "execute_result"
    }
   ],
   "source": [
    "mean_absolute_scaled_error(y_true=y_test[1:],y_pred=naive_forecast)"
   ]
  },
  {
   "cell_type": "code",
   "execution_count": 19,
   "metadata": {},
   "outputs": [],
   "source": [
    "# Create function to take model preds and truth values \n",
    "\n",
    "def evaluate_preds(y_true,y_pred):\n",
    "    # Make sure float32 dtype \n",
    "    y_true= tf.cast(y_true,dtype=tf.float32)\n",
    "    y_pred=tf.cast(y_pred,dtype=tf.float32)\n",
    "    \n",
    "    # Calculate various evaluation metrics \n",
    "    mae = tf.keras.metrics.mean_absolute_error(y_true,y_pred)\n",
    "    mse = tf.keras.metrics.mean_squared_error(y_true,y_pred)\n",
    "    rmse= tf.sqrt(mse)\n",
    "    mape=tf.keras.metrics.mean_absolute_percentage_error(y_true,y_pred)\n",
    "    mase = mean_absolute_scaled_error(y_true,y_pred)\n",
    "    \n",
    "    # Avvount for different sized metrics \n",
    "    if mae.ndim > 0:\n",
    "        mae = tf.reduce_mean(mae)\n",
    "        mse = tf.reduce_mean(mse)\n",
    "        rmse = tf.reduce_mean(rmse)\n",
    "        mape = tf.reduce_mean(mape)\n",
    "        mase = tf.reduce_mean(mase)\n",
    "    \n",
    "    return {\"mae\": mae.numpy(),\n",
    "            \"mse\": mse.numpy(),\n",
    "            \"rmse\":rmse.numpy(),\n",
    "            \"mape\": mape.numpy(),\n",
    "            \"mase\": mase.numpy(),\n",
    "            }"
   ]
  },
  {
   "cell_type": "code",
   "execution_count": 20,
   "metadata": {},
   "outputs": [
    {
     "data": {
      "text/plain": [
       "{'mae': 567.9802,\n",
       " 'mse': 1147547.0,\n",
       " 'rmse': 1071.2362,\n",
       " 'mape': 2.516525,\n",
       " 'mase': 0.99957}"
      ]
     },
     "execution_count": 20,
     "metadata": {},
     "output_type": "execute_result"
    }
   ],
   "source": [
    "naive_results = evaluate_preds(y_true=y_test[1:],\n",
    "                               y_pred=naive_forecast)\n",
    "naive_results"
   ]
  },
  {
   "attachments": {},
   "cell_type": "markdown",
   "metadata": {},
   "source": [
    "## Format Data Part 2: Windowing dataset\n",
    "\n",
    "why windowing ? \n",
    "\n",
    "Windowing time series dataset turns the data to a supervised learning problem"
   ]
  },
  {
   "cell_type": "code",
   "execution_count": 21,
   "metadata": {},
   "outputs": [
    {
     "name": "stdout",
     "output_type": "stream",
     "text": [
      "We want to use:[123.65499 125.455   108.58483 118.67466 121.33866 120.65533 121.795  ] to predict this: 123.033\n"
     ]
    }
   ],
   "source": [
    "print(f\"We want to use:{prices[:7]} to predict this: {prices[7]}\")"
   ]
  },
  {
   "cell_type": "code",
   "execution_count": 22,
   "metadata": {},
   "outputs": [],
   "source": [
    "HORIZON = 1 # predict next 1 day\n",
    "WINDOW_SIZE = 7 # use past week of data to predict"
   ]
  },
  {
   "cell_type": "code",
   "execution_count": 23,
   "metadata": {},
   "outputs": [],
   "source": [
    "# function to label windowed data \n",
    "def get_labelled_window(x, horizon=HORIZON):\n",
    "    return x[:,:-horizon],x[:,-horizon:]"
   ]
  },
  {
   "cell_type": "code",
   "execution_count": 24,
   "metadata": {},
   "outputs": [
    {
     "name": "stdout",
     "output_type": "stream",
     "text": [
      "Window: [1 2 3 4 5 6 7] -> Label: 8\n"
     ]
    }
   ],
   "source": [
    "test_window,test_label = get_labelled_window(tf.expand_dims(tf.range(8)+1,axis=0))\n",
    "\n",
    "print(f\"Window: {tf.squeeze(test_window).numpy()} -> Label: {tf.squeeze(test_label).numpy()}\")"
   ]
  },
  {
   "attachments": {},
   "cell_type": "markdown",
   "metadata": {},
   "source": [
    "### Preprocessing data to windows formatted "
   ]
  },
  {
   "cell_type": "code",
   "execution_count": 25,
   "metadata": {},
   "outputs": [],
   "source": [
    "# Create function to view Numpy arrays as windows\n",
    "\n",
    "def make_windows(x,window_size=WINDOW_SIZE, horizon=HORIZON):\n",
    "    # 1. turns 1D to 2D array of sequential labelled windows of window_size\n",
    "    window_step=np.expand_dims(np.arange(window_size+horizon),axis=0)\n",
    "    \n",
    "    # 2. Create a 2D array of multiple window steps (minus 1 to account for 0 indexing)\n",
    "    window_indexes= window_step +np.expand_dims(np.arange(len(x)-(window_size+horizon-1)),axis=0).T # create 2D array of windows of size window_size\n",
    "    \n",
    "    print(f\"Window indexes:\\n {window_indexes,window_indexes.shape}\")\n",
    "    \n",
    "    # 3. Index on the target array (a time series) with 2D arra of multiple window steps\n",
    "    windowed_array = x[window_indexes]\n",
    "    # print(windowed_array)\n",
    "    \n",
    "    # 4. Get labelled windows\n",
    "    windows,labels = get_labelled_window(windowed_array,horizon=horizon)\n",
    "    \n",
    "    return windows,labels"
   ]
  },
  {
   "cell_type": "code",
   "execution_count": 26,
   "metadata": {},
   "outputs": [
    {
     "name": "stdout",
     "output_type": "stream",
     "text": [
      "Window indexes:\n",
      " (array([[   0,    1,    2, ...,    5,    6,    7],\n",
      "       [   1,    2,    3, ...,    6,    7,    8],\n",
      "       [   2,    3,    4, ...,    7,    8,    9],\n",
      "       ...,\n",
      "       [2777, 2778, 2779, ..., 2782, 2783, 2784],\n",
      "       [2778, 2779, 2780, ..., 2783, 2784, 2785],\n",
      "       [2779, 2780, 2781, ..., 2784, 2785, 2786]]), (2780, 8))\n"
     ]
    },
    {
     "data": {
      "text/plain": [
       "(2780, 2780)"
      ]
     },
     "execution_count": 26,
     "metadata": {},
     "output_type": "execute_result"
    }
   ],
   "source": [
    "full_windows,full_labels = make_windows(prices,window_size=WINDOW_SIZE,horizon=HORIZON)\n",
    "\n",
    "len(full_windows),len(full_labels)"
   ]
  },
  {
   "cell_type": "code",
   "execution_count": 27,
   "metadata": {},
   "outputs": [
    {
     "name": "stdout",
     "output_type": "stream",
     "text": [
      "Window: [123.65499 125.455   108.58483 118.67466 121.33866 120.65533 121.795  ] -> Label [123.033]\n",
      "Window: [125.455   108.58483 118.67466 121.33866 120.65533 121.795   123.033  ] -> Label [124.049]\n",
      "Window: [108.58483 118.67466 121.33866 120.65533 121.795   123.033   124.049  ] -> Label [125.96116]\n"
     ]
    }
   ],
   "source": [
    "# view the first 3 windows/labels\n",
    "for i in range(3):\n",
    "    print(f\"Window: {full_windows[i]} -> Label {full_labels[i]}\")"
   ]
  },
  {
   "cell_type": "code",
   "execution_count": 28,
   "metadata": {},
   "outputs": [
    {
     "name": "stdout",
     "output_type": "stream",
     "text": [
      "Window: [58788.20967893 58102.19142623 55715.54665129 56573.5554719\n",
      " 52147.82118698 49764.1320816  50032.69313676] -> Label [47885.62525472]\n",
      "Window: [58102.19142623 55715.54665129 56573.5554719  52147.82118698\n",
      " 49764.1320816  50032.69313676 47885.62525472] -> Label [45604.61575361]\n",
      "Window: [55715.54665129 56573.5554719  52147.82118698 49764.1320816\n",
      " 50032.69313676 47885.62525472 45604.61575361] -> Label [43144.47129086]\n"
     ]
    }
   ],
   "source": [
    "# view the last 3 windows/labels\n",
    "for i in range(3):\n",
    "    print(f\"Window: {full_windows[i-3]} -> Label {full_labels[i-3]}\")"
   ]
  },
  {
   "attachments": {},
   "cell_type": "markdown",
   "metadata": {},
   "source": [
    "### HOWEVER 💡\n",
    " there is a already built in tensorflow function for preprocessing timeseries forecasting data: \n",
    " - tf.keras.preprocessing.timeseries_dataset_from_array()"
   ]
  },
  {
   "attachments": {},
   "cell_type": "markdown",
   "metadata": {},
   "source": [
    "## Turning windows into training and test sets"
   ]
  },
  {
   "cell_type": "code",
   "execution_count": 29,
   "metadata": {},
   "outputs": [],
   "source": [
    "# Make the train/test splits\n",
    "def make_train_test_splits(windows, labels,test_split=0.2):\n",
    "    \n",
    "    splits_size=int(len(windows)*(1-test_split)) # this will deafult to 80% train / 20% test\n",
    "    \n",
    "    train_windows=windows[:split_size]\n",
    "    train_labels=labels[:split_size]\n",
    "    test_windows=windows[split_size:]\n",
    "    test_labels=labels[split_size:]\n",
    "    \n",
    "    return train_windows, test_windows, train_labels , test_labels"
   ]
  },
  {
   "cell_type": "code",
   "execution_count": 30,
   "metadata": {},
   "outputs": [
    {
     "data": {
      "text/plain": [
       "(2229, 551, 2229, 551)"
      ]
     },
     "execution_count": 30,
     "metadata": {},
     "output_type": "execute_result"
    }
   ],
   "source": [
    "# Create train and test windows \n",
    "train_windows,test_windows,train_labels,test_labels=make_train_test_splits(full_windows,full_labels)\n",
    "len(train_windows), len(test_windows), len(train_labels), len(test_labels)"
   ]
  },
  {
   "cell_type": "code",
   "execution_count": 31,
   "metadata": {},
   "outputs": [
    {
     "data": {
      "text/plain": [
       "(array([[123.65499, 125.455  , 108.58483, 118.67466, 121.33866, 120.65533,\n",
       "         121.795  ],\n",
       "        [125.455  , 108.58483, 118.67466, 121.33866, 120.65533, 121.795  ,\n",
       "         123.033  ],\n",
       "        [108.58483, 118.67466, 121.33866, 120.65533, 121.795  , 123.033  ,\n",
       "         124.049  ],\n",
       "        [118.67466, 121.33866, 120.65533, 121.795  , 123.033  , 124.049  ,\n",
       "         125.96116],\n",
       "        [121.33866, 120.65533, 121.795  , 123.033  , 124.049  , 125.96116,\n",
       "         125.27966]]),\n",
       " array([[123.033  ],\n",
       "        [124.049  ],\n",
       "        [125.96116],\n",
       "        [125.27966],\n",
       "        [125.9275 ]]))"
      ]
     },
     "execution_count": 31,
     "metadata": {},
     "output_type": "execute_result"
    }
   ],
   "source": [
    "train_windows[:5], train_labels[:5]"
   ]
  },
  {
   "attachments": {},
   "cell_type": "markdown",
   "metadata": {},
   "source": [
    "## Make a modelling checkpoint \n",
    "\n",
    "Because our model's performance will fluctuate from experiment\n"
   ]
  },
  {
   "cell_type": "code",
   "execution_count": 32,
   "metadata": {},
   "outputs": [],
   "source": [
    "import os\n",
    " # Create a function to implement a ModelCheckpoint callback with a specific filename\n",
    " \n",
    "def create_model_checkpoint(model_name,save_path=\"model_experiments\"):\n",
    "    return tf.keras.callbacks.ModelCheckpoint(filepath=os.path.join(save_path,model_name),\n",
    "    verbose=0,\n",
    "    save_best_only=True)"
   ]
  },
  {
   "attachments": {},
   "cell_type": "markdown",
   "metadata": {},
   "source": [
    "#### Model 1: Dense model (window = 7, horizon = 1)"
   ]
  },
  {
   "cell_type": "code",
   "execution_count": 33,
   "metadata": {},
   "outputs": [
    {
     "name": "stdout",
     "output_type": "stream",
     "text": [
      "Epoch 1/100\n",
      " 1/18 [>.............................] - ETA: 32s - loss: 2021.8281 - mae: 2021.8281 - mse: 9694709.0000INFO:tensorflow:Assets written to: model_experiments\\model_1_dense\\assets\n",
      "18/18 [==============================] - 3s 50ms/step - loss: 770.8699 - mae: 770.8699 - mse: 2322506.0000 - val_loss: 2211.9968 - val_mae: 2211.9968 - val_mse: 12191257.0000\n",
      "Epoch 2/100\n",
      " 1/18 [>.............................] - ETA: 0s - loss: 390.2206 - mae: 390.2206 - mse: 482659.8125INFO:tensorflow:Assets written to: model_experiments\\model_1_dense\\assets\n",
      "18/18 [==============================] - 1s 34ms/step - loss: 231.9996 - mae: 231.9996 - mse: 235887.3438 - val_loss: 1010.5923 - val_mae: 1010.5923 - val_mse: 3439082.0000\n",
      "Epoch 3/100\n",
      " 1/18 [>.............................] - ETA: 0s - loss: 149.5374 - mae: 149.5374 - mse: 117794.8594INFO:tensorflow:Assets written to: model_experiments\\model_1_dense\\assets\n",
      "18/18 [==============================] - 1s 33ms/step - loss: 176.6514 - mae: 176.6514 - mse: 158764.5000 - val_loss: 936.3781 - val_mae: 936.3781 - val_mse: 2858712.0000\n",
      "Epoch 4/100\n",
      " 1/18 [>.............................] - ETA: 0s - loss: 179.4658 - mae: 179.4658 - mse: 129205.6172INFO:tensorflow:Assets written to: model_experiments\\model_1_dense\\assets\n",
      "18/18 [==============================] - 1s 31ms/step - loss: 163.9299 - mae: 163.9299 - mse: 144408.6562 - val_loss: 914.9297 - val_mae: 914.9297 - val_mse: 2706202.0000\n",
      "Epoch 5/100\n",
      "18/18 [==============================] - 0s 4ms/step - loss: 158.4962 - mae: 158.4962 - mse: 135340.5000 - val_loss: 916.9713 - val_mae: 916.9713 - val_mse: 2605687.7500\n",
      "Epoch 6/100\n",
      " 1/18 [>.............................] - ETA: 0s - loss: 141.1273 - mae: 141.1273 - mse: 78341.1172INFO:tensorflow:Assets written to: model_experiments\\model_1_dense\\assets\n",
      "18/18 [==============================] - 1s 34ms/step - loss: 152.1268 - mae: 152.1268 - mse: 127425.4531 - val_loss: 824.4698 - val_mae: 824.4698 - val_mse: 2289472.7500\n",
      "Epoch 7/100\n",
      "18/18 [==============================] - 0s 5ms/step - loss: 151.1029 - mae: 151.1029 - mse: 121232.8828 - val_loss: 843.7178 - val_mae: 843.7178 - val_mse: 2217832.5000\n",
      "Epoch 8/100\n",
      "16/18 [=========================>....] - ETA: 0s - loss: 146.6235 - mae: 146.6235 - mse: 119589.5078INFO:tensorflow:Assets written to: model_experiments\\model_1_dense\\assets\n",
      "18/18 [==============================] - 1s 33ms/step - loss: 145.4550 - mae: 145.4550 - mse: 116545.1016 - val_loss: 823.1644 - val_mae: 823.1644 - val_mse: 2122356.0000\n",
      "Epoch 9/100\n",
      "17/18 [===========================>..] - ETA: 0s - loss: 142.9108 - mae: 142.9108 - mse: 114176.7812INFO:tensorflow:Assets written to: model_experiments\\model_1_dense\\assets\n",
      "18/18 [==============================] - 1s 41ms/step - loss: 141.6236 - mae: 141.6236 - mse: 112163.3906 - val_loss: 805.5375 - val_mae: 805.5375 - val_mse: 2035049.5000\n",
      "Epoch 10/100\n",
      "18/18 [==============================] - ETA: 0s - loss: 137.7070 - mae: 137.7070 - mse: 105771.0938INFO:tensorflow:Assets written to: model_experiments\\model_1_dense\\assets\n",
      "18/18 [==============================] - 1s 37ms/step - loss: 137.7070 - mae: 137.7070 - mse: 105771.0938 - val_loss: 772.1919 - val_mae: 772.1919 - val_mse: 1922443.3750\n",
      "Epoch 11/100\n",
      "18/18 [==============================] - 0s 11ms/step - loss: 137.1022 - mae: 137.1022 - mse: 103016.9844 - val_loss: 803.9779 - val_mae: 803.9779 - val_mse: 1965141.0000\n",
      "Epoch 12/100\n",
      " 1/18 [>.............................] - ETA: 0s - loss: 106.9730 - mae: 106.9730 - mse: 63168.6250INFO:tensorflow:Assets written to: model_experiments\\model_1_dense\\assets\n",
      "18/18 [==============================] - 1s 33ms/step - loss: 139.8881 - mae: 139.8881 - mse: 104995.9531 - val_loss: 771.2838 - val_mae: 771.2838 - val_mse: 1854270.5000\n",
      "Epoch 13/100\n",
      " 1/18 [>.............................] - ETA: 0s - loss: 111.4841 - mae: 111.4841 - mse: 64130.5039INFO:tensorflow:Assets written to: model_experiments\\model_1_dense\\assets\n",
      "18/18 [==============================] - 1s 34ms/step - loss: 133.6321 - mae: 133.6321 - mse: 100783.8750 - val_loss: 745.5911 - val_mae: 745.5911 - val_mse: 1767363.3750\n",
      "Epoch 14/100\n",
      " 1/18 [>.............................] - ETA: 0s - loss: 157.1920 - mae: 157.1920 - mse: 173349.7188INFO:tensorflow:Assets written to: model_experiments\\model_1_dense\\assets\n",
      "18/18 [==============================] - 1s 32ms/step - loss: 129.4317 - mae: 129.4317 - mse: 95593.8828 - val_loss: 715.7496 - val_mae: 715.7496 - val_mse: 1681929.0000\n",
      "Epoch 15/100\n",
      " 1/18 [>.............................] - ETA: 0s - loss: 125.2043 - mae: 125.2043 - mse: 156823.8594INFO:tensorflow:Assets written to: model_experiments\\model_1_dense\\assets\n",
      "18/18 [==============================] - 1s 32ms/step - loss: 127.8532 - mae: 127.8532 - mse: 94219.7031 - val_loss: 702.4960 - val_mae: 702.4960 - val_mse: 1637426.0000\n",
      "Epoch 16/100\n",
      "18/18 [==============================] - ETA: 0s - loss: 135.5431 - mae: 135.5431 - mse: 98076.8438 INFO:tensorflow:Assets written to: model_experiments\\model_1_dense\\assets\n",
      "18/18 [==============================] - 1s 33ms/step - loss: 135.5431 - mae: 135.5431 - mse: 98076.8438 - val_loss: 693.3616 - val_mae: 693.3616 - val_mse: 1632270.3750\n",
      "Epoch 17/100\n",
      " 1/18 [>.............................] - ETA: 0s - loss: 101.1386 - mae: 101.1386 - mse: 45642.4453INFO:tensorflow:Assets written to: model_experiments\\model_1_dense\\assets\n",
      "18/18 [==============================] - 1s 33ms/step - loss: 132.0144 - mae: 132.0144 - mse: 93294.1016 - val_loss: 676.5865 - val_mae: 676.5865 - val_mse: 1546557.5000\n",
      "Epoch 18/100\n",
      " 1/18 [>.............................] - ETA: 0s - loss: 81.6565 - mae: 81.6565 - mse: 34508.8750INFO:tensorflow:Assets written to: model_experiments\\model_1_dense\\assets\n",
      "18/18 [==============================] - 1s 34ms/step - loss: 127.4967 - mae: 127.4967 - mse: 89793.7266 - val_loss: 668.2440 - val_mae: 668.2440 - val_mse: 1532334.5000\n",
      "Epoch 19/100\n",
      "18/18 [==============================] - 0s 5ms/step - loss: 125.0188 - mae: 125.0188 - mse: 88820.6172 - val_loss: 687.1479 - val_mae: 687.1479 - val_mse: 1523044.8750\n",
      "Epoch 20/100\n",
      "18/18 [==============================] - 0s 4ms/step - loss: 122.1832 - mae: 122.1832 - mse: 85871.8906 - val_loss: 712.6323 - val_mae: 712.6323 - val_mse: 1577351.5000\n",
      "Epoch 21/100\n",
      " 1/18 [>.............................] - ETA: 0s - loss: 104.1121 - mae: 104.1121 - mse: 51656.3789INFO:tensorflow:Assets written to: model_experiments\\model_1_dense\\assets\n",
      "18/18 [==============================] - 1s 33ms/step - loss: 122.1822 - mae: 122.1822 - mse: 86823.5547 - val_loss: 654.6016 - val_mae: 654.6016 - val_mse: 1444374.3750\n",
      "Epoch 22/100\n",
      "18/18 [==============================] - 0s 4ms/step - loss: 118.8805 - mae: 118.8805 - mse: 83775.6172 - val_loss: 689.8748 - val_mae: 689.8748 - val_mse: 1508118.5000\n",
      "Epoch 23/100\n",
      "18/18 [==============================] - 0s 4ms/step - loss: 120.2470 - mae: 120.2470 - mse: 81618.7109 - val_loss: 667.1642 - val_mae: 667.1642 - val_mse: 1450861.3750\n",
      "Epoch 24/100\n",
      " 1/18 [>.............................] - ETA: 0s - loss: 115.9071 - mae: 115.9071 - mse: 58915.8203INFO:tensorflow:Assets written to: model_experiments\\model_1_dense\\assets\n",
      "18/18 [==============================] - 1s 32ms/step - loss: 117.8695 - mae: 117.8695 - mse: 81184.8750 - val_loss: 652.8722 - val_mae: 652.8722 - val_mse: 1414696.5000\n",
      "Epoch 25/100\n",
      " 1/18 [>.............................] - ETA: 0s - loss: 151.0558 - mae: 151.0558 - mse: 96905.6797INFO:tensorflow:Assets written to: model_experiments\\model_1_dense\\assets\n",
      "18/18 [==============================] - 1s 32ms/step - loss: 118.9365 - mae: 118.9365 - mse: 82570.0156 - val_loss: 640.1991 - val_mae: 640.1991 - val_mse: 1386498.6250\n",
      "Epoch 26/100\n",
      "18/18 [==============================] - 0s 5ms/step - loss: 120.9143 - mae: 120.9143 - mse: 82537.8281 - val_loss: 661.4717 - val_mae: 661.4717 - val_mse: 1481040.6250\n",
      "Epoch 27/100\n",
      "18/18 [==============================] - 0s 5ms/step - loss: 119.2047 - mae: 119.2047 - mse: 81382.1875 - val_loss: 660.1515 - val_mae: 660.1515 - val_mse: 1419473.0000\n",
      "Epoch 28/100\n",
      "18/18 [==============================] - 0s 4ms/step - loss: 119.6818 - mae: 119.6818 - mse: 81996.7266 - val_loss: 714.4367 - val_mae: 714.4367 - val_mse: 1557844.2500\n",
      "Epoch 29/100\n",
      " 1/18 [>.............................] - ETA: 0s - loss: 125.1334 - mae: 125.1334 - mse: 54773.9062INFO:tensorflow:Assets written to: model_experiments\\model_1_dense\\assets\n",
      "18/18 [==============================] - 1s 33ms/step - loss: 118.8051 - mae: 118.8051 - mse: 81173.3984 - val_loss: 625.0820 - val_mae: 625.0820 - val_mse: 1340024.6250\n",
      "Epoch 30/100\n",
      "18/18 [==============================] - 0s 5ms/step - loss: 115.9558 - mae: 115.9558 - mse: 79441.4766 - val_loss: 646.6992 - val_mae: 646.6992 - val_mse: 1379812.8750\n",
      "Epoch 31/100\n",
      " 1/18 [>.............................] - ETA: 0s - loss: 149.5577 - mae: 149.5577 - mse: 135953.4062INFO:tensorflow:Assets written to: model_experiments\\model_1_dense\\assets\n",
      "18/18 [==============================] - 1s 33ms/step - loss: 118.7403 - mae: 118.7403 - mse: 79281.7656 - val_loss: 619.1090 - val_mae: 619.1090 - val_mse: 1339147.8750\n",
      "Epoch 32/100\n",
      "18/18 [==============================] - 0s 4ms/step - loss: 115.0381 - mae: 115.0381 - mse: 78866.3594 - val_loss: 674.4623 - val_mae: 674.4623 - val_mse: 1444867.5000\n",
      "Epoch 33/100\n",
      "18/18 [==============================] - 0s 4ms/step - loss: 124.5045 - mae: 124.5045 - mse: 84226.5547 - val_loss: 623.3520 - val_mae: 623.3520 - val_mse: 1347333.7500\n",
      "Epoch 34/100\n",
      "18/18 [==============================] - 0s 4ms/step - loss: 124.9662 - mae: 124.9662 - mse: 86180.5469 - val_loss: 695.9379 - val_mae: 695.9379 - val_mse: 1555636.6250\n",
      "Epoch 35/100\n",
      "18/18 [==============================] - 0s 4ms/step - loss: 123.1959 - mae: 123.1959 - mse: 82548.4062 - val_loss: 798.4654 - val_mae: 798.4654 - val_mse: 1901498.2500\n",
      "Epoch 36/100\n",
      " 1/18 [>.............................] - ETA: 0s - loss: 146.4987 - mae: 146.4987 - mse: 77668.4453INFO:tensorflow:Assets written to: model_experiments\\model_1_dense\\assets\n",
      "18/18 [==============================] - 1s 33ms/step - loss: 119.4677 - mae: 119.4677 - mse: 80794.4766 - val_loss: 607.1290 - val_mae: 607.1290 - val_mse: 1296914.7500\n",
      "Epoch 37/100\n",
      "18/18 [==============================] - 0s 4ms/step - loss: 116.4574 - mae: 116.4574 - mse: 79361.5938 - val_loss: 620.8243 - val_mae: 620.8243 - val_mse: 1309905.2500\n",
      "Epoch 38/100\n",
      "18/18 [==============================] - 0s 5ms/step - loss: 111.9723 - mae: 111.9723 - mse: 75589.4453 - val_loss: 607.5125 - val_mae: 607.5125 - val_mse: 1285467.7500\n",
      "Epoch 39/100\n",
      "18/18 [==============================] - 0s 4ms/step - loss: 114.9677 - mae: 114.9677 - mse: 77001.1641 - val_loss: 616.2852 - val_mae: 616.2852 - val_mse: 1321908.5000\n",
      "Epoch 40/100\n",
      "18/18 [==============================] - 0s 4ms/step - loss: 112.9476 - mae: 112.9476 - mse: 75703.0781 - val_loss: 609.4990 - val_mae: 609.4990 - val_mse: 1302697.6250\n",
      "Epoch 41/100\n",
      " 1/18 [>.............................] - ETA: 0s - loss: 117.3952 - mae: 117.3952 - mse: 74609.3047INFO:tensorflow:Assets written to: model_experiments\\model_1_dense\\assets\n",
      "18/18 [==============================] - 1s 41ms/step - loss: 111.9874 - mae: 111.9874 - mse: 74964.5547 - val_loss: 603.7141 - val_mae: 603.7141 - val_mse: 1287645.1250\n",
      "Epoch 42/100\n",
      "18/18 [==============================] - 0s 4ms/step - loss: 111.9329 - mae: 111.9329 - mse: 75787.0781 - val_loss: 630.3675 - val_mae: 630.3675 - val_mse: 1321695.3750\n",
      "Epoch 43/100\n",
      "18/18 [==============================] - 0s 5ms/step - loss: 119.9082 - mae: 119.9082 - mse: 80421.8672 - val_loss: 620.4560 - val_mae: 620.4560 - val_mse: 1330648.1250\n",
      "Epoch 44/100\n",
      " 1/18 [>.............................] - ETA: 0s - loss: 90.8850 - mae: 90.8850 - mse: 35814.6914INFO:tensorflow:Assets written to: model_experiments\\model_1_dense\\assets\n",
      "18/18 [==============================] - 1s 33ms/step - loss: 113.0977 - mae: 113.0977 - mse: 76117.1406 - val_loss: 599.8445 - val_mae: 599.8445 - val_mse: 1261054.2500\n",
      "Epoch 45/100\n",
      "18/18 [==============================] - 0s 5ms/step - loss: 110.4809 - mae: 110.4809 - mse: 74147.2734 - val_loss: 602.2426 - val_mae: 602.2426 - val_mse: 1261287.7500\n",
      "Epoch 46/100\n",
      "18/18 [==============================] - 0s 5ms/step - loss: 112.4732 - mae: 112.4732 - mse: 75480.2031 - val_loss: 614.0250 - val_mae: 614.0250 - val_mse: 1281671.0000\n",
      "Epoch 47/100\n",
      "18/18 [==============================] - 0s 4ms/step - loss: 111.8968 - mae: 111.8968 - mse: 73996.2891 - val_loss: 614.5829 - val_mae: 614.5829 - val_mse: 1311872.0000\n",
      "Epoch 48/100\n",
      "18/18 [==============================] - 0s 4ms/step - loss: 110.7774 - mae: 110.7774 - mse: 75556.8750 - val_loss: 622.9408 - val_mae: 622.9408 - val_mse: 1297109.7500\n",
      "Epoch 49/100\n",
      "18/18 [==============================] - 0s 5ms/step - loss: 110.0682 - mae: 110.0682 - mse: 74178.8438 - val_loss: 658.2905 - val_mae: 658.2905 - val_mse: 1372459.0000\n",
      "Epoch 50/100\n",
      "18/18 [==============================] - 0s 4ms/step - loss: 113.7557 - mae: 113.7557 - mse: 76932.2422 - val_loss: 615.9746 - val_mae: 615.9746 - val_mse: 1311553.8750\n",
      "Epoch 51/100\n",
      " 1/18 [>.............................] - ETA: 0s - loss: 137.4869 - mae: 137.4869 - mse: 87183.1797INFO:tensorflow:Assets written to: model_experiments\\model_1_dense\\assets\n",
      "18/18 [==============================] - 1s 33ms/step - loss: 110.9618 - mae: 110.9618 - mse: 73164.1797 - val_loss: 589.2383 - val_mae: 589.2383 - val_mse: 1241557.1250\n",
      "Epoch 52/100\n",
      "18/18 [==============================] - 0s 4ms/step - loss: 111.1352 - mae: 111.1352 - mse: 73252.8281 - val_loss: 609.0522 - val_mae: 609.0522 - val_mse: 1293710.8750\n",
      "Epoch 53/100\n",
      "18/18 [==============================] - 0s 5ms/step - loss: 110.6712 - mae: 110.6712 - mse: 73473.0625 - val_loss: 610.3980 - val_mae: 610.3980 - val_mse: 1265937.2500\n",
      "Epoch 54/100\n",
      "18/18 [==============================] - 0s 4ms/step - loss: 109.9761 - mae: 109.9761 - mse: 71160.1797 - val_loss: 651.5878 - val_mae: 651.5878 - val_mse: 1391724.0000\n",
      "Epoch 55/100\n",
      "18/18 [==============================] - 0s 4ms/step - loss: 116.1261 - mae: 116.1261 - mse: 75618.1875 - val_loss: 642.3725 - val_mae: 642.3725 - val_mse: 1367173.1250\n",
      "Epoch 56/100\n",
      "18/18 [==============================] - 0s 4ms/step - loss: 112.1782 - mae: 112.1782 - mse: 73466.8984 - val_loss: 645.3124 - val_mae: 645.3124 - val_mse: 1373409.2500\n",
      "Epoch 57/100\n",
      "18/18 [==============================] - 0s 4ms/step - loss: 111.4797 - mae: 111.4797 - mse: 74882.0234 - val_loss: 606.6868 - val_mae: 606.6868 - val_mse: 1255372.8750\n",
      "Epoch 58/100\n",
      "18/18 [==============================] - 0s 5ms/step - loss: 109.3210 - mae: 109.3210 - mse: 72295.1406 - val_loss: 608.4908 - val_mae: 608.4908 - val_mse: 1257817.5000\n",
      "Epoch 59/100\n",
      "18/18 [==============================] - 0s 5ms/step - loss: 113.3875 - mae: 113.3875 - mse: 74301.8594 - val_loss: 687.6479 - val_mae: 687.6479 - val_mse: 1486355.6250\n",
      "Epoch 60/100\n",
      "18/18 [==============================] - 0s 6ms/step - loss: 123.5508 - mae: 123.5508 - mse: 79339.7109 - val_loss: 653.4988 - val_mae: 653.4988 - val_mse: 1390466.3750\n",
      "Epoch 61/100\n",
      "18/18 [==============================] - 0s 4ms/step - loss: 119.0901 - mae: 119.0901 - mse: 76973.0000 - val_loss: 597.5568 - val_mae: 597.5568 - val_mse: 1236373.3750\n",
      "Epoch 62/100\n",
      "18/18 [==============================] - 0s 4ms/step - loss: 116.2163 - mae: 116.2163 - mse: 77650.3438 - val_loss: 644.1436 - val_mae: 644.1436 - val_mse: 1332671.3750\n",
      "Epoch 63/100\n",
      "18/18 [==============================] - 0s 4ms/step - loss: 120.3185 - mae: 120.3185 - mse: 79225.2109 - val_loss: 705.9066 - val_mae: 705.9066 - val_mse: 1483712.8750\n",
      "Epoch 64/100\n",
      " 1/18 [>.............................] - ETA: 0s - loss: 113.8012 - mae: 113.8012 - mse: 51558.9023INFO:tensorflow:Assets written to: model_experiments\\model_1_dense\\assets\n",
      "18/18 [==============================] - 1s 34ms/step - loss: 115.6261 - mae: 115.6261 - mse: 73605.6953 - val_loss: 580.0803 - val_mae: 580.0803 - val_mse: 1213090.8750\n",
      "Epoch 65/100\n",
      "18/18 [==============================] - 0s 4ms/step - loss: 108.1840 - mae: 108.1840 - mse: 71911.5312 - val_loss: 586.7433 - val_mae: 586.7433 - val_mse: 1215112.5000\n",
      "Epoch 66/100\n",
      "18/18 [==============================] - 0s 4ms/step - loss: 107.5778 - mae: 107.5778 - mse: 70519.2188 - val_loss: 598.9057 - val_mae: 598.9057 - val_mse: 1235126.1250\n",
      "Epoch 67/100\n",
      "18/18 [==============================] - 0s 5ms/step - loss: 109.3115 - mae: 109.3115 - mse: 72555.1250 - val_loss: 602.5126 - val_mae: 602.5126 - val_mse: 1240956.5000\n",
      "Epoch 68/100\n",
      "18/18 [==============================] - 0s 8ms/step - loss: 108.3197 - mae: 108.3197 - mse: 70669.9141 - val_loss: 587.8015 - val_mae: 587.8015 - val_mse: 1230388.3750\n",
      "Epoch 69/100\n",
      "18/18 [==============================] - 0s 6ms/step - loss: 108.1383 - mae: 108.1383 - mse: 71350.1797 - val_loss: 590.3060 - val_mae: 590.3060 - val_mse: 1217628.0000\n",
      "Epoch 70/100\n",
      "16/18 [=========================>....] - ETA: 0s - loss: 113.2264 - mae: 113.2264 - mse: 76391.9375INFO:tensorflow:Assets written to: model_experiments\\model_1_dense\\assets\n",
      "18/18 [==============================] - 1s 34ms/step - loss: 112.5549 - mae: 112.5549 - mse: 74579.3359 - val_loss: 579.4527 - val_mae: 579.4527 - val_mse: 1199744.3750\n",
      "Epoch 71/100\n",
      "18/18 [==============================] - 0s 4ms/step - loss: 109.3779 - mae: 109.3779 - mse: 71933.9062 - val_loss: 583.6892 - val_mae: 583.6892 - val_mse: 1221027.3750\n",
      "Epoch 72/100\n",
      " 1/18 [>.............................] - ETA: 0s - loss: 121.1706 - mae: 121.1706 - mse: 129616.4297INFO:tensorflow:Assets written to: model_experiments\\model_1_dense\\assets\n",
      "18/18 [==============================] - 1s 31ms/step - loss: 107.9747 - mae: 107.9747 - mse: 72030.2969 - val_loss: 578.1669 - val_mae: 578.1669 - val_mse: 1197715.2500\n",
      "Epoch 73/100\n",
      "18/18 [==============================] - 0s 4ms/step - loss: 108.6426 - mae: 108.6426 - mse: 72440.1953 - val_loss: 583.2122 - val_mae: 583.2122 - val_mse: 1202529.1250\n",
      "Epoch 74/100\n",
      "18/18 [==============================] - 0s 4ms/step - loss: 108.2609 - mae: 108.2609 - mse: 71868.6953 - val_loss: 595.7450 - val_mae: 595.7450 - val_mse: 1223430.2500\n",
      "Epoch 75/100\n",
      "18/18 [==============================] - 0s 4ms/step - loss: 113.4194 - mae: 113.4194 - mse: 72929.5234 - val_loss: 718.2295 - val_mae: 718.2295 - val_mse: 1564204.0000\n",
      "Epoch 76/100\n",
      " 1/18 [>.............................] - ETA: 0s - loss: 141.5143 - mae: 141.5143 - mse: 87954.9062INFO:tensorflow:Assets written to: model_experiments\\model_1_dense\\assets\n",
      "18/18 [==============================] - 1s 32ms/step - loss: 114.3277 - mae: 114.3277 - mse: 75619.7188 - val_loss: 575.4800 - val_mae: 575.4800 - val_mse: 1196689.2500\n",
      "Epoch 77/100\n",
      "18/18 [==============================] - 0s 5ms/step - loss: 111.2336 - mae: 111.2336 - mse: 71414.8281 - val_loss: 614.3448 - val_mae: 614.3448 - val_mse: 1261845.3750\n",
      "Epoch 78/100\n",
      "17/18 [===========================>..] - ETA: 0s - loss: 110.1573 - mae: 110.1573 - mse: 72373.5625INFO:tensorflow:Assets written to: model_experiments\\model_1_dense\\assets\n",
      "18/18 [==============================] - 1s 33ms/step - loss: 109.0535 - mae: 109.0535 - mse: 70977.2969 - val_loss: 574.8715 - val_mae: 574.8715 - val_mse: 1194033.0000\n",
      "Epoch 79/100\n",
      "18/18 [==============================] - 0s 5ms/step - loss: 111.6052 - mae: 111.6052 - mse: 72943.2969 - val_loss: 585.4155 - val_mae: 585.4155 - val_mse: 1203609.1250\n",
      "Epoch 80/100\n",
      "18/18 [==============================] - 0s 5ms/step - loss: 109.5600 - mae: 109.5600 - mse: 70314.0625 - val_loss: 682.0411 - val_mae: 682.0411 - val_mse: 1413883.8750\n",
      "Epoch 81/100\n",
      "18/18 [==============================] - 0s 8ms/step - loss: 113.8149 - mae: 113.8149 - mse: 76721.4531 - val_loss: 609.4996 - val_mae: 609.4996 - val_mse: 1269705.5000\n",
      "Epoch 82/100\n",
      "12/18 [===================>..........] - ETA: 0s - loss: 106.5600 - mae: 106.5600 - mse: 66499.9141INFO:tensorflow:Assets written to: model_experiments\\model_1_dense\\assets\n",
      "18/18 [==============================] - 1s 39ms/step - loss: 108.0778 - mae: 108.0778 - mse: 71249.5703 - val_loss: 572.9420 - val_mae: 572.9420 - val_mse: 1187458.7500\n",
      "Epoch 83/100\n",
      "18/18 [==============================] - 0s 6ms/step - loss: 107.0427 - mae: 107.0427 - mse: 69825.4844 - val_loss: 603.1336 - val_mae: 603.1336 - val_mse: 1235341.2500\n",
      "Epoch 84/100\n",
      "18/18 [==============================] - 0s 4ms/step - loss: 108.9046 - mae: 108.9046 - mse: 71006.0156 - val_loss: 573.4499 - val_mae: 573.4499 - val_mse: 1190686.3750\n",
      "Epoch 85/100\n",
      "18/18 [==============================] - 0s 6ms/step - loss: 106.4943 - mae: 106.4943 - mse: 71151.7266 - val_loss: 593.9440 - val_mae: 593.9440 - val_mse: 1216873.2500\n",
      "Epoch 86/100\n",
      "18/18 [==============================] - 0s 5ms/step - loss: 107.7657 - mae: 107.7657 - mse: 70886.4453 - val_loss: 573.4719 - val_mae: 573.4719 - val_mse: 1184618.1250\n",
      "Epoch 87/100\n",
      "18/18 [==============================] - 0s 4ms/step - loss: 106.5699 - mae: 106.5699 - mse: 70458.0312 - val_loss: 580.8484 - val_mae: 580.8484 - val_mse: 1192723.8750\n",
      "Epoch 88/100\n",
      "18/18 [==============================] - 0s 4ms/step - loss: 108.1026 - mae: 108.1026 - mse: 70387.1562 - val_loss: 635.8250 - val_mae: 635.8250 - val_mse: 1329698.1250\n",
      "Epoch 89/100\n",
      "18/18 [==============================] - 0s 4ms/step - loss: 106.8276 - mae: 106.8276 - mse: 71217.3047 - val_loss: 593.5299 - val_mae: 593.5299 - val_mse: 1215745.1250\n",
      "Epoch 90/100\n",
      "18/18 [==============================] - 0s 5ms/step - loss: 110.7503 - mae: 110.7503 - mse: 72174.9453 - val_loss: 579.5699 - val_mae: 579.5699 - val_mse: 1189467.5000\n",
      "Epoch 91/100\n",
      "18/18 [==============================] - 0s 4ms/step - loss: 107.6671 - mae: 107.6671 - mse: 69483.8984 - val_loss: 645.6282 - val_mae: 645.6282 - val_mse: 1350933.0000\n",
      "Epoch 92/100\n",
      "18/18 [==============================] - 0s 4ms/step - loss: 109.7847 - mae: 109.7847 - mse: 70184.5938 - val_loss: 655.9657 - val_mae: 655.9657 - val_mse: 1376988.5000\n",
      "Epoch 93/100\n",
      " 1/18 [>.............................] - ETA: 0s - loss: 87.6304 - mae: 87.6304 - mse: 43071.0430INFO:tensorflow:Assets written to: model_experiments\\model_1_dense\\assets\n",
      "18/18 [==============================] - 1s 33ms/step - loss: 109.9779 - mae: 109.9779 - mse: 72431.6328 - val_loss: 570.3397 - val_mae: 570.3397 - val_mse: 1180295.0000\n",
      "Epoch 94/100\n",
      "18/18 [==============================] - 0s 6ms/step - loss: 107.6678 - mae: 107.6678 - mse: 70864.4844 - val_loss: 585.1862 - val_mae: 585.1862 - val_mse: 1197673.5000\n",
      "Epoch 95/100\n",
      "18/18 [==============================] - 0s 5ms/step - loss: 106.1289 - mae: 106.1289 - mse: 69972.6328 - val_loss: 586.8936 - val_mae: 586.8936 - val_mse: 1199829.2500\n",
      "Epoch 96/100\n",
      "18/18 [==============================] - 0s 5ms/step - loss: 113.1067 - mae: 113.1067 - mse: 70930.0469 - val_loss: 629.8876 - val_mae: 629.8876 - val_mse: 1314264.2500\n",
      "Epoch 97/100\n",
      "18/18 [==============================] - 0s 4ms/step - loss: 109.7401 - mae: 109.7401 - mse: 72408.8203 - val_loss: 607.0675 - val_mae: 607.0675 - val_mse: 1241094.8750\n",
      "Epoch 98/100\n",
      "18/18 [==============================] - 0s 6ms/step - loss: 107.2840 - mae: 107.2840 - mse: 70765.4453 - val_loss: 623.4980 - val_mae: 623.4980 - val_mse: 1297842.0000\n",
      "Epoch 99/100\n",
      "18/18 [==============================] - 0s 7ms/step - loss: 114.1777 - mae: 114.1777 - mse: 76357.3438 - val_loss: 597.1409 - val_mae: 597.1409 - val_mse: 1219936.2500\n",
      "Epoch 100/100\n",
      "18/18 [==============================] - 0s 7ms/step - loss: 112.5977 - mae: 112.5977 - mse: 73751.7031 - val_loss: 602.2147 - val_mae: 602.2147 - val_mse: 1249616.8750\n"
     ]
    },
    {
     "data": {
      "text/plain": [
       "<keras.callbacks.History at 0x21daaf054b0>"
      ]
     },
     "execution_count": 33,
     "metadata": {},
     "output_type": "execute_result"
    }
   ],
   "source": [
    "from tensorflow.keras import layers\n",
    "\n",
    "# Set random seed for as reproducible results as possible\n",
    "tf.random.set_seed(42)\n",
    "\n",
    "# 1. Construct model\n",
    "model_1 = tf.keras.Sequential([\n",
    "    layers.Dense(128,activation=\"relu\"),\n",
    "    layers.Dense(HORIZON,activation=\"linear\")# linear activation is = No activation\n",
    "    \n",
    "],name=\"model_1_dense\")\n",
    "\n",
    "# 2. Compile\n",
    "model_1.compile(loss=\"mae\",\n",
    "                optimizer=tf.keras.optimizers.Adam(),\n",
    "                metrics=[\"mae\",\"mse\"])\n",
    "\n",
    "# 3. Fit the model\n",
    "\n",
    "model_1.fit(x=train_windows,\n",
    "            y=train_labels,\n",
    "            epochs=100,\n",
    "            verbose=1,\n",
    "            batch_size=128,\n",
    "            validation_data=(test_windows,test_labels),\n",
    "            callbacks=[create_model_checkpoint(model_name=model_1.name)])"
   ]
  },
  {
   "cell_type": "code",
   "execution_count": 34,
   "metadata": {},
   "outputs": [],
   "source": [
    "# # Evaluate model on test data \n",
    "# model_1.evaluate(test_windows,test_labels)"
   ]
  },
  {
   "cell_type": "code",
   "execution_count": 35,
   "metadata": {},
   "outputs": [
    {
     "name": "stdout",
     "output_type": "stream",
     "text": [
      "18/18 [==============================] - 0s 2ms/step - loss: 570.3397 - mae: 570.3397 - mse: 1180294.8750\n"
     ]
    },
    {
     "data": {
      "text/plain": [
       "[570.3397216796875, 570.3397216796875, 1180294.875]"
      ]
     },
     "execution_count": 35,
     "metadata": {},
     "output_type": "execute_result"
    }
   ],
   "source": [
    "# Load in saved best performing model_1 and evalutate it on test data\n",
    "model_1= tf.keras.models.load_model(\"model_experiments/model_1_dense/\")\n",
    "model_1.evaluate(test_windows,test_labels)"
   ]
  },
  {
   "attachments": {},
   "cell_type": "markdown",
   "metadata": {},
   "source": [
    "### Making forecast with a model (on the test dataset)\n"
   ]
  },
  {
   "cell_type": "code",
   "execution_count": 36,
   "metadata": {},
   "outputs": [],
   "source": [
    "def make_preds(model,input_data):\n",
    "    forecast = model.predict(input_data)\n",
    "    return tf.squeeze(forecast)"
   ]
  },
  {
   "cell_type": "code",
   "execution_count": 37,
   "metadata": {},
   "outputs": [
    {
     "data": {
      "text/plain": [
       "(551,\n",
       " <tf.Tensor: shape=(10,), dtype=float32, numpy=\n",
       " array([8753.916 , 8694.882 , 8529.392 , 8478.009 , 8532.248 , 8275.483 ,\n",
       "        8132.823 , 8078.0557, 7702.9907, 7311.7354], dtype=float32)>)"
      ]
     },
     "execution_count": 37,
     "metadata": {},
     "output_type": "execute_result"
    }
   ],
   "source": [
    "# Mkae predictions \n",
    "\n",
    "model_1_preds = make_preds(model_1, test_windows)\n",
    "len(model_1_preds), model_1_preds[:10]"
   ]
  },
  {
   "cell_type": "code",
   "execution_count": 38,
   "metadata": {},
   "outputs": [
    {
     "data": {
      "text/plain": [
       "{'mae': 570.3397,\n",
       " 'mse': 1180294.9,\n",
       " 'rmse': 1086.4137,\n",
       " 'mape': 2.5392227,\n",
       " 'mase': 0.99544233}"
      ]
     },
     "execution_count": 38,
     "metadata": {},
     "output_type": "execute_result"
    }
   ],
   "source": [
    "model_1_results= evaluate_preds(y_true=tf.squeeze(test_labels),y_pred=model_1_preds)\n",
    "model_1_results"
   ]
  },
  {
   "cell_type": "code",
   "execution_count": 39,
   "metadata": {},
   "outputs": [
    {
     "data": {
      "text/plain": [
       "{'mae': 567.9802,\n",
       " 'mse': 1147547.0,\n",
       " 'rmse': 1071.2362,\n",
       " 'mape': 2.516525,\n",
       " 'mase': 0.99957}"
      ]
     },
     "execution_count": 39,
     "metadata": {},
     "output_type": "execute_result"
    }
   ],
   "source": [
    "naive_results"
   ]
  },
  {
   "cell_type": "code",
   "execution_count": 40,
   "metadata": {},
   "outputs": [
    {
     "data": {
      "text/plain": [
       "(551, 1)"
      ]
     },
     "execution_count": 40,
     "metadata": {},
     "output_type": "execute_result"
    }
   ],
   "source": [
    "test_labels.shape"
   ]
  },
  {
   "cell_type": "code",
   "execution_count": 41,
   "metadata": {},
   "outputs": [
    {
     "data": {
      "image/png": "[encoded data removed]",
      "text/plain": [
       "<Figure size 1000x700 with 1 Axes>"
      ]
     },
     "metadata": {},
     "output_type": "display_data"
    }
   ],
   "source": [
    "# Plot model 1 preds\n",
    "offset= 300\n",
    "plt.figure(figsize=(10,7))\n",
    "# Account for the test_window offset and index into test_labels to ensure correct plotting\n",
    "plot_time_series(timesteps=X_test[-len(test_windows):],values=test_labels[:,0],start=offset,label=\"Test_Data\")\n",
    "\n",
    "\n",
    "plot_time_series(timesteps=X_test[-len(test_windows):],\n",
    "                 values=model_1_preds,\n",
    "                 start=offset,\n",
    "                 format=\"-\",\n",
    "                 label=\"model_1_preds\")"
   ]
  },
  {
   "attachments": {},
   "cell_type": "markdown",
   "metadata": {},
   "source": [
    "### Model 2: Dense (window = 30, horizon = 1)"
   ]
  },
  {
   "cell_type": "code",
   "execution_count": 42,
   "metadata": {},
   "outputs": [],
   "source": [
    "HORIZON = 1 # predict next 1 day\n",
    "WINDOW_SIZE = 30 # use past week of data to predict"
   ]
  },
  {
   "cell_type": "code",
   "execution_count": 43,
   "metadata": {},
   "outputs": [
    {
     "name": "stdout",
     "output_type": "stream",
     "text": [
      "Window indexes:\n",
      " (array([[   0,    1,    2, ...,   28,   29,   30],\n",
      "       [   1,    2,    3, ...,   29,   30,   31],\n",
      "       [   2,    3,    4, ...,   30,   31,   32],\n",
      "       ...,\n",
      "       [2754, 2755, 2756, ..., 2782, 2783, 2784],\n",
      "       [2755, 2756, 2757, ..., 2783, 2784, 2785],\n",
      "       [2756, 2757, 2758, ..., 2784, 2785, 2786]]), (2757, 31))\n"
     ]
    },
    {
     "data": {
      "text/plain": [
       "(2757, 2757)"
      ]
     },
     "execution_count": 43,
     "metadata": {},
     "output_type": "execute_result"
    }
   ],
   "source": [
    "full_windows,full_labels = make_windows(prices,window_size=WINDOW_SIZE,horizon=HORIZON)\n",
    "\n",
    "len(full_windows),len(full_labels)"
   ]
  },
  {
   "cell_type": "code",
   "execution_count": 44,
   "metadata": {},
   "outputs": [
    {
     "data": {
      "text/plain": [
       "(2229, 528, 2229, 528)"
      ]
     },
     "execution_count": 44,
     "metadata": {},
     "output_type": "execute_result"
    }
   ],
   "source": [
    "# Create train and test windows \n",
    "train_windows,test_windows,train_labels,test_labels=make_train_test_splits(full_windows,\n",
    "                                    full_labels,\n",
    "                                    test_split=0.2)\n",
    "len(train_windows), len(test_windows), len(train_labels), len(test_labels)"
   ]
  },
  {
   "cell_type": "code",
   "execution_count": 45,
   "metadata": {},
   "outputs": [
    {
     "name": "stdout",
     "output_type": "stream",
     "text": [
      "Epoch 1/100\n",
      "16/18 [=========================>....] - ETA: 0s - loss: 1102.5787 - mae: 1102.5787 - mse: 4851099.0000 INFO:tensorflow:Assets written to: model_experiments\\model_2_dense\\assets\n",
      "18/18 [==============================] - 1s 41ms/step - loss: 1064.9371 - mae: 1064.9371 - mse: 4542821.5000 - val_loss: 2895.4021 - val_mae: 2895.4021 - val_mse: 19567448.0000\n",
      "Epoch 2/100\n",
      " 1/18 [>.............................] - ETA: 0s - loss: 463.2709 - mae: 463.2709 - mse: 906918.6250INFO:tensorflow:Assets written to: model_experiments\\model_2_dense\\assets\n",
      "18/18 [==============================] - 1s 36ms/step - loss: 420.6906 - mae: 420.6906 - mse: 778456.2500 - val_loss: 1432.5330 - val_mae: 1432.5330 - val_mse: 6157843.5000\n",
      "Epoch 3/100\n",
      "16/18 [=========================>....] - ETA: 0s - loss: 270.5724 - mae: 270.5724 - mse: 342780.4375INFO:tensorflow:Assets written to: model_experiments\\model_2_dense\\assets\n",
      "18/18 [==============================] - 1s 50ms/step - loss: 273.6108 - mae: 273.6108 - mse: 341361.1250 - val_loss: 1184.9758 - val_mae: 1184.9758 - val_mse: 4246033.5000\n",
      "Epoch 4/100\n",
      "18/18 [==============================] - 0s 6ms/step - loss: 229.8811 - mae: 229.8811 - mse: 233569.3281 - val_loss: 1460.8365 - val_mae: 1460.8365 - val_mse: 5247291.5000\n",
      "Epoch 5/100\n",
      "15/18 [========================>.....] - ETA: 0s - loss: 191.4885 - mae: 191.4885 - mse: 178841.0781INFO:tensorflow:Assets written to: model_experiments\\model_2_dense\\assets\n",
      "18/18 [==============================] - 1s 48ms/step - loss: 187.4495 - mae: 187.4495 - mse: 170886.5312 - val_loss: 1086.8778 - val_mae: 1086.8778 - val_mse: 3473265.7500\n",
      "Epoch 6/100\n",
      "18/18 [==============================] - 0s 8ms/step - loss: 177.0795 - mae: 177.0795 - mse: 156294.8125 - val_loss: 1089.1492 - val_mae: 1089.1492 - val_mse: 3371639.5000\n",
      "Epoch 7/100\n",
      "16/18 [=========================>....] - ETA: 0s - loss: 169.1695 - mae: 169.1695 - mse: 139161.1094INFO:tensorflow:Assets written to: model_experiments\\model_2_dense\\assets\n",
      "18/18 [==============================] - 1s 36ms/step - loss: 170.9640 - mae: 170.9640 - mse: 144594.7656 - val_loss: 983.6304 - val_mae: 983.6304 - val_mse: 3016025.5000\n",
      "Epoch 8/100\n",
      "15/18 [========================>.....] - ETA: 0s - loss: 183.6631 - mae: 183.6631 - mse: 159583.8281INFO:tensorflow:Assets written to: model_experiments\\model_2_dense\\assets\n",
      "18/18 [==============================] - 1s 36ms/step - loss: 182.6023 - mae: 182.6023 - mse: 156896.2969 - val_loss: 935.4727 - val_mae: 935.4727 - val_mse: 2877095.7500\n",
      "Epoch 9/100\n",
      "18/18 [==============================] - 0s 6ms/step - loss: 164.0429 - mae: 164.0429 - mse: 134665.9844 - val_loss: 1033.9595 - val_mae: 1033.9595 - val_mse: 3448076.5000\n",
      "Epoch 10/100\n",
      "16/18 [=========================>....] - ETA: 0s - loss: 166.2401 - mae: 166.2401 - mse: 136566.5000INFO:tensorflow:Assets written to: model_experiments\\model_2_dense\\assets\n",
      "18/18 [==============================] - 1s 35ms/step - loss: 168.8403 - mae: 168.8403 - mse: 138113.7500 - val_loss: 906.0308 - val_mae: 906.0308 - val_mse: 2627429.5000\n",
      "Epoch 11/100\n",
      "18/18 [==============================] - 0s 5ms/step - loss: 172.7800 - mae: 172.7800 - mse: 135957.9375 - val_loss: 931.7002 - val_mae: 931.7002 - val_mse: 2808877.0000\n",
      "Epoch 12/100\n",
      "18/18 [==============================] - 0s 4ms/step - loss: 160.7787 - mae: 160.7787 - mse: 127732.2969 - val_loss: 1015.3550 - val_mae: 1015.3550 - val_mse: 2901337.7500\n",
      "Epoch 13/100\n",
      "18/18 [==============================] - 0s 4ms/step - loss: 169.7235 - mae: 169.7235 - mse: 133612.8906 - val_loss: 1044.3383 - val_mae: 1044.3383 - val_mse: 2982004.5000\n",
      "Epoch 14/100\n",
      " 1/18 [>.............................] - ETA: 0s - loss: 183.7008 - mae: 183.7008 - mse: 142311.4219INFO:tensorflow:Assets written to: model_experiments\\model_2_dense\\assets\n",
      "18/18 [==============================] - 1s 34ms/step - loss: 192.4087 - mae: 192.4087 - mse: 156852.7500 - val_loss: 885.9869 - val_mae: 885.9869 - val_mse: 2416387.2500\n",
      "Epoch 15/100\n",
      "18/18 [==============================] - 0s 5ms/step - loss: 189.9826 - mae: 189.9826 - mse: 156180.6406 - val_loss: 988.7979 - val_mae: 988.7979 - val_mse: 3064580.0000\n",
      "Epoch 16/100\n",
      "18/18 [==============================] - 0s 5ms/step - loss: 164.9865 - mae: 164.9865 - mse: 128392.7578 - val_loss: 922.7158 - val_mae: 922.7158 - val_mse: 2491623.7500\n",
      "Epoch 17/100\n",
      "17/18 [===========================>..] - ETA: 0s - loss: 186.0852 - mae: 186.0852 - mse: 148105.3594INFO:tensorflow:Assets written to: model_experiments\\model_2_dense\\assets\n",
      "18/18 [==============================] - 1s 35ms/step - loss: 187.5363 - mae: 187.5363 - mse: 149220.3750 - val_loss: 834.2384 - val_mae: 834.2384 - val_mse: 2265963.0000\n",
      "Epoch 18/100\n",
      "18/18 [==============================] - 0s 5ms/step - loss: 169.5688 - mae: 169.5688 - mse: 131214.5312 - val_loss: 870.1907 - val_mae: 870.1907 - val_mse: 2481332.0000\n",
      "Epoch 19/100\n",
      "18/18 [==============================] - 0s 5ms/step - loss: 155.0068 - mae: 155.0068 - mse: 113846.5547 - val_loss: 887.0562 - val_mae: 887.0562 - val_mse: 2359252.2500\n",
      "Epoch 20/100\n",
      "18/18 [==============================] - 0s 8ms/step - loss: 165.0776 - mae: 165.0776 - mse: 122267.9219 - val_loss: 1051.2747 - val_mae: 1051.2747 - val_mse: 2945328.0000\n",
      "Epoch 21/100\n",
      "18/18 [==============================] - 0s 7ms/step - loss: 162.7720 - mae: 162.7720 - mse: 122324.7266 - val_loss: 1041.5153 - val_mae: 1041.5153 - val_mse: 2896163.5000\n",
      "Epoch 22/100\n",
      "18/18 [==============================] - 0s 6ms/step - loss: 151.0693 - mae: 151.0693 - mse: 113012.1016 - val_loss: 913.3750 - val_mae: 913.3750 - val_mse: 2688303.5000\n",
      "Epoch 23/100\n",
      "18/18 [==============================] - 0s 6ms/step - loss: 147.0813 - mae: 147.0813 - mse: 110462.8047 - val_loss: 835.9612 - val_mae: 835.9612 - val_mse: 2175121.2500\n",
      "Epoch 24/100\n",
      "18/18 [==============================] - 0s 5ms/step - loss: 162.0511 - mae: 162.0511 - mse: 124690.8750 - val_loss: 884.6105 - val_mae: 884.6105 - val_mse: 2537914.5000\n",
      "Epoch 25/100\n",
      "18/18 [==============================] - 0s 5ms/step - loss: 176.2833 - mae: 176.2833 - mse: 133077.3125 - val_loss: 850.7974 - val_mae: 850.7974 - val_mse: 2377437.5000\n",
      "Epoch 26/100\n",
      "16/18 [=========================>....] - ETA: 0s - loss: 146.9112 - mae: 146.9112 - mse: 105932.6641INFO:tensorflow:Assets written to: model_experiments\\model_2_dense\\assets\n",
      "18/18 [==============================] - 1s 45ms/step - loss: 143.5974 - mae: 143.5974 - mse: 102042.1250 - val_loss: 810.0975 - val_mae: 810.0975 - val_mse: 2070136.7500\n",
      "Epoch 27/100\n",
      " 1/18 [>.............................] - ETA: 0s - loss: 105.6601 - mae: 105.6601 - mse: 102873.5547INFO:tensorflow:Assets written to: model_experiments\\model_2_dense\\assets\n",
      "18/18 [==============================] - 1s 34ms/step - loss: 140.0324 - mae: 140.0324 - mse: 100662.2344 - val_loss: 780.5616 - val_mae: 780.5616 - val_mse: 2017407.6250\n",
      "Epoch 28/100\n",
      "18/18 [==============================] - 0s 8ms/step - loss: 142.1101 - mae: 142.1101 - mse: 104026.8438 - val_loss: 1101.2078 - val_mae: 1101.2078 - val_mse: 3525827.5000\n",
      "Epoch 29/100\n",
      "18/18 [==============================] - 0s 4ms/step - loss: 159.4045 - mae: 159.4045 - mse: 118442.7812 - val_loss: 800.5068 - val_mae: 800.5068 - val_mse: 2160447.0000\n",
      "Epoch 30/100\n",
      " 1/18 [>.............................] - ETA: 0s - loss: 139.0831 - mae: 139.0831 - mse: 72194.6328INFO:tensorflow:Assets written to: model_experiments\\model_2_dense\\assets\n",
      "18/18 [==============================] - 1s 33ms/step - loss: 150.2914 - mae: 150.2914 - mse: 107900.1406 - val_loss: 769.2903 - val_mae: 769.2903 - val_mse: 1941460.0000\n",
      "Epoch 31/100\n",
      "18/18 [==============================] - 0s 6ms/step - loss: 153.2517 - mae: 153.2517 - mse: 112073.9453 - val_loss: 777.3864 - val_mae: 777.3864 - val_mse: 1943692.3750\n",
      "Epoch 32/100\n",
      "18/18 [==============================] - 0s 5ms/step - loss: 134.6387 - mae: 134.6387 - mse: 94864.1562 - val_loss: 786.8388 - val_mae: 786.8388 - val_mse: 2071297.2500\n",
      "Epoch 33/100\n",
      "18/18 [==============================] - 0s 5ms/step - loss: 133.5771 - mae: 133.5771 - mse: 94258.5391 - val_loss: 810.9657 - val_mae: 810.9657 - val_mse: 2023720.7500\n",
      "Epoch 34/100\n",
      "18/18 [==============================] - 0s 4ms/step - loss: 136.6800 - mae: 136.6800 - mse: 96305.9609 - val_loss: 826.9374 - val_mae: 826.9374 - val_mse: 2060270.2500\n",
      "Epoch 35/100\n",
      " 1/18 [>.............................] - ETA: 0s - loss: 161.0995 - mae: 161.0995 - mse: 108077.2500INFO:tensorflow:Assets written to: model_experiments\\model_2_dense\\assets\n",
      "18/18 [==============================] - 1s 34ms/step - loss: 134.8071 - mae: 134.8071 - mse: 93621.8281 - val_loss: 748.2480 - val_mae: 748.2480 - val_mse: 1887519.0000\n",
      "Epoch 36/100\n",
      " 1/18 [>.............................] - ETA: 0s - loss: 128.8144 - mae: 128.8144 - mse: 84677.6484INFO:tensorflow:Assets written to: model_experiments\\model_2_dense\\assets\n",
      "18/18 [==============================] - 1s 34ms/step - loss: 143.1591 - mae: 143.1591 - mse: 103877.9062 - val_loss: 741.1205 - val_mae: 741.1205 - val_mse: 1855828.3750\n",
      "Epoch 37/100\n",
      "18/18 [==============================] - 0s 6ms/step - loss: 136.7878 - mae: 136.7878 - mse: 97374.9766 - val_loss: 751.7603 - val_mae: 751.7603 - val_mse: 1881438.3750\n",
      "Epoch 38/100\n",
      "18/18 [==============================] - ETA: 0s - loss: 138.4504 - mae: 138.4504 - mse: 94649.7969INFO:tensorflow:Assets written to: model_experiments\\model_2_dense\\assets\n",
      "18/18 [==============================] - 1s 37ms/step - loss: 138.4504 - mae: 138.4504 - mse: 94649.7969 - val_loss: 731.4844 - val_mae: 731.4844 - val_mse: 1795087.2500\n",
      "Epoch 39/100\n",
      "18/18 [==============================] - 0s 4ms/step - loss: 129.6610 - mae: 129.6610 - mse: 90934.3047 - val_loss: 796.5801 - val_mae: 796.5801 - val_mse: 1934841.5000\n",
      "Epoch 40/100\n",
      "18/18 [==============================] - 0s 5ms/step - loss: 140.3316 - mae: 140.3316 - mse: 97324.5469 - val_loss: 734.5189 - val_mae: 734.5189 - val_mse: 1806712.5000\n",
      "Epoch 41/100\n",
      "18/18 [==============================] - 0s 5ms/step - loss: 144.3356 - mae: 144.3356 - mse: 97238.4297 - val_loss: 918.8890 - val_mae: 918.8890 - val_mse: 2316708.2500\n",
      "Epoch 42/100\n",
      "18/18 [==============================] - 0s 5ms/step - loss: 139.2294 - mae: 139.2294 - mse: 99953.9141 - val_loss: 747.9592 - val_mae: 747.9592 - val_mse: 1787155.6250\n",
      "Epoch 43/100\n",
      "18/18 [==============================] - 0s 4ms/step - loss: 130.7943 - mae: 130.7943 - mse: 91521.0000 - val_loss: 776.4183 - val_mae: 776.4183 - val_mse: 1849369.2500\n",
      "Epoch 44/100\n",
      "18/18 [==============================] - 0s 4ms/step - loss: 141.8733 - mae: 141.8733 - mse: 100946.4844 - val_loss: 776.6177 - val_mae: 776.6177 - val_mse: 1850330.2500\n",
      "Epoch 45/100\n",
      " 1/18 [>.............................] - ETA: 0s - loss: 135.3073 - mae: 135.3073 - mse: 84315.9062INFO:tensorflow:Assets written to: model_experiments\\model_2_dense\\assets\n",
      "18/18 [==============================] - 1s 32ms/step - loss: 131.2552 - mae: 131.2552 - mse: 90422.1484 - val_loss: 706.6652 - val_mae: 706.6652 - val_mse: 1669689.0000\n",
      "Epoch 46/100\n",
      "18/18 [==============================] - 0s 5ms/step - loss: 129.4550 - mae: 129.4550 - mse: 88958.4141 - val_loss: 713.4582 - val_mae: 713.4582 - val_mse: 1702718.0000\n",
      "Epoch 47/100\n",
      "18/18 [==============================] - ETA: 0s - loss: 131.5909 - mae: 131.5909 - mse: 91647.6641INFO:tensorflow:Assets written to: model_experiments\\model_2_dense\\assets\n",
      "18/18 [==============================] - 1s 42ms/step - loss: 131.5909 - mae: 131.5909 - mse: 91647.6641 - val_loss: 703.7694 - val_mae: 703.7694 - val_mse: 1667437.8750\n",
      "Epoch 48/100\n",
      "18/18 [==============================] - 0s 5ms/step - loss: 128.4193 - mae: 128.4193 - mse: 88329.3594 - val_loss: 769.0907 - val_mae: 769.0907 - val_mse: 1809953.5000\n",
      "Epoch 49/100\n",
      " 1/18 [>.............................] - ETA: 0s - loss: 173.7091 - mae: 173.7091 - mse: 175318.1719INFO:tensorflow:Assets written to: model_experiments\\model_2_dense\\assets\n",
      "18/18 [==============================] - 1s 33ms/step - loss: 151.2532 - mae: 151.2532 - mse: 103874.9609 - val_loss: 693.6541 - val_mae: 693.6541 - val_mse: 1611082.5000\n",
      "Epoch 50/100\n",
      "18/18 [==============================] - 0s 4ms/step - loss: 151.2404 - mae: 151.2404 - mse: 107086.1016 - val_loss: 1484.8694 - val_mae: 1484.8694 - val_mse: 4807718.5000\n",
      "Epoch 51/100\n",
      "18/18 [==============================] - 0s 4ms/step - loss: 165.1468 - mae: 165.1468 - mse: 115574.6016 - val_loss: 937.9166 - val_mae: 937.9166 - val_mse: 2326428.5000\n",
      "Epoch 52/100\n",
      "18/18 [==============================] - 0s 4ms/step - loss: 135.7678 - mae: 135.7678 - mse: 93265.0547 - val_loss: 921.7614 - val_mae: 921.7614 - val_mse: 2476806.7500\n",
      "Epoch 53/100\n",
      "18/18 [==============================] - 0s 4ms/step - loss: 165.5300 - mae: 165.5300 - mse: 121852.0625 - val_loss: 983.7217 - val_mae: 983.7217 - val_mse: 2724803.5000\n",
      "Epoch 54/100\n",
      " 1/18 [>.............................] - ETA: 0s - loss: 176.4809 - mae: 176.4809 - mse: 168555.4375INFO:tensorflow:Assets written to: model_experiments\\model_2_dense\\assets\n",
      "18/18 [==============================] - 1s 42ms/step - loss: 137.1191 - mae: 137.1191 - mse: 94371.8047 - val_loss: 685.3389 - val_mae: 685.3389 - val_mse: 1576098.6250\n",
      "Epoch 55/100\n",
      "18/18 [==============================] - 0s 5ms/step - loss: 128.5621 - mae: 128.5621 - mse: 86648.0938 - val_loss: 792.6865 - val_mae: 792.6865 - val_mse: 1969509.5000\n",
      "Epoch 56/100\n",
      "18/18 [==============================] - 0s 4ms/step - loss: 138.0435 - mae: 138.0435 - mse: 93632.9609 - val_loss: 715.2720 - val_mae: 715.2720 - val_mse: 1640507.8750\n",
      "Epoch 57/100\n",
      " 1/18 [>.............................] - ETA: 0s - loss: 110.2574 - mae: 110.2574 - mse: 70276.8672INFO:tensorflow:Assets written to: model_experiments\\model_2_dense\\assets\n",
      "18/18 [==============================] - 1s 34ms/step - loss: 122.3611 - mae: 122.3611 - mse: 81283.8125 - val_loss: 680.7719 - val_mae: 680.7719 - val_mse: 1555598.6250\n",
      "Epoch 58/100\n",
      "18/18 [==============================] - 0s 9ms/step - loss: 126.7417 - mae: 126.7417 - mse: 84260.2344 - val_loss: 751.3389 - val_mae: 751.3389 - val_mse: 1790980.1250\n",
      "Epoch 59/100\n",
      "18/18 [==============================] - 0s 5ms/step - loss: 141.1645 - mae: 141.1645 - mse: 97585.2031 - val_loss: 1144.9750 - val_mae: 1144.9750 - val_mse: 3162673.5000\n",
      "Epoch 60/100\n",
      "18/18 [==============================] - 0s 4ms/step - loss: 157.9542 - mae: 157.9542 - mse: 110134.9844 - val_loss: 752.7894 - val_mae: 752.7894 - val_mse: 1725195.8750\n",
      "Epoch 61/100\n",
      "18/18 [==============================] - 0s 4ms/step - loss: 126.1024 - mae: 126.1024 - mse: 83254.7031 - val_loss: 834.6036 - val_mae: 834.6036 - val_mse: 2084631.0000\n",
      "Epoch 62/100\n",
      "18/18 [==============================] - 0s 5ms/step - loss: 141.3922 - mae: 141.3922 - mse: 96497.5781 - val_loss: 746.7531 - val_mae: 746.7531 - val_mse: 1689684.8750\n",
      "Epoch 63/100\n",
      "18/18 [==============================] - 0s 5ms/step - loss: 168.1090 - mae: 168.1090 - mse: 124995.4922 - val_loss: 950.6548 - val_mae: 950.6548 - val_mse: 2355702.0000\n",
      "Epoch 64/100\n",
      " 1/18 [>.............................] - ETA: 0s - loss: 164.2072 - mae: 164.2072 - mse: 101623.8281INFO:tensorflow:Assets written to: model_experiments\\model_2_dense\\assets\n",
      "18/18 [==============================] - 1s 34ms/step - loss: 134.0368 - mae: 134.0368 - mse: 86260.7500 - val_loss: 662.1909 - val_mae: 662.1909 - val_mse: 1481090.7500\n",
      "Epoch 65/100\n",
      "18/18 [==============================] - 0s 4ms/step - loss: 134.9810 - mae: 134.9810 - mse: 92456.4297 - val_loss: 791.5867 - val_mae: 791.5867 - val_mse: 1817446.7500\n",
      "Epoch 66/100\n",
      "18/18 [==============================] - 0s 4ms/step - loss: 140.3708 - mae: 140.3708 - mse: 94849.9609 - val_loss: 1247.9564 - val_mae: 1247.9564 - val_mse: 3594723.0000\n",
      "Epoch 67/100\n",
      "18/18 [==============================] - 0s 5ms/step - loss: 152.4943 - mae: 152.4943 - mse: 104861.9297 - val_loss: 739.6097 - val_mae: 739.6097 - val_mse: 1665205.8750\n",
      "Epoch 68/100\n",
      "18/18 [==============================] - 0s 5ms/step - loss: 189.5479 - mae: 189.5479 - mse: 138678.2500 - val_loss: 794.3822 - val_mae: 794.3822 - val_mse: 1817234.6250\n",
      "Epoch 69/100\n",
      "18/18 [==============================] - 0s 4ms/step - loss: 126.3938 - mae: 126.3938 - mse: 83152.4453 - val_loss: 670.2980 - val_mae: 670.2980 - val_mse: 1507091.6250\n",
      "Epoch 70/100\n",
      "18/18 [==============================] - 0s 4ms/step - loss: 122.7645 - mae: 122.7645 - mse: 80187.8516 - val_loss: 770.7723 - val_mae: 770.7723 - val_mse: 1748563.1250\n",
      "Epoch 71/100\n",
      " 1/18 [>.............................] - ETA: 0s - loss: 135.4834 - mae: 135.4834 - mse: 75053.4609INFO:tensorflow:Assets written to: model_experiments\\model_2_dense\\assets\n",
      "18/18 [==============================] - 1s 32ms/step - loss: 121.9921 - mae: 121.9921 - mse: 80942.2500 - val_loss: 653.6725 - val_mae: 653.6725 - val_mse: 1442098.3750\n",
      "Epoch 72/100\n",
      "18/18 [==============================] - 0s 4ms/step - loss: 121.2556 - mae: 121.2556 - mse: 79851.8906 - val_loss: 673.0732 - val_mae: 673.0732 - val_mse: 1487626.8750\n",
      "Epoch 73/100\n",
      "18/18 [==============================] - 0s 4ms/step - loss: 127.7748 - mae: 127.7748 - mse: 87024.3906 - val_loss: 872.7621 - val_mae: 872.7621 - val_mse: 2065357.8750\n",
      "Epoch 74/100\n",
      "18/18 [==============================] - 0s 4ms/step - loss: 136.8233 - mae: 136.8233 - mse: 89369.2812 - val_loss: 877.6893 - val_mae: 877.6893 - val_mse: 2082024.7500\n",
      "Epoch 75/100\n",
      "18/18 [==============================] - 0s 4ms/step - loss: 126.2129 - mae: 126.2129 - mse: 82033.7266 - val_loss: 715.2910 - val_mae: 715.2910 - val_mse: 1584825.2500\n",
      "Epoch 76/100\n",
      "18/18 [==============================] - 0s 4ms/step - loss: 122.1867 - mae: 122.1867 - mse: 78434.5156 - val_loss: 663.6558 - val_mae: 663.6558 - val_mse: 1471620.0000\n",
      "Epoch 77/100\n",
      "18/18 [==============================] - 0s 4ms/step - loss: 119.0560 - mae: 119.0560 - mse: 77809.5859 - val_loss: 661.4525 - val_mae: 661.4525 - val_mse: 1452419.1250\n",
      "Epoch 78/100\n",
      " 1/18 [>.............................] - ETA: 0s - loss: 128.1077 - mae: 128.1077 - mse: 77204.3438INFO:tensorflow:Assets written to: model_experiments\\model_2_dense\\assets\n",
      "18/18 [==============================] - 1s 32ms/step - loss: 118.9473 - mae: 118.9473 - mse: 77595.3984 - val_loss: 642.5730 - val_mae: 642.5730 - val_mse: 1394197.0000\n",
      "Epoch 79/100\n",
      " 1/18 [>.............................] - ETA: 0s - loss: 116.2467 - mae: 116.2467 - mse: 91828.9375INFO:tensorflow:Assets written to: model_experiments\\model_2_dense\\assets\n",
      "18/18 [==============================] - 1s 34ms/step - loss: 117.3582 - mae: 117.3582 - mse: 76783.9297 - val_loss: 640.1149 - val_mae: 640.1149 - val_mse: 1394118.0000\n",
      "Epoch 80/100\n",
      "18/18 [==============================] - 0s 5ms/step - loss: 120.5200 - mae: 120.5200 - mse: 78429.6406 - val_loss: 751.1138 - val_mae: 751.1138 - val_mse: 1748642.1250\n",
      "Epoch 81/100\n",
      "18/18 [==============================] - 0s 5ms/step - loss: 120.4674 - mae: 120.4674 - mse: 78094.7031 - val_loss: 888.3124 - val_mae: 888.3124 - val_mse: 2104812.2500\n",
      "Epoch 82/100\n",
      "18/18 [==============================] - 0s 5ms/step - loss: 122.4155 - mae: 122.4155 - mse: 83556.3828 - val_loss: 642.6096 - val_mae: 642.6096 - val_mse: 1410232.5000\n",
      "Epoch 83/100\n",
      "18/18 [==============================] - 0s 4ms/step - loss: 132.1548 - mae: 132.1548 - mse: 85246.2266 - val_loss: 683.7403 - val_mae: 683.7403 - val_mse: 1482222.5000\n",
      "Epoch 84/100\n",
      "18/18 [==============================] - 0s 4ms/step - loss: 117.0319 - mae: 117.0319 - mse: 76408.2031 - val_loss: 643.4931 - val_mae: 643.4931 - val_mse: 1410485.1250\n",
      "Epoch 85/100\n",
      " 1/18 [>.............................] - ETA: 0s - loss: 129.8275 - mae: 129.8275 - mse: 82722.0391INFO:tensorflow:Assets written to: model_experiments\\model_2_dense\\assets\n",
      "18/18 [==============================] - 1s 34ms/step - loss: 136.6155 - mae: 136.6155 - mse: 84774.5000 - val_loss: 634.7874 - val_mae: 634.7874 - val_mse: 1372774.5000\n",
      "Epoch 86/100\n",
      "18/18 [==============================] - 0s 9ms/step - loss: 121.9995 - mae: 121.9995 - mse: 77952.0156 - val_loss: 809.4042 - val_mae: 809.4042 - val_mse: 1831303.0000\n",
      "Epoch 87/100\n",
      "17/18 [===========================>..] - ETA: 0s - loss: 124.6607 - mae: 124.6607 - mse: 82175.0781INFO:tensorflow:Assets written to: model_experiments\\model_2_dense\\assets\n",
      "18/18 [==============================] - 1s 37ms/step - loss: 123.8977 - mae: 123.8977 - mse: 81038.5156 - val_loss: 630.8035 - val_mae: 630.8035 - val_mse: 1354822.0000\n",
      "Epoch 88/100\n",
      "18/18 [==============================] - 0s 4ms/step - loss: 122.6204 - mae: 122.6204 - mse: 81947.2422 - val_loss: 652.6731 - val_mae: 652.6731 - val_mse: 1403660.2500\n",
      "Epoch 89/100\n",
      "18/18 [==============================] - 0s 5ms/step - loss: 120.9837 - mae: 120.9837 - mse: 78711.2891 - val_loss: 759.9016 - val_mae: 759.9016 - val_mse: 1670879.5000\n",
      "Epoch 90/100\n",
      "18/18 [==============================] - 0s 4ms/step - loss: 143.4326 - mae: 143.4326 - mse: 92405.2812 - val_loss: 1008.8436 - val_mae: 1008.8436 - val_mse: 2726227.2500\n",
      "Epoch 91/100\n",
      "18/18 [==============================] - 0s 4ms/step - loss: 181.4668 - mae: 181.4668 - mse: 127176.2422 - val_loss: 990.6970 - val_mae: 990.6970 - val_mse: 2486230.7500\n",
      "Epoch 92/100\n",
      "18/18 [==============================] - 0s 5ms/step - loss: 151.3152 - mae: 151.3152 - mse: 96286.3203 - val_loss: 1081.1157 - val_mae: 1081.1157 - val_mse: 2838469.0000\n",
      "Epoch 93/100\n",
      "18/18 [==============================] - 0s 4ms/step - loss: 158.4252 - mae: 158.4252 - mse: 108326.3750 - val_loss: 983.6758 - val_mae: 983.6758 - val_mse: 2459522.0000\n",
      "Epoch 94/100\n",
      "18/18 [==============================] - 0s 4ms/step - loss: 128.5914 - mae: 128.5914 - mse: 84639.8281 - val_loss: 707.7867 - val_mae: 707.7867 - val_mse: 1539479.5000\n",
      "Epoch 95/100\n",
      "18/18 [==============================] - 0s 4ms/step - loss: 141.7894 - mae: 141.7894 - mse: 90010.9922 - val_loss: 738.5179 - val_mae: 738.5179 - val_mse: 1617358.3750\n",
      "Epoch 96/100\n",
      "18/18 [==============================] - 0s 4ms/step - loss: 126.5149 - mae: 126.5149 - mse: 81435.2344 - val_loss: 759.6533 - val_mae: 759.6533 - val_mse: 1754766.6250\n",
      "Epoch 97/100\n",
      "18/18 [==============================] - 0s 4ms/step - loss: 123.1005 - mae: 123.1005 - mse: 79678.5859 - val_loss: 790.8176 - val_mae: 790.8176 - val_mse: 1857339.8750\n",
      "Epoch 98/100\n",
      "18/18 [==============================] - 0s 4ms/step - loss: 122.4192 - mae: 122.4192 - mse: 79879.2578 - val_loss: 818.2843 - val_mae: 818.2843 - val_mse: 1860036.6250\n",
      "Epoch 99/100\n",
      "18/18 [==============================] - 0s 4ms/step - loss: 127.3484 - mae: 127.3484 - mse: 82768.9062 - val_loss: 674.2846 - val_mae: 674.2846 - val_mse: 1455786.6250\n",
      "Epoch 100/100\n",
      "18/18 [==============================] - 0s 4ms/step - loss: 119.8792 - mae: 119.8792 - mse: 76688.4922 - val_loss: 632.3493 - val_mae: 632.3493 - val_mse: 1350409.0000\n"
     ]
    },
    {
     "data": {
      "text/plain": [
       "<keras.callbacks.History at 0x21e88e2e0b0>"
      ]
     },
     "execution_count": 45,
     "metadata": {},
     "output_type": "execute_result"
    }
   ],
   "source": [
    "from tensorflow.keras import layers\n",
    "\n",
    "# Set random seed for as reproducible results as possible\n",
    "tf.random.set_seed(42)\n",
    "\n",
    "# 1. Construct model\n",
    "model_2 = tf.keras.Sequential([\n",
    "    layers.Dense(128,activation=\"relu\"),\n",
    "    layers.Dense(HORIZON,activation=\"linear\")# linear activation is = No activation\n",
    "    \n",
    "],name=\"model_2_dense\")\n",
    "\n",
    "# 2. Compile\n",
    "model_2.compile(loss=\"mae\",\n",
    "                optimizer=tf.keras.optimizers.Adam(),\n",
    "                metrics=[\"mae\",\"mse\"])\n",
    "\n",
    "# 3. Fit the model\n",
    "\n",
    "model_2.fit(x=train_windows,\n",
    "            y=train_labels,\n",
    "            epochs=100,\n",
    "            verbose=1,\n",
    "            batch_size=128,\n",
    "            validation_data=(test_windows,test_labels),\n",
    "            callbacks=[create_model_checkpoint(model_name=model_2.name)])"
   ]
  },
  {
   "cell_type": "code",
   "execution_count": 46,
   "metadata": {},
   "outputs": [
    {
     "name": "stdout",
     "output_type": "stream",
     "text": [
      "17/17 [==============================] - 0s 2ms/step - loss: 632.3493 - mae: 632.3493 - mse: 1350409.2500\n"
     ]
    },
    {
     "data": {
      "text/plain": [
       "[632.3493041992188, 632.3493041992188, 1350409.25]"
      ]
     },
     "execution_count": 46,
     "metadata": {},
     "output_type": "execute_result"
    }
   ],
   "source": [
    "model_2.evaluate(test_windows,test_labels)"
   ]
  },
  {
   "cell_type": "code",
   "execution_count": 47,
   "metadata": {},
   "outputs": [
    {
     "name": "stdout",
     "output_type": "stream",
     "text": [
      "17/17 [==============================] - 0s 2ms/step - loss: 630.8035 - mae: 630.8035 - mse: 1354822.0000\n"
     ]
    },
    {
     "data": {
      "text/plain": [
       "[630.803466796875, 630.803466796875, 1354822.0]"
      ]
     },
     "execution_count": 47,
     "metadata": {},
     "output_type": "execute_result"
    }
   ],
   "source": [
    "# Load in saved best performing model_1 and evalutate it on test data\n",
    "model_2= tf.keras.models.load_model(\"model_experiments/model_2_dense/\")\n",
    "model_2.evaluate(test_windows,test_labels)"
   ]
  },
  {
   "cell_type": "code",
   "execution_count": 48,
   "metadata": {},
   "outputs": [],
   "source": [
    "# Get forecast predictions \n",
    "model_2_preds =make_preds(model_2,\n",
    "                          input_data=test_windows)"
   ]
  },
  {
   "cell_type": "code",
   "execution_count": 49,
   "metadata": {},
   "outputs": [
    {
     "data": {
      "text/plain": [
       "{'mae': 630.8034,\n",
       " 'mse': 1354821.9,\n",
       " 'rmse': 1163.9681,\n",
       " 'mape': 2.779669,\n",
       " 'mase': 1.0676835}"
      ]
     },
     "execution_count": 49,
     "metadata": {},
     "output_type": "execute_result"
    }
   ],
   "source": [
    "# Evaluate results for model 2 predictions \n",
    "model_2_results = evaluate_preds(y_true=tf.squeeze(test_labels),\n",
    "                                 y_pred=model_2_preds)\n",
    "model_2_results"
   ]
  },
  {
   "cell_type": "code",
   "execution_count": 50,
   "metadata": {},
   "outputs": [
    {
     "data": {
      "text/plain": [
       "{'mae': 570.3397,\n",
       " 'mse': 1180294.9,\n",
       " 'rmse': 1086.4137,\n",
       " 'mape': 2.5392227,\n",
       " 'mase': 0.99544233}"
      ]
     },
     "execution_count": 50,
     "metadata": {},
     "output_type": "execute_result"
    }
   ],
   "source": [
    "model_1_results"
   ]
  },
  {
   "cell_type": "code",
   "execution_count": 51,
   "metadata": {},
   "outputs": [
    {
     "data": {
      "text/plain": [
       "{'mae': 567.9802,\n",
       " 'mse': 1147547.0,\n",
       " 'rmse': 1071.2362,\n",
       " 'mape': 2.516525,\n",
       " 'mase': 0.99957}"
      ]
     },
     "execution_count": 51,
     "metadata": {},
     "output_type": "execute_result"
    }
   ],
   "source": [
    "naive_results"
   ]
  },
  {
   "cell_type": "code",
   "execution_count": 52,
   "metadata": {},
   "outputs": [
    {
     "data": {
      "image/png": "[encoded data removed]",
      "text/plain": [
       "<Figure size 1000x700 with 1 Axes>"
      ]
     },
     "metadata": {},
     "output_type": "display_data"
    }
   ],
   "source": [
    "# Plot model 1 preds\n",
    "offset= 300\n",
    "plt.figure(figsize=(10,7))\n",
    "# Account for the test_window offset and index into test_labels to ensure correct plotting\n",
    "plot_time_series(timesteps=X_test[-len(test_windows):],values=test_labels[:,0],start=offset,label=\"Test_Data\")\n",
    "\n",
    "\n",
    "plot_time_series(timesteps=X_test[-len(test_windows):],\n",
    "                 values=model_2_preds,\n",
    "                 start=offset,\n",
    "                 format=\"-\",\n",
    "                 label=\"model_2_preds\")"
   ]
  },
  {
   "attachments": {},
   "cell_type": "markdown",
   "metadata": {},
   "source": [
    "### Model 3: Dense (window = 30, horizon = 7)"
   ]
  },
  {
   "cell_type": "code",
   "execution_count": 53,
   "metadata": {},
   "outputs": [],
   "source": [
    "HORIZON = 7 # predict next 1 day\n",
    "WINDOW_SIZE = 30 # use past week of data to predict"
   ]
  },
  {
   "cell_type": "code",
   "execution_count": 54,
   "metadata": {},
   "outputs": [
    {
     "name": "stdout",
     "output_type": "stream",
     "text": [
      "Window indexes:\n",
      " (array([[   0,    1,    2, ...,   34,   35,   36],\n",
      "       [   1,    2,    3, ...,   35,   36,   37],\n",
      "       [   2,    3,    4, ...,   36,   37,   38],\n",
      "       ...,\n",
      "       [2748, 2749, 2750, ..., 2782, 2783, 2784],\n",
      "       [2749, 2750, 2751, ..., 2783, 2784, 2785],\n",
      "       [2750, 2751, 2752, ..., 2784, 2785, 2786]]), (2751, 37))\n"
     ]
    },
    {
     "data": {
      "text/plain": [
       "(2751, 2751)"
      ]
     },
     "execution_count": 54,
     "metadata": {},
     "output_type": "execute_result"
    }
   ],
   "source": [
    "full_windows,full_labels = make_windows(prices,window_size=WINDOW_SIZE,horizon=HORIZON)\n",
    "\n",
    "len(full_windows),len(full_labels)"
   ]
  },
  {
   "cell_type": "code",
   "execution_count": 55,
   "metadata": {},
   "outputs": [
    {
     "data": {
      "text/plain": [
       "(2229, 522, 2229, 522)"
      ]
     },
     "execution_count": 55,
     "metadata": {},
     "output_type": "execute_result"
    }
   ],
   "source": [
    "# Create train and test windows \n",
    "train_windows,test_windows,train_labels,test_labels=make_train_test_splits(full_windows,\n",
    "                                    full_labels,\n",
    "                                    test_split=0.2)\n",
    "len(train_windows), len(test_windows), len(train_labels), len(test_labels)"
   ]
  },
  {
   "cell_type": "code",
   "execution_count": 56,
   "metadata": {},
   "outputs": [
    {
     "name": "stdout",
     "output_type": "stream",
     "text": [
      "Epoch 1/100\n",
      "17/18 [===========================>..] - ETA: 0s - loss: 1455.6290 - mae: 1455.6290 - mse: 9869743.0000 INFO:tensorflow:Assets written to: model_experiments\\model_3_dense\\assets\n",
      "18/18 [==============================] - 1s 40ms/step - loss: 1438.0601 - mae: 1438.0601 - mse: 9678379.0000 - val_loss: 2992.5237 - val_mae: 2992.5237 - val_mse: 23649864.0000\n",
      "Epoch 2/100\n",
      "14/18 [======================>.......] - ETA: 0s - loss: 579.8180 - mae: 579.8180 - mse: 1479640.0000INFO:tensorflow:Assets written to: model_experiments\\model_3_dense\\assets\n",
      "18/18 [==============================] - 1s 35ms/step - loss: 561.0258 - mae: 561.0258 - mse: 1391133.7500 - val_loss: 2527.2437 - val_mae: 2527.2437 - val_mse: 17928038.0000\n",
      "Epoch 3/100\n",
      " 1/18 [>.............................] - ETA: 0s - loss: 474.1777 - mae: 474.1777 - mse: 888704.1250INFO:tensorflow:Assets written to: model_experiments\\model_3_dense\\assets\n",
      "18/18 [==============================] - 1s 33ms/step - loss: 439.0709 - mae: 439.0709 - mse: 889382.1875 - val_loss: 2125.8506 - val_mae: 2125.8506 - val_mse: 13159097.0000\n",
      "Epoch 4/100\n",
      "16/18 [=========================>....] - ETA: 0s - loss: 387.9577 - mae: 387.9577 - mse: 697490.8125INFO:tensorflow:Assets written to: model_experiments\\model_3_dense\\assets\n",
      "18/18 [==============================] - 1s 31ms/step - loss: 390.0160 - mae: 390.0160 - mse: 711626.5000 - val_loss: 2003.1595 - val_mae: 2003.1595 - val_mse: 11794316.0000\n",
      "Epoch 5/100\n",
      " 1/18 [>.............................] - ETA: 0s - loss: 364.2993 - mae: 364.2993 - mse: 459776.0000INFO:tensorflow:Assets written to: model_experiments\\model_3_dense\\assets\n",
      "18/18 [==============================] - 1s 32ms/step - loss: 353.4758 - mae: 353.4758 - mse: 599935.2500 - val_loss: 1783.8618 - val_mae: 1783.8618 - val_mse: 9722763.0000\n",
      "Epoch 6/100\n",
      "18/18 [==============================] - ETA: 0s - loss: 330.9678 - mae: 330.9678 - mse: 518975.9062INFO:tensorflow:Assets written to: model_experiments\\model_3_dense\\assets\n",
      "18/18 [==============================] - 1s 41ms/step - loss: 330.9678 - mae: 330.9678 - mse: 518975.9062 - val_loss: 1740.8582 - val_mae: 1740.8582 - val_mse: 9055061.0000\n",
      "Epoch 7/100\n",
      " 1/18 [>.............................] - ETA: 0s - loss: 289.5637 - mae: 289.5637 - mse: 446886.4062INFO:tensorflow:Assets written to: model_experiments\\model_3_dense\\assets\n",
      "18/18 [==============================] - 1s 31ms/step - loss: 311.4364 - mae: 311.4364 - mse: 461619.0938 - val_loss: 1720.3683 - val_mae: 1720.3683 - val_mse: 9059973.0000\n",
      "Epoch 8/100\n",
      " 1/18 [>.............................] - ETA: 0s - loss: 333.3181 - mae: 333.3181 - mse: 511488.0000INFO:tensorflow:Assets written to: model_experiments\\model_3_dense\\assets\n",
      "18/18 [==============================] - 1s 33ms/step - loss: 305.7538 - mae: 305.7538 - mse: 440482.8438 - val_loss: 1596.5604 - val_mae: 1596.5604 - val_mse: 7911856.0000\n",
      "Epoch 9/100\n",
      " 1/18 [>.............................] - ETA: 0s - loss: 296.9907 - mae: 296.9907 - mse: 440024.1562INFO:tensorflow:Assets written to: model_experiments\\model_3_dense\\assets\n",
      "18/18 [==============================] - 1s 38ms/step - loss: 298.3665 - mae: 298.3665 - mse: 419912.6875 - val_loss: 1566.7764 - val_mae: 1566.7764 - val_mse: 7665628.0000\n",
      "Epoch 10/100\n",
      " 1/18 [>.............................] - ETA: 0s - loss: 283.9990 - mae: 283.9990 - mse: 330725.1562INFO:tensorflow:Assets written to: model_experiments\\model_3_dense\\assets\n",
      "18/18 [==============================] - 1s 31ms/step - loss: 289.8254 - mae: 289.8254 - mse: 398355.6875 - val_loss: 1518.9000 - val_mae: 1518.9000 - val_mse: 7287989.0000\n",
      "Epoch 11/100\n",
      "18/18 [==============================] - 0s 4ms/step - loss: 291.2281 - mae: 291.2281 - mse: 399253.2812 - val_loss: 1599.2888 - val_mae: 1599.2888 - val_mse: 7817431.0000\n",
      "Epoch 12/100\n",
      " 1/18 [>.............................] - ETA: 0s - loss: 208.2456 - mae: 208.2456 - mse: 220839.4062INFO:tensorflow:Assets written to: model_experiments\\model_3_dense\\assets\n",
      "18/18 [==============================] - 1s 32ms/step - loss: 284.1886 - mae: 284.1886 - mse: 382968.5000 - val_loss: 1514.1600 - val_mae: 1514.1600 - val_mse: 7230815.0000\n",
      "Epoch 13/100\n",
      " 1/18 [>.............................] - ETA: 0s - loss: 265.3274 - mae: 265.3274 - mse: 284359.0312INFO:tensorflow:Assets written to: model_experiments\\model_3_dense\\assets\n",
      "18/18 [==============================] - 1s 32ms/step - loss: 287.3014 - mae: 287.3014 - mse: 382149.0312 - val_loss: 1495.5143 - val_mae: 1495.5143 - val_mse: 7111036.0000\n",
      "Epoch 14/100\n",
      "18/18 [==============================] - 0s 5ms/step - loss: 275.4102 - mae: 275.4102 - mse: 367508.7500 - val_loss: 1644.8783 - val_mae: 1644.8783 - val_mse: 7927791.0000\n",
      "Epoch 15/100\n",
      "18/18 [==============================] - 0s 5ms/step - loss: 276.5656 - mae: 276.5656 - mse: 363074.7812 - val_loss: 1743.7090 - val_mae: 1743.7090 - val_mse: 8545000.0000\n",
      "Epoch 16/100\n",
      " 1/18 [>.............................] - ETA: 0s - loss: 283.6396 - mae: 283.6396 - mse: 361502.5625INFO:tensorflow:Assets written to: model_experiments\\model_3_dense\\assets\n",
      "18/18 [==============================] - 1s 32ms/step - loss: 275.0552 - mae: 275.0552 - mse: 364652.0625 - val_loss: 1477.0275 - val_mae: 1477.0275 - val_mse: 6809683.5000\n",
      "Epoch 17/100\n",
      "18/18 [==============================] - 0s 4ms/step - loss: 272.1595 - mae: 272.1595 - mse: 356829.3438 - val_loss: 1518.2493 - val_mae: 1518.2493 - val_mse: 7086730.5000\n",
      "Epoch 18/100\n",
      " 1/18 [>.............................] - ETA: 0s - loss: 192.4367 - mae: 192.4367 - mse: 191092.6250INFO:tensorflow:Assets written to: model_experiments\\model_3_dense\\assets\n",
      "18/18 [==============================] - 1s 32ms/step - loss: 266.0526 - mae: 266.0526 - mse: 345349.4688 - val_loss: 1435.3157 - val_mae: 1435.3157 - val_mse: 6634874.0000\n",
      "Epoch 19/100\n",
      "18/18 [==============================] - 0s 5ms/step - loss: 266.3388 - mae: 266.3388 - mse: 342949.3750 - val_loss: 1464.1542 - val_mae: 1464.1542 - val_mse: 6772033.0000\n",
      "Epoch 20/100\n",
      "18/18 [==============================] - 0s 4ms/step - loss: 263.3639 - mae: 263.3639 - mse: 337462.7500 - val_loss: 1670.4825 - val_mae: 1670.4825 - val_mse: 7931167.0000\n",
      "Epoch 21/100\n",
      "18/18 [==============================] - 0s 4ms/step - loss: 260.6270 - mae: 260.6270 - mse: 332569.8750 - val_loss: 1447.4597 - val_mae: 1447.4597 - val_mse: 6658912.0000\n",
      "Epoch 22/100\n",
      " 1/18 [>.............................] - ETA: 0s - loss: 206.5730 - mae: 206.5730 - mse: 232770.2344INFO:tensorflow:Assets written to: model_experiments\\model_3_dense\\assets\n",
      "18/18 [==============================] - 1s 32ms/step - loss: 255.0961 - mae: 255.0961 - mse: 324550.2812 - val_loss: 1428.0128 - val_mae: 1428.0128 - val_mse: 6628601.5000\n",
      "Epoch 23/100\n",
      " 1/18 [>.............................] - ETA: 0s - loss: 240.7838 - mae: 240.7838 - mse: 285426.3750INFO:tensorflow:Assets written to: model_experiments\\model_3_dense\\assets\n",
      "18/18 [==============================] - 1s 31ms/step - loss: 252.7071 - mae: 252.7071 - mse: 321671.0938 - val_loss: 1413.5018 - val_mae: 1413.5018 - val_mse: 6508610.5000\n",
      "Epoch 24/100\n",
      "18/18 [==============================] - 0s 4ms/step - loss: 254.3712 - mae: 254.3712 - mse: 324462.7188 - val_loss: 1459.1517 - val_mae: 1459.1517 - val_mse: 6697614.0000\n",
      "Epoch 25/100\n",
      "18/18 [==============================] - 0s 4ms/step - loss: 251.8934 - mae: 251.8934 - mse: 317438.0938 - val_loss: 1477.8838 - val_mae: 1477.8838 - val_mse: 6853910.0000\n",
      "Epoch 26/100\n",
      "18/18 [==============================] - 0s 5ms/step - loss: 251.9931 - mae: 251.9931 - mse: 316174.8125 - val_loss: 1507.1580 - val_mae: 1507.1580 - val_mse: 7043063.5000\n",
      "Epoch 27/100\n",
      "18/18 [==============================] - 0s 5ms/step - loss: 249.3981 - mae: 249.3981 - mse: 310608.0312 - val_loss: 1427.2845 - val_mae: 1427.2845 - val_mse: 6582386.5000\n",
      "Epoch 28/100\n",
      "18/18 [==============================] - 0s 5ms/step - loss: 254.5710 - mae: 254.5710 - mse: 317162.9062 - val_loss: 1418.1416 - val_mae: 1418.1416 - val_mse: 6517039.5000\n",
      "Epoch 29/100\n",
      " 1/18 [>.............................] - ETA: 0s - loss: 253.6272 - mae: 253.6272 - mse: 240846.2031INFO:tensorflow:Assets written to: model_experiments\\model_3_dense\\assets\n",
      "18/18 [==============================] - 1s 31ms/step - loss: 249.0427 - mae: 249.0427 - mse: 309508.3125 - val_loss: 1391.5179 - val_mae: 1391.5179 - val_mse: 6360466.5000\n",
      "Epoch 30/100\n",
      "18/18 [==============================] - 0s 5ms/step - loss: 247.0482 - mae: 247.0482 - mse: 306767.9375 - val_loss: 1420.6676 - val_mae: 1420.6676 - val_mse: 6534038.0000\n",
      "Epoch 31/100\n",
      "18/18 [==============================] - 0s 5ms/step - loss: 249.9333 - mae: 249.9333 - mse: 314184.0625 - val_loss: 1419.3131 - val_mae: 1419.3131 - val_mse: 6522538.0000\n",
      "Epoch 32/100\n",
      "18/18 [==============================] - 0s 4ms/step - loss: 244.8736 - mae: 244.8736 - mse: 303386.3125 - val_loss: 1484.0208 - val_mae: 1484.0208 - val_mse: 6902709.5000\n",
      "Epoch 33/100\n",
      "18/18 [==============================] - 0s 4ms/step - loss: 245.8082 - mae: 245.8082 - mse: 307424.3125 - val_loss: 1558.3951 - val_mae: 1558.3951 - val_mse: 7289675.0000\n",
      "Epoch 34/100\n",
      "18/18 [==============================] - 0s 5ms/step - loss: 246.2215 - mae: 246.2215 - mse: 303623.2812 - val_loss: 1397.0884 - val_mae: 1397.0884 - val_mse: 6433880.5000\n",
      "Epoch 35/100\n",
      " 1/18 [>.............................] - ETA: 0s - loss: 287.0598 - mae: 287.0598 - mse: 404566.0000INFO:tensorflow:Assets written to: model_experiments\\model_3_dense\\assets\n",
      "18/18 [==============================] - 1s 30ms/step - loss: 242.9715 - mae: 242.9715 - mse: 301874.5938 - val_loss: 1371.2185 - val_mae: 1371.2185 - val_mse: 6363662.5000\n",
      "Epoch 36/100\n",
      "18/18 [==============================] - 0s 5ms/step - loss: 242.9067 - mae: 242.9067 - mse: 301656.2188 - val_loss: 1578.5791 - val_mae: 1578.5791 - val_mse: 7329805.5000\n",
      "Epoch 37/100\n",
      "18/18 [==============================] - 0s 6ms/step - loss: 246.3771 - mae: 246.3771 - mse: 305033.9062 - val_loss: 1416.9352 - val_mae: 1416.9352 - val_mse: 6454937.0000\n",
      "Epoch 38/100\n",
      "18/18 [==============================] - 0s 4ms/step - loss: 241.1354 - mae: 241.1354 - mse: 298303.2812 - val_loss: 1404.2678 - val_mae: 1404.2678 - val_mse: 6382455.0000\n",
      "Epoch 39/100\n",
      "18/18 [==============================] - 0s 6ms/step - loss: 241.1705 - mae: 241.1705 - mse: 296838.4688 - val_loss: 1410.9773 - val_mae: 1410.9773 - val_mse: 6448846.0000\n",
      "Epoch 40/100\n",
      "18/18 [==============================] - 0s 10ms/step - loss: 241.1007 - mae: 241.1007 - mse: 295729.3438 - val_loss: 1459.1284 - val_mae: 1459.1284 - val_mse: 6716012.5000\n",
      "Epoch 41/100\n",
      " 9/18 [==============>...............] - ETA: 0s - loss: 237.5770 - mae: 237.5770 - mse: 289302.4688INFO:tensorflow:Assets written to: model_experiments\\model_3_dense\\assets\n",
      "18/18 [==============================] - 1s 37ms/step - loss: 241.8824 - mae: 241.8824 - mse: 296504.8750 - val_loss: 1354.3250 - val_mae: 1354.3250 - val_mse: 6141061.0000\n",
      "Epoch 42/100\n",
      "18/18 [==============================] - 0s 4ms/step - loss: 240.9502 - mae: 240.9502 - mse: 299608.4688 - val_loss: 1423.6300 - val_mae: 1423.6300 - val_mse: 6446335.0000\n",
      "Epoch 43/100\n",
      "18/18 [==============================] - 0s 4ms/step - loss: 236.7352 - mae: 236.7352 - mse: 289261.5938 - val_loss: 1561.1344 - val_mae: 1561.1344 - val_mse: 7100230.5000\n",
      "Epoch 44/100\n",
      "18/18 [==============================] - 0s 5ms/step - loss: 249.6456 - mae: 249.6456 - mse: 308531.0625 - val_loss: 1429.6147 - val_mae: 1429.6147 - val_mse: 6615882.5000\n",
      "Epoch 45/100\n",
      "18/18 [==============================] - 0s 4ms/step - loss: 239.9710 - mae: 239.9710 - mse: 291667.0000 - val_loss: 1409.8358 - val_mae: 1409.8358 - val_mse: 6320780.5000\n",
      "Epoch 46/100\n",
      "18/18 [==============================] - 0s 4ms/step - loss: 238.0584 - mae: 238.0584 - mse: 290671.5312 - val_loss: 1386.6753 - val_mae: 1386.6753 - val_mse: 6253277.5000\n",
      "Epoch 47/100\n",
      "18/18 [==============================] - 0s 4ms/step - loss: 235.6477 - mae: 235.6477 - mse: 286506.5938 - val_loss: 1360.1257 - val_mae: 1360.1257 - val_mse: 6115913.0000\n",
      "Epoch 48/100\n",
      " 1/18 [>.............................] - ETA: 0s - loss: 237.6904 - mae: 237.6904 - mse: 237326.9375INFO:tensorflow:Assets written to: model_experiments\\model_3_dense\\assets\n",
      "18/18 [==============================] - 1s 34ms/step - loss: 238.9533 - mae: 238.9533 - mse: 289734.1875 - val_loss: 1346.6586 - val_mae: 1346.6586 - val_mse: 6138189.0000\n",
      "Epoch 49/100\n",
      " 1/18 [>.............................] - ETA: 0s - loss: 245.5149 - mae: 245.5149 - mse: 285270.1562INFO:tensorflow:Assets written to: model_experiments\\model_3_dense\\assets\n",
      "18/18 [==============================] - 1s 33ms/step - loss: 238.5966 - mae: 238.5966 - mse: 291552.7500 - val_loss: 1334.8925 - val_mae: 1334.8925 - val_mse: 6031550.0000\n",
      "Epoch 50/100\n",
      "18/18 [==============================] - 0s 5ms/step - loss: 242.0172 - mae: 242.0172 - mse: 289670.2500 - val_loss: 1530.0032 - val_mae: 1530.0032 - val_mse: 6969320.5000\n",
      "Epoch 51/100\n",
      "18/18 [==============================] - 0s 5ms/step - loss: 237.3642 - mae: 237.3642 - mse: 286002.1562 - val_loss: 1366.8997 - val_mae: 1366.8997 - val_mse: 6073529.0000\n",
      "Epoch 52/100\n",
      "18/18 [==============================] - 0s 7ms/step - loss: 233.7910 - mae: 233.7910 - mse: 283122.6250 - val_loss: 1398.5303 - val_mae: 1398.5303 - val_mse: 6341619.0000\n",
      "Epoch 53/100\n",
      "18/18 [==============================] - 0s 5ms/step - loss: 237.5920 - mae: 237.5920 - mse: 288005.7812 - val_loss: 1369.0919 - val_mae: 1369.0919 - val_mse: 6188750.5000\n",
      "Epoch 54/100\n",
      "18/18 [==============================] - 0s 6ms/step - loss: 235.0494 - mae: 235.0494 - mse: 282456.2812 - val_loss: 1370.8031 - val_mae: 1370.8031 - val_mse: 6101238.0000\n",
      "Epoch 55/100\n",
      "18/18 [==============================] - 0s 6ms/step - loss: 233.6704 - mae: 233.6704 - mse: 283173.9062 - val_loss: 1337.6157 - val_mae: 1337.6157 - val_mse: 6025853.5000\n",
      "Epoch 56/100\n",
      "18/18 [==============================] - 0s 5ms/step - loss: 240.8746 - mae: 240.8746 - mse: 290009.0938 - val_loss: 1373.7865 - val_mae: 1373.7865 - val_mse: 6114613.5000\n",
      "Epoch 57/100\n",
      "15/18 [========================>.....] - ETA: 0s - loss: 235.3394 - mae: 235.3394 - mse: 276366.6250INFO:tensorflow:Assets written to: model_experiments\\model_3_dense\\assets\n",
      "18/18 [==============================] - 1s 35ms/step - loss: 238.6001 - mae: 238.6001 - mse: 283138.3438 - val_loss: 1327.3275 - val_mae: 1327.3275 - val_mse: 5904519.0000\n",
      "Epoch 58/100\n",
      "18/18 [==============================] - 0s 5ms/step - loss: 237.6900 - mae: 237.6900 - mse: 285502.8125 - val_loss: 1414.5674 - val_mae: 1414.5674 - val_mse: 6259801.5000\n",
      "Epoch 59/100\n",
      "18/18 [==============================] - 0s 5ms/step - loss: 237.3405 - mae: 237.3405 - mse: 286026.9062 - val_loss: 1332.3796 - val_mae: 1332.3796 - val_mse: 5992102.0000\n",
      "Epoch 60/100\n",
      "18/18 [==============================] - 0s 5ms/step - loss: 235.9082 - mae: 235.9082 - mse: 281784.3438 - val_loss: 1623.8530 - val_mae: 1623.8530 - val_mse: 7360582.0000\n",
      "Epoch 61/100\n",
      "18/18 [==============================] - 0s 6ms/step - loss: 240.7337 - mae: 240.7337 - mse: 290813.5938 - val_loss: 1397.2809 - val_mae: 1397.2809 - val_mse: 6391991.5000\n",
      "Epoch 62/100\n",
      "18/18 [==============================] - 0s 8ms/step - loss: 237.9583 - mae: 237.9583 - mse: 289161.8750 - val_loss: 1394.5707 - val_mae: 1394.5707 - val_mse: 6188632.5000\n",
      "Epoch 63/100\n",
      "18/18 [==============================] - ETA: 0s - loss: 231.6560 - mae: 231.6560 - mse: 276176.2500INFO:tensorflow:Assets written to: model_experiments\\model_3_dense\\assets\n",
      "18/18 [==============================] - 1s 42ms/step - loss: 231.6560 - mae: 231.6560 - mse: 276176.2500 - val_loss: 1304.7781 - val_mae: 1304.7781 - val_mse: 5807146.0000\n",
      "Epoch 64/100\n",
      "18/18 [==============================] - 0s 5ms/step - loss: 232.5253 - mae: 232.5253 - mse: 282400.5625 - val_loss: 1353.9058 - val_mae: 1353.9058 - val_mse: 6024828.5000\n",
      "Epoch 65/100\n",
      "18/18 [==============================] - 0s 5ms/step - loss: 228.6373 - mae: 228.6373 - mse: 273971.2188 - val_loss: 1334.2255 - val_mae: 1334.2255 - val_mse: 5998736.0000\n",
      "Epoch 66/100\n",
      "18/18 [==============================] - 0s 5ms/step - loss: 228.9868 - mae: 228.9868 - mse: 273875.0000 - val_loss: 1488.7438 - val_mae: 1488.7438 - val_mse: 6707139.0000\n",
      "Epoch 67/100\n",
      "18/18 [==============================] - 0s 6ms/step - loss: 227.9355 - mae: 227.9355 - mse: 272581.5312 - val_loss: 1379.4652 - val_mae: 1379.4652 - val_mse: 6259399.5000\n",
      "Epoch 68/100\n",
      "18/18 [==============================] - 0s 5ms/step - loss: 230.9494 - mae: 230.9494 - mse: 277144.4062 - val_loss: 1327.7029 - val_mae: 1327.7029 - val_mse: 5851748.5000\n",
      "Epoch 69/100\n",
      "18/18 [==============================] - 0s 5ms/step - loss: 226.5050 - mae: 226.5050 - mse: 270386.1250 - val_loss: 1334.9351 - val_mae: 1334.9351 - val_mse: 5940049.0000\n",
      "Epoch 70/100\n",
      "18/18 [==============================] - 0s 6ms/step - loss: 230.9862 - mae: 230.9862 - mse: 274023.0938 - val_loss: 1334.0563 - val_mae: 1334.0563 - val_mse: 5850353.5000\n",
      "Epoch 71/100\n",
      "18/18 [==============================] - 0s 5ms/step - loss: 230.6398 - mae: 230.6398 - mse: 273059.5625 - val_loss: 1322.1195 - val_mae: 1322.1195 - val_mse: 5944004.0000\n",
      "Epoch 72/100\n",
      "18/18 [==============================] - 0s 4ms/step - loss: 228.2520 - mae: 228.2520 - mse: 273376.2188 - val_loss: 1386.3433 - val_mae: 1386.3433 - val_mse: 6123792.5000\n",
      "Epoch 73/100\n",
      "18/18 [==============================] - 0s 5ms/step - loss: 231.3606 - mae: 231.3606 - mse: 273044.3438 - val_loss: 1333.1615 - val_mae: 1333.1615 - val_mse: 5922911.5000\n",
      "Epoch 74/100\n",
      "17/18 [===========================>..] - ETA: 0s - loss: 231.6134 - mae: 231.6134 - mse: 278766.6250INFO:tensorflow:Assets written to: model_experiments\\model_3_dense\\assets\n",
      "18/18 [==============================] - 1s 32ms/step - loss: 230.4491 - mae: 230.4491 - mse: 275206.8125 - val_loss: 1300.8147 - val_mae: 1300.8147 - val_mse: 5752557.5000\n",
      "Epoch 75/100\n",
      "18/18 [==============================] - 0s 7ms/step - loss: 230.0418 - mae: 230.0418 - mse: 272922.3750 - val_loss: 1413.5851 - val_mae: 1413.5851 - val_mse: 6326948.0000\n",
      "Epoch 76/100\n",
      "18/18 [==============================] - 0s 5ms/step - loss: 226.3120 - mae: 226.3120 - mse: 270962.3438 - val_loss: 1382.2545 - val_mae: 1382.2545 - val_mse: 6069017.0000\n",
      "Epoch 77/100\n",
      "18/18 [==============================] - 0s 5ms/step - loss: 229.1574 - mae: 229.1574 - mse: 271323.5000 - val_loss: 1341.8734 - val_mae: 1341.8734 - val_mse: 5903622.0000\n",
      "Epoch 78/100\n",
      "18/18 [==============================] - 0s 5ms/step - loss: 228.2181 - mae: 228.2181 - mse: 271505.0000 - val_loss: 1377.1165 - val_mae: 1377.1165 - val_mse: 6129734.5000\n",
      "Epoch 79/100\n",
      " 1/18 [>.............................] - ETA: 0s - loss: 233.0800 - mae: 233.0800 - mse: 379786.5938INFO:tensorflow:Assets written to: model_experiments\\model_3_dense\\assets\n",
      "18/18 [==============================] - 1s 33ms/step - loss: 230.7772 - mae: 230.7772 - mse: 273785.5625 - val_loss: 1297.3578 - val_mae: 1297.3578 - val_mse: 5756688.5000\n",
      "Epoch 80/100\n",
      "18/18 [==============================] - 0s 5ms/step - loss: 227.5066 - mae: 227.5066 - mse: 268442.5312 - val_loss: 1446.4741 - val_mae: 1446.4741 - val_mse: 6368288.0000\n",
      "Epoch 81/100\n",
      "18/18 [==============================] - 0s 6ms/step - loss: 229.1322 - mae: 229.1322 - mse: 271875.4375 - val_loss: 1444.4196 - val_mae: 1444.4196 - val_mse: 6369794.5000\n",
      "Epoch 82/100\n",
      "18/18 [==============================] - 0s 6ms/step - loss: 227.9780 - mae: 227.9780 - mse: 268702.5312 - val_loss: 1398.3387 - val_mae: 1398.3387 - val_mse: 6125105.0000\n",
      "Epoch 83/100\n",
      "18/18 [==============================] - 0s 5ms/step - loss: 231.9370 - mae: 231.9370 - mse: 272423.6875 - val_loss: 1336.3339 - val_mae: 1336.3339 - val_mse: 5981504.0000\n",
      "Epoch 84/100\n",
      "18/18 [==============================] - 0s 7ms/step - loss: 231.6719 - mae: 231.6719 - mse: 273918.4062 - val_loss: 1441.5496 - val_mae: 1441.5496 - val_mse: 6465612.5000\n",
      "Epoch 85/100\n",
      "18/18 [==============================] - 0s 5ms/step - loss: 229.7247 - mae: 229.7247 - mse: 272205.7500 - val_loss: 1676.9056 - val_mae: 1676.9056 - val_mse: 7567494.5000\n",
      "Epoch 86/100\n",
      "18/18 [==============================] - 0s 5ms/step - loss: 239.4310 - mae: 239.4310 - mse: 287241.2188 - val_loss: 1345.7804 - val_mae: 1345.7804 - val_mse: 5910771.5000\n",
      "Epoch 87/100\n",
      "18/18 [==============================] - 0s 5ms/step - loss: 229.0023 - mae: 229.0023 - mse: 270290.0312 - val_loss: 1345.6306 - val_mae: 1345.6306 - val_mse: 5932489.0000\n",
      "Epoch 88/100\n",
      "18/18 [==============================] - 0s 4ms/step - loss: 225.7789 - mae: 225.7789 - mse: 268505.0000 - val_loss: 1432.4684 - val_mae: 1432.4684 - val_mse: 6338383.0000\n",
      "Epoch 89/100\n",
      "18/18 [==============================] - 0s 4ms/step - loss: 228.5733 - mae: 228.5733 - mse: 272519.2500 - val_loss: 1331.1509 - val_mae: 1331.1509 - val_mse: 5889261.0000\n",
      "Epoch 90/100\n",
      "18/18 [==============================] - 0s 4ms/step - loss: 237.6085 - mae: 237.6085 - mse: 278654.7188 - val_loss: 1372.8057 - val_mae: 1372.8057 - val_mse: 6036621.0000\n",
      "Epoch 91/100\n",
      "18/18 [==============================] - 0s 4ms/step - loss: 229.8304 - mae: 229.8304 - mse: 269853.8438 - val_loss: 1393.5898 - val_mae: 1393.5898 - val_mse: 6097379.5000\n",
      "Epoch 92/100\n",
      "18/18 [==============================] - 0s 4ms/step - loss: 227.1296 - mae: 227.1296 - mse: 269839.6250 - val_loss: 1463.3394 - val_mae: 1463.3394 - val_mse: 6366583.5000\n",
      "Epoch 93/100\n",
      "18/18 [==============================] - 0s 4ms/step - loss: 225.3940 - mae: 225.3940 - mse: 266440.5312 - val_loss: 1313.5643 - val_mae: 1313.5643 - val_mse: 5748454.5000\n",
      "Epoch 94/100\n",
      "18/18 [==============================] - 0s 4ms/step - loss: 227.6270 - mae: 227.6270 - mse: 268871.8125 - val_loss: 1314.7994 - val_mae: 1314.7994 - val_mse: 5823892.0000\n",
      "Epoch 95/100\n",
      "18/18 [==============================] - 0s 4ms/step - loss: 223.5562 - mae: 223.5562 - mse: 262342.1875 - val_loss: 1457.5106 - val_mae: 1457.5106 - val_mse: 6403105.5000\n",
      "Epoch 96/100\n",
      "18/18 [==============================] - 0s 4ms/step - loss: 223.7285 - mae: 223.7285 - mse: 264615.8125 - val_loss: 1336.8280 - val_mae: 1336.8280 - val_mse: 5927382.5000\n",
      "Epoch 97/100\n",
      "18/18 [==============================] - 0s 4ms/step - loss: 222.8951 - mae: 222.8951 - mse: 265858.2188 - val_loss: 1308.5216 - val_mae: 1308.5216 - val_mse: 5808052.0000\n",
      "Epoch 98/100\n",
      "18/18 [==============================] - 0s 4ms/step - loss: 232.9022 - mae: 232.9022 - mse: 277136.4375 - val_loss: 1590.5760 - val_mae: 1590.5760 - val_mse: 7172186.0000\n",
      "Epoch 99/100\n",
      "18/18 [==============================] - 0s 4ms/step - loss: 226.4885 - mae: 226.4885 - mse: 264304.8125 - val_loss: 1326.3145 - val_mae: 1326.3145 - val_mse: 5906747.5000\n",
      "Epoch 100/100\n",
      "18/18 [==============================] - 0s 4ms/step - loss: 222.9004 - mae: 222.9004 - mse: 261785.6719 - val_loss: 1322.9520 - val_mae: 1322.9520 - val_mse: 5757059.5000\n"
     ]
    },
    {
     "data": {
      "text/plain": [
       "<keras.callbacks.History at 0x21e80ef4880>"
      ]
     },
     "execution_count": 56,
     "metadata": {},
     "output_type": "execute_result"
    }
   ],
   "source": [
    "from tensorflow.keras import layers\n",
    "\n",
    "# Set random seed for as reproducible results as possible\n",
    "tf.random.set_seed(42)\n",
    "\n",
    "# 1. Construct model\n",
    "model_3 = tf.keras.Sequential([\n",
    "    layers.Dense(128,activation=\"relu\"),\n",
    "    layers.Dense(HORIZON,activation=\"linear\")# linear activation is = No activation\n",
    "    \n",
    "],name=\"model_3_dense\")\n",
    "\n",
    "# 2. Compile\n",
    "model_3.compile(loss=\"mae\",\n",
    "                optimizer=tf.keras.optimizers.Adam(),\n",
    "                metrics=[\"mae\",\"mse\"])\n",
    "\n",
    "# 3. Fit the model\n",
    "\n",
    "model_3.fit(x=train_windows,\n",
    "            y=train_labels,\n",
    "            epochs=100,\n",
    "            verbose=1,\n",
    "            batch_size=128,\n",
    "            validation_data=(test_windows,test_labels),\n",
    "            callbacks=[create_model_checkpoint(model_name=model_3.name)])"
   ]
  },
  {
   "cell_type": "code",
   "execution_count": 57,
   "metadata": {},
   "outputs": [
    {
     "name": "stdout",
     "output_type": "stream",
     "text": [
      "17/17 [==============================] - 0s 2ms/step - loss: 1322.9520 - mae: 1322.9520 - mse: 5757059.0000\n"
     ]
    },
    {
     "data": {
      "text/plain": [
       "[1322.9520263671875, 1322.9520263671875, 5757059.0]"
      ]
     },
     "execution_count": 57,
     "metadata": {},
     "output_type": "execute_result"
    }
   ],
   "source": [
    "model_3.evaluate(test_windows,test_labels)"
   ]
  },
  {
   "cell_type": "code",
   "execution_count": 58,
   "metadata": {},
   "outputs": [
    {
     "name": "stdout",
     "output_type": "stream",
     "text": [
      "17/17 [==============================] - 0s 2ms/step - loss: 1297.3577 - mae: 1297.3577 - mse: 5756688.5000\n"
     ]
    },
    {
     "data": {
      "text/plain": [
       "[1297.357666015625, 1297.357666015625, 5756688.5]"
      ]
     },
     "execution_count": 58,
     "metadata": {},
     "output_type": "execute_result"
    }
   ],
   "source": [
    "# Load in saved best performing model_1 and evalutate it on test data\n",
    "model_3= tf.keras.models.load_model(\"model_experiments/model_3_dense/\")\n",
    "model_3.evaluate(test_windows,test_labels)"
   ]
  },
  {
   "cell_type": "code",
   "execution_count": 59,
   "metadata": {},
   "outputs": [],
   "source": [
    "# Get forecast predictions \n",
    "model_3_preds =make_preds(model_3,\n",
    "                          input_data=test_windows)"
   ]
  },
  {
   "cell_type": "code",
   "execution_count": 60,
   "metadata": {},
   "outputs": [
    {
     "data": {
      "text/plain": [
       "{'mae': 1297.3578,\n",
       " 'mse': 5756688.5,\n",
       " 'rmse': 1484.7218,\n",
       " 'mape': 5.6257334,\n",
       " 'mase': 2.218213}"
      ]
     },
     "execution_count": 60,
     "metadata": {},
     "output_type": "execute_result"
    }
   ],
   "source": [
    "# Evaluate results for model 3 predictions \n",
    "model_3_results = evaluate_preds(y_true=tf.squeeze(test_labels),\n",
    "                                 y_pred=model_3_preds)\n",
    "model_3_results"
   ]
  },
  {
   "cell_type": "code",
   "execution_count": 61,
   "metadata": {},
   "outputs": [
    {
     "data": {
      "image/png": "[encoded data removed]",
      "text/plain": [
       "<Figure size 1000x700 with 1 Axes>"
      ]
     },
     "metadata": {},
     "output_type": "display_data"
    }
   ],
   "source": [
    "# Plot model 1 preds\n",
    "offset= 300\n",
    "plt.figure(figsize=(10,7))\n",
    "# Account for the test_window offset and index into test_labels to ensure correct plotting\n",
    "plot_time_series(timesteps=X_test[-len(test_windows):],values=test_labels[:,0],start=offset,label=\"Test_Data\")\n",
    "\n",
    "\n",
    "plot_time_series(timesteps=X_test[-len(test_windows):],\n",
    "                 values=tf.reduce_mean(model_3_preds,axis=1),\n",
    "                 start=offset,\n",
    "                 format=\"-\",\n",
    "                 label=\"model_3_preds\")"
   ]
  },
  {
   "attachments": {},
   "cell_type": "markdown",
   "metadata": {},
   "source": [
    "### Comparing all models\n"
   ]
  },
  {
   "cell_type": "code",
   "execution_count": 62,
   "metadata": {},
   "outputs": [
    {
     "data": {
      "text/plain": [
       "<AxesSubplot: >"
      ]
     },
     "execution_count": 62,
     "metadata": {},
     "output_type": "execute_result"
    },
    {
     "data": {
      "image/png": "[encoded data removed]",
      "text/plain": [
       "<Figure size 1000x700 with 1 Axes>"
      ]
     },
     "metadata": {},
     "output_type": "display_data"
    }
   ],
   "source": [
    "pd.DataFrame({\"naive\": naive_results[\"mae\"],\n",
    "              \"horizon_1_window_7\" : model_1_results[\"mae\"],\n",
    "              \"horizon_1_window_30\" : model_2_results[\"mae\"],\n",
    "              \"horizon_7_window_30\" : model_3_results[\"mae\"]},index=[\"mae\"]).plot(figsize=(10,7),kind=\"bar\")"
   ]
  },
  {
   "cell_type": "markdown",
   "metadata": {},
   "source": [
    "## Model 4 : Conv1D"
   ]
  },
  {
   "cell_type": "code",
   "execution_count": 63,
   "metadata": {},
   "outputs": [],
   "source": [
    "HORIZON = 1\n",
    "WINDOW_SIZE = 7 "
   ]
  },
  {
   "cell_type": "code",
   "execution_count": 64,
   "metadata": {},
   "outputs": [
    {
     "name": "stdout",
     "output_type": "stream",
     "text": [
      "Window indexes:\n",
      " (array([[   0,    1,    2, ...,    5,    6,    7],\n",
      "       [   1,    2,    3, ...,    6,    7,    8],\n",
      "       [   2,    3,    4, ...,    7,    8,    9],\n",
      "       ...,\n",
      "       [2777, 2778, 2779, ..., 2782, 2783, 2784],\n",
      "       [2778, 2779, 2780, ..., 2783, 2784, 2785],\n",
      "       [2779, 2780, 2781, ..., 2784, 2785, 2786]]), (2780, 8))\n"
     ]
    },
    {
     "data": {
      "text/plain": [
       "(2780, 2780, 522, 522)"
      ]
     },
     "execution_count": 64,
     "metadata": {},
     "output_type": "execute_result"
    }
   ],
   "source": [
    "# create windowed data \n",
    "full_windows , full_labels = make_windows(prices,window_size=WINDOW_SIZE,horizon=HORIZON)\n",
    "\n",
    "len(full_windows),len(full_labels),len(test_windows),len(test_labels)"
   ]
  },
  {
   "cell_type": "code",
   "execution_count": 65,
   "metadata": {},
   "outputs": [
    {
     "data": {
      "text/plain": [
       "(2229, 2229, 551, 551)"
      ]
     },
     "execution_count": 65,
     "metadata": {},
     "output_type": "execute_result"
    }
   ],
   "source": [
    "train_windows,test_windows,train_labels,test_labels=make_train_test_splits(full_windows,full_labels)\n",
    "\n",
    "len(train_windows),len(train_labels),len(test_windows),len(test_labels)"
   ]
  },
  {
   "cell_type": "code",
   "execution_count": 66,
   "metadata": {},
   "outputs": [
    {
     "data": {
      "text/plain": [
       "(7,)"
      ]
     },
     "execution_count": 66,
     "metadata": {},
     "output_type": "execute_result"
    }
   ],
   "source": [
    "# check data input shape \n",
    "train_windows[0].shape"
   ]
  },
  {
   "cell_type": "code",
   "execution_count": 67,
   "metadata": {},
   "outputs": [
    {
     "data": {
      "text/plain": [
       "<tf.Tensor: shape=(7,), dtype=float64, numpy=\n",
       "array([123.65499, 125.455  , 108.58483, 118.67466, 121.33866, 120.65533,\n",
       "       121.795  ])>"
      ]
     },
     "execution_count": 67,
     "metadata": {},
     "output_type": "execute_result"
    }
   ],
   "source": [
    "x = tf.constant(train_windows[0])\n",
    "x"
   ]
  },
  {
   "cell_type": "code",
   "execution_count": 68,
   "metadata": {},
   "outputs": [],
   "source": [
    "expand_dims_layer= layers.Lambda(lambda x: tf.expand_dims(x,axis=1))"
   ]
  },
  {
   "cell_type": "code",
   "execution_count": 69,
   "metadata": {},
   "outputs": [
    {
     "name": "stdout",
     "output_type": "stream",
     "text": [
      "Original shape: (7,)\n",
      "Expanded shape: (7, 1)\n",
      "Original values with expanded shape:\n",
      " [[123.65499]\n",
      " [125.455  ]\n",
      " [108.58483]\n",
      " [118.67466]\n",
      " [121.33866]\n",
      " [120.65533]\n",
      " [121.795  ]]\n"
     ]
    }
   ],
   "source": [
    "# test lambda layer \n",
    "print(f\"Original shape: {x.shape}\")\n",
    "print(f\"Expanded shape: {expand_dims_layer(x).shape}\")\n",
    "print(f\"Original values with expanded shape:\\n {expand_dims_layer(x)}\")"
   ]
  },
  {
   "cell_type": "code",
   "execution_count": 70,
   "metadata": {},
   "outputs": [
    {
     "name": "stdout",
     "output_type": "stream",
     "text": [
      "Epoch 1/100\n",
      "18/18 [==============================] - ETA: 0s - loss: 2357.3088  INFO:tensorflow:Assets written to: model_experiments\\model_4_conv1D\\assets\n",
      "18/18 [==============================] - 6s 52ms/step - loss: 2357.3088 - val_loss: 5599.9692\n",
      "Epoch 2/100\n",
      " 1/18 [>.............................] - ETA: 0s - loss: 853.6881INFO:tensorflow:Assets written to: model_experiments\\model_4_conv1D\\assets\n",
      "18/18 [==============================] - 1s 42ms/step - loss: 435.0040 - val_loss: 1410.0981\n",
      "Epoch 3/100\n",
      "17/18 [===========================>..] - ETA: 0s - loss: 222.3322INFO:tensorflow:Assets written to: model_experiments\\model_4_conv1D\\assets\n",
      "18/18 [==============================] - 1s 39ms/step - loss: 221.4294 - val_loss: 1066.2332\n",
      "Epoch 4/100\n",
      "18/18 [==============================] - 0s 4ms/step - loss: 198.0986 - val_loss: 1096.9601\n",
      "Epoch 5/100\n",
      " 1/18 [>.............................] - ETA: 0s - loss: 176.3986INFO:tensorflow:Assets written to: model_experiments\\model_4_conv1D\\assets\n",
      "18/18 [==============================] - 1s 38ms/step - loss: 185.1633 - val_loss: 1055.9840\n",
      "Epoch 6/100\n",
      "17/18 [===========================>..] - ETA: 0s - loss: 183.1267INFO:tensorflow:Assets written to: model_experiments\\model_4_conv1D\\assets\n",
      "18/18 [==============================] - 1s 40ms/step - loss: 181.8858 - val_loss: 1030.4381\n",
      "Epoch 7/100\n",
      "18/18 [==============================] - 0s 5ms/step - loss: 180.4877 - val_loss: 1035.0334\n",
      "Epoch 8/100\n",
      "18/18 [==============================] - 0s 5ms/step - loss: 178.0079 - val_loss: 1040.5681\n",
      "Epoch 9/100\n",
      "18/18 [==============================] - 0s 5ms/step - loss: 175.7238 - val_loss: 1042.5944\n",
      "Epoch 10/100\n",
      "18/18 [==============================] - ETA: 0s - loss: 173.9019INFO:tensorflow:Assets written to: model_experiments\\model_4_conv1D\\assets\n",
      "18/18 [==============================] - 1s 41ms/step - loss: 173.9019 - val_loss: 998.8200\n",
      "Epoch 11/100\n",
      "17/18 [===========================>..] - ETA: 0s - loss: 174.3553INFO:tensorflow:Assets written to: model_experiments\\model_4_conv1D\\assets\n",
      "18/18 [==============================] - 1s 49ms/step - loss: 173.5114 - val_loss: 961.8113\n",
      "Epoch 12/100\n",
      "16/18 [=========================>....] - ETA: 0s - loss: 170.7216INFO:tensorflow:Assets written to: model_experiments\\model_4_conv1D\\assets\n",
      "18/18 [==============================] - 1s 40ms/step - loss: 170.3097 - val_loss: 950.0406\n",
      "Epoch 13/100\n",
      "18/18 [==============================] - 0s 5ms/step - loss: 166.2384 - val_loss: 953.9355\n",
      "Epoch 14/100\n",
      "18/18 [==============================] - 0s 4ms/step - loss: 163.1149 - val_loss: 962.2616\n",
      "Epoch 15/100\n",
      "18/18 [==============================] - ETA: 0s - loss: 160.9705INFO:tensorflow:Assets written to: model_experiments\\model_4_conv1D\\assets\n",
      "18/18 [==============================] - 1s 39ms/step - loss: 160.9705 - val_loss: 908.0483\n",
      "Epoch 16/100\n",
      "16/18 [=========================>....] - ETA: 0s - loss: 161.8446INFO:tensorflow:Assets written to: model_experiments\\model_4_conv1D\\assets\n",
      "18/18 [==============================] - 1s 41ms/step - loss: 160.6143 - val_loss: 892.9075\n",
      "Epoch 17/100\n",
      "16/18 [=========================>....] - ETA: 0s - loss: 154.2297INFO:tensorflow:Assets written to: model_experiments\\model_4_conv1D\\assets\n",
      "18/18 [==============================] - 1s 38ms/step - loss: 155.2076 - val_loss: 868.7433\n",
      "Epoch 18/100\n",
      "18/18 [==============================] - 0s 5ms/step - loss: 157.0839 - val_loss: 907.7132\n",
      "Epoch 19/100\n",
      "18/18 [==============================] - 0s 5ms/step - loss: 150.7400 - val_loss: 877.8917\n",
      "Epoch 20/100\n",
      "18/18 [==============================] - ETA: 0s - loss: 149.0749INFO:tensorflow:Assets written to: model_experiments\\model_4_conv1D\\assets\n",
      "18/18 [==============================] - 1s 39ms/step - loss: 149.0749 - val_loss: 823.4413\n",
      "Epoch 21/100\n",
      "18/18 [==============================] - 0s 5ms/step - loss: 145.8969 - val_loss: 837.6807\n",
      "Epoch 22/100\n",
      "16/18 [=========================>....] - ETA: 0s - loss: 144.4017INFO:tensorflow:Assets written to: model_experiments\\model_4_conv1D\\assets\n",
      "18/18 [==============================] - 1s 41ms/step - loss: 143.7845 - val_loss: 807.9245\n",
      "Epoch 23/100\n",
      "17/18 [===========================>..] - ETA: 0s - loss: 145.0641INFO:tensorflow:Assets written to: model_experiments\\model_4_conv1D\\assets\n",
      "18/18 [==============================] - 1s 40ms/step - loss: 143.5438 - val_loss: 786.6852\n",
      "Epoch 24/100\n",
      "18/18 [==============================] - 0s 5ms/step - loss: 139.4030 - val_loss: 851.4134\n",
      "Epoch 25/100\n",
      " 1/18 [>.............................] - ETA: 0s - loss: 178.7881INFO:tensorflow:Assets written to: model_experiments\\model_4_conv1D\\assets\n",
      "18/18 [==============================] - 1s 39ms/step - loss: 140.0823 - val_loss: 763.0061\n",
      "Epoch 26/100\n",
      "16/18 [=========================>....] - ETA: 0s - loss: 138.9040INFO:tensorflow:Assets written to: model_experiments\\model_4_conv1D\\assets\n",
      "18/18 [==============================] - 1s 39ms/step - loss: 136.3675 - val_loss: 757.4934\n",
      "Epoch 27/100\n",
      "18/18 [==============================] - 0s 5ms/step - loss: 135.6104 - val_loss: 792.5944\n",
      "Epoch 28/100\n",
      "18/18 [==============================] - 0s 5ms/step - loss: 133.9410 - val_loss: 804.7364\n",
      "Epoch 29/100\n",
      "17/18 [===========================>..] - ETA: 0s - loss: 134.1531INFO:tensorflow:Assets written to: model_experiments\\model_4_conv1D\\assets\n",
      "18/18 [==============================] - 1s 51ms/step - loss: 133.2134 - val_loss: 746.0375\n",
      "Epoch 30/100\n",
      "16/18 [=========================>....] - ETA: 0s - loss: 131.6847INFO:tensorflow:Assets written to: model_experiments\\model_4_conv1D\\assets\n",
      "18/18 [==============================] - 1s 40ms/step - loss: 128.4800 - val_loss: 718.9387\n",
      "Epoch 31/100\n",
      "17/18 [===========================>..] - ETA: 0s - loss: 129.0606INFO:tensorflow:Assets written to: model_experiments\\model_4_conv1D\\assets\n",
      "18/18 [==============================] - 1s 41ms/step - loss: 128.1482 - val_loss: 704.9700\n",
      "Epoch 32/100\n",
      "18/18 [==============================] - 0s 6ms/step - loss: 127.5664 - val_loss: 776.6454\n",
      "Epoch 33/100\n",
      "15/18 [========================>.....] - ETA: 0s - loss: 127.7919INFO:tensorflow:Assets written to: model_experiments\\model_4_conv1D\\assets\n",
      "18/18 [==============================] - 1s 42ms/step - loss: 126.6585 - val_loss: 688.1609\n",
      "Epoch 34/100\n",
      "15/18 [========================>.....] - ETA: 0s - loss: 129.5451INFO:tensorflow:Assets written to: model_experiments\\model_4_conv1D\\assets\n",
      "18/18 [==============================] - 1s 56ms/step - loss: 128.7881 - val_loss: 683.0458\n",
      "Epoch 35/100\n",
      "18/18 [==============================] - 0s 6ms/step - loss: 127.1094 - val_loss: 696.1497\n",
      "Epoch 36/100\n",
      "12/18 [===================>..........] - ETA: 0s - loss: 126.9061INFO:tensorflow:Assets written to: model_experiments\\model_4_conv1D\\assets\n",
      "18/18 [==============================] - 1s 51ms/step - loss: 126.1297 - val_loss: 668.2819\n",
      "Epoch 37/100\n",
      "16/18 [=========================>....] - ETA: 0s - loss: 122.6745INFO:tensorflow:Assets written to: model_experiments\\model_4_conv1D\\assets\n",
      "18/18 [==============================] - 1s 58ms/step - loss: 121.4741 - val_loss: 662.9594\n",
      "Epoch 38/100\n",
      "18/18 [==============================] - 0s 11ms/step - loss: 121.9121 - val_loss: 686.6064\n",
      "Epoch 39/100\n",
      " 8/18 [============>.................] - ETA: 0s - loss: 121.0382INFO:tensorflow:Assets written to: model_experiments\\model_4_conv1D\\assets\n",
      "18/18 [==============================] - 1s 49ms/step - loss: 118.8247 - val_loss: 651.5969\n",
      "Epoch 40/100\n",
      "18/18 [==============================] - ETA: 0s - loss: 120.0097INFO:tensorflow:Assets written to: model_experiments\\model_4_conv1D\\assets\n",
      "18/18 [==============================] - 1s 49ms/step - loss: 120.0097 - val_loss: 649.0779\n",
      "Epoch 41/100\n",
      "15/18 [========================>.....] - ETA: 0s - loss: 116.6139INFO:tensorflow:Assets written to: model_experiments\\model_4_conv1D\\assets\n",
      "18/18 [==============================] - 1s 42ms/step - loss: 116.9709 - val_loss: 642.3253\n",
      "Epoch 42/100\n",
      "18/18 [==============================] - 0s 7ms/step - loss: 118.5935 - val_loss: 690.2695\n",
      "Epoch 43/100\n",
      "11/18 [=================>............] - ETA: 0s - loss: 128.8193INFO:tensorflow:Assets written to: model_experiments\\model_4_conv1D\\assets\n",
      "18/18 [==============================] - 1s 42ms/step - loss: 125.5222 - val_loss: 632.0221\n",
      "Epoch 44/100\n",
      "18/18 [==============================] - 0s 5ms/step - loss: 118.7449 - val_loss: 646.2698\n",
      "Epoch 45/100\n",
      "18/18 [==============================] - 0s 4ms/step - loss: 116.1815 - val_loss: 656.6985\n",
      "Epoch 46/100\n",
      "18/18 [==============================] - ETA: 0s - loss: 114.9009INFO:tensorflow:Assets written to: model_experiments\\model_4_conv1D\\assets\n",
      "18/18 [==============================] - 1s 53ms/step - loss: 114.9009 - val_loss: 625.5532\n",
      "Epoch 47/100\n",
      "18/18 [==============================] - 0s 5ms/step - loss: 115.7826 - val_loss: 634.6323\n",
      "Epoch 48/100\n",
      "18/18 [==============================] - 0s 7ms/step - loss: 117.5634 - val_loss: 642.1985\n",
      "Epoch 49/100\n",
      "18/18 [==============================] - 0s 7ms/step - loss: 113.5909 - val_loss: 626.7542\n",
      "Epoch 50/100\n",
      "17/18 [===========================>..] - ETA: 0s - loss: 114.1644INFO:tensorflow:Assets written to: model_experiments\\model_4_conv1D\\assets\n",
      "18/18 [==============================] - 1s 43ms/step - loss: 113.7895 - val_loss: 614.3907\n",
      "Epoch 51/100\n",
      "15/18 [========================>.....] - ETA: 0s - loss: 116.1984INFO:tensorflow:Assets written to: model_experiments\\model_4_conv1D\\assets\n",
      "18/18 [==============================] - 1s 43ms/step - loss: 113.7649 - val_loss: 608.5298\n",
      "Epoch 52/100\n",
      "18/18 [==============================] - 0s 6ms/step - loss: 113.7209 - val_loss: 609.4438\n",
      "Epoch 53/100\n",
      "18/18 [==============================] - 0s 6ms/step - loss: 114.2641 - val_loss: 660.1199\n",
      "Epoch 54/100\n",
      "14/18 [======================>.......] - ETA: 0s - loss: 112.1456INFO:tensorflow:Assets written to: model_experiments\\model_4_conv1D\\assets\n",
      "18/18 [==============================] - 1s 43ms/step - loss: 115.9861 - val_loss: 603.1350\n",
      "Epoch 55/100\n",
      "18/18 [==============================] - 0s 6ms/step - loss: 122.1978 - val_loss: 614.6032\n",
      "Epoch 56/100\n",
      "18/18 [==============================] - 0s 5ms/step - loss: 116.4753 - val_loss: 756.5262\n",
      "Epoch 57/100\n",
      "18/18 [==============================] - 0s 5ms/step - loss: 125.1652 - val_loss: 615.8414\n",
      "Epoch 58/100\n",
      "18/18 [==============================] - 0s 5ms/step - loss: 115.4726 - val_loss: 612.6191\n",
      "Epoch 59/100\n",
      "18/18 [==============================] - 0s 9ms/step - loss: 113.4605 - val_loss: 665.8809\n",
      "Epoch 60/100\n",
      "18/18 [==============================] - 0s 7ms/step - loss: 127.1059 - val_loss: 611.7219\n",
      "Epoch 61/100\n",
      "18/18 [==============================] - 0s 7ms/step - loss: 112.5817 - val_loss: 641.2527\n",
      "Epoch 62/100\n",
      "18/18 [==============================] - 0s 7ms/step - loss: 119.1005 - val_loss: 628.0948\n",
      "Epoch 63/100\n",
      "11/18 [=================>............] - ETA: 0s - loss: 129.6460INFO:tensorflow:Assets written to: model_experiments\\model_4_conv1D\\assets\n",
      "18/18 [==============================] - 1s 46ms/step - loss: 128.5746 - val_loss: 593.3889\n",
      "Epoch 64/100\n",
      "18/18 [==============================] - ETA: 0s - loss: 118.9766INFO:tensorflow:Assets written to: model_experiments\\model_4_conv1D\\assets\n",
      "18/18 [==============================] - 1s 45ms/step - loss: 118.9766 - val_loss: 593.0499\n",
      "Epoch 65/100\n",
      "18/18 [==============================] - 0s 5ms/step - loss: 111.7448 - val_loss: 611.7271\n",
      "Epoch 66/100\n",
      "18/18 [==============================] - 0s 8ms/step - loss: 111.9387 - val_loss: 663.5916\n",
      "Epoch 67/100\n",
      "18/18 [==============================] - 0s 6ms/step - loss: 114.7288 - val_loss: 653.2220\n",
      "Epoch 68/100\n",
      "18/18 [==============================] - 0s 5ms/step - loss: 118.0989 - val_loss: 605.7418\n",
      "Epoch 69/100\n",
      "18/18 [==============================] - 0s 5ms/step - loss: 111.1296 - val_loss: 614.0317\n",
      "Epoch 70/100\n",
      "18/18 [==============================] - 0s 4ms/step - loss: 114.7802 - val_loss: 625.2291\n",
      "Epoch 71/100\n",
      "18/18 [==============================] - 0s 4ms/step - loss: 114.6883 - val_loss: 667.2272\n",
      "Epoch 72/100\n",
      "18/18 [==============================] - ETA: 0s - loss: 111.9916INFO:tensorflow:Assets written to: model_experiments\\model_4_conv1D\\assets\n",
      "18/18 [==============================] - 1s 40ms/step - loss: 111.9916 - val_loss: 585.9377\n",
      "Epoch 73/100\n",
      "18/18 [==============================] - 0s 11ms/step - loss: 111.2152 - val_loss: 588.0505\n",
      "Epoch 74/100\n",
      "18/18 [==============================] - 0s 4ms/step - loss: 112.3244 - val_loss: 619.5192\n",
      "Epoch 75/100\n",
      "18/18 [==============================] - 0s 4ms/step - loss: 111.0856 - val_loss: 639.7363\n",
      "Epoch 76/100\n",
      "18/18 [==============================] - 0s 4ms/step - loss: 114.9432 - val_loss: 638.2649\n",
      "Epoch 77/100\n",
      "18/18 [==============================] - 0s 4ms/step - loss: 109.6284 - val_loss: 593.2596\n",
      "Epoch 78/100\n",
      "18/18 [==============================] - 0s 4ms/step - loss: 109.3911 - val_loss: 597.8023\n",
      "Epoch 79/100\n",
      "18/18 [==============================] - 0s 4ms/step - loss: 110.0872 - val_loss: 608.8839\n",
      "Epoch 80/100\n",
      "18/18 [==============================] - 0s 4ms/step - loss: 111.0548 - val_loss: 654.6518\n",
      "Epoch 81/100\n",
      " 1/18 [>.............................] - ETA: 0s - loss: 90.6537INFO:tensorflow:Assets written to: model_experiments\\model_4_conv1D\\assets\n",
      "18/18 [==============================] - 1s 41ms/step - loss: 112.2887 - val_loss: 580.5271\n",
      "Epoch 82/100\n",
      "18/18 [==============================] - 0s 4ms/step - loss: 109.9281 - val_loss: 584.5925\n",
      "Epoch 83/100\n",
      "18/18 [==============================] - 0s 4ms/step - loss: 108.4325 - val_loss: 636.7045\n",
      "Epoch 84/100\n",
      "18/18 [==============================] - 0s 4ms/step - loss: 111.5163 - val_loss: 623.3737\n",
      "Epoch 85/100\n",
      "18/18 [==============================] - 0s 4ms/step - loss: 109.8104 - val_loss: 601.6308\n",
      "Epoch 86/100\n",
      "18/18 [==============================] - 0s 4ms/step - loss: 109.2960 - val_loss: 582.7209\n",
      "Epoch 87/100\n",
      " 1/18 [>.............................] - ETA: 0s - loss: 87.6301INFO:tensorflow:Assets written to: model_experiments\\model_4_conv1D\\assets\n",
      "18/18 [==============================] - 1s 37ms/step - loss: 108.1975 - val_loss: 580.1175\n",
      "Epoch 88/100\n",
      "18/18 [==============================] - 0s 5ms/step - loss: 108.5529 - val_loss: 613.4018\n",
      "Epoch 89/100\n",
      "18/18 [==============================] - 0s 4ms/step - loss: 108.3731 - val_loss: 585.8491\n",
      "Epoch 90/100\n",
      "18/18 [==============================] - 0s 4ms/step - loss: 109.7853 - val_loss: 580.6634\n",
      "Epoch 91/100\n",
      "18/18 [==============================] - 0s 4ms/step - loss: 110.2155 - val_loss: 581.7498\n",
      "Epoch 92/100\n",
      "18/18 [==============================] - 0s 5ms/step - loss: 110.1087 - val_loss: 594.7951\n",
      "Epoch 93/100\n",
      "18/18 [==============================] - 0s 5ms/step - loss: 109.2968 - val_loss: 589.4780\n",
      "Epoch 94/100\n",
      "18/18 [==============================] - 0s 4ms/step - loss: 108.9762 - val_loss: 603.4218\n",
      "Epoch 95/100\n",
      "18/18 [==============================] - 0s 4ms/step - loss: 108.0756 - val_loss: 637.4385\n",
      "Epoch 96/100\n",
      "18/18 [==============================] - 0s 5ms/step - loss: 112.8766 - val_loss: 591.2872\n",
      "Epoch 97/100\n",
      "18/18 [==============================] - 0s 5ms/step - loss: 108.0402 - val_loss: 600.1802\n",
      "Epoch 98/100\n",
      "18/18 [==============================] - 0s 4ms/step - loss: 107.8735 - val_loss: 623.6594\n",
      "Epoch 99/100\n",
      " 1/18 [>.............................] - ETA: 0s - loss: 118.3467INFO:tensorflow:Assets written to: model_experiments\\model_4_conv1D\\assets\n",
      "18/18 [==============================] - 1s 39ms/step - loss: 111.9406 - val_loss: 574.7780\n",
      "Epoch 100/100\n",
      "18/18 [==============================] - 0s 5ms/step - loss: 117.0153 - val_loss: 832.9640\n"
     ]
    },
    {
     "data": {
      "text/plain": [
       "<keras.callbacks.History at 0x21db5fabf10>"
      ]
     },
     "execution_count": 70,
     "metadata": {},
     "output_type": "execute_result"
    }
   ],
   "source": [
    "model_4=tf.keras.Sequential([\n",
    "    layers.Lambda(lambda x: tf.expand_dims(x,axis=1)),\n",
    "    layers.Conv1D(128, kernel_size=5,strides=1,padding=\"causal\",activation=\"relu\"),\n",
    "    layers.Dense(HORIZON)   \n",
    "],name=\"model_4_conv1D\")\n",
    "\n",
    "\n",
    "# Compile model \n",
    "\n",
    "model_4.compile(loss=\"mae\",\n",
    "                optimizer=tf.keras.optimizers.Adam())\n",
    "\n",
    "# Fit\n",
    "model_4.fit(train_windows,\n",
    "            train_labels,\n",
    "            batch_size=128,\n",
    "            epochs=100,\n",
    "            validation_data=(test_windows,test_labels),\n",
    "            callbacks=[create_model_checkpoint(model_name=model_4.name)])"
   ]
  },
  {
   "cell_type": "code",
   "execution_count": 71,
   "metadata": {},
   "outputs": [
    {
     "name": "stdout",
     "output_type": "stream",
     "text": [
      "Model: \"model_4_conv1D\"\n",
      "_________________________________________________________________\n",
      " Layer (type)                Output Shape              Param #   \n",
      "=================================================================\n",
      " lambda_1 (Lambda)           (None, 1, 7)              0         \n",
      "                                                                 \n",
      " conv1d (Conv1D)             (None, 1, 128)            4608      \n",
      "                                                                 \n",
      " dense_6 (Dense)             (None, 1, 1)              129       \n",
      "                                                                 \n",
      "=================================================================\n",
      "Total params: 4,737\n",
      "Trainable params: 4,737\n",
      "Non-trainable params: 0\n",
      "_________________________________________________________________\n"
     ]
    }
   ],
   "source": [
    "model_4.summary()"
   ]
  },
  {
   "cell_type": "code",
   "execution_count": 72,
   "metadata": {},
   "outputs": [
    {
     "name": "stdout",
     "output_type": "stream",
     "text": [
      "18/18 [==============================] - 0s 8ms/step - loss: 832.9640\n"
     ]
    },
    {
     "data": {
      "text/plain": [
       "832.9639892578125"
      ]
     },
     "execution_count": 72,
     "metadata": {},
     "output_type": "execute_result"
    }
   ],
   "source": [
    "# Evaluate model\n",
    "model_4.evaluate(test_windows,test_labels)"
   ]
  },
  {
   "cell_type": "code",
   "execution_count": 73,
   "metadata": {},
   "outputs": [
    {
     "name": "stdout",
     "output_type": "stream",
     "text": [
      "18/18 [==============================] - 0s 2ms/step - loss: 574.7781\n"
     ]
    },
    {
     "data": {
      "text/plain": [
       "574.778076171875"
      ]
     },
     "execution_count": 73,
     "metadata": {},
     "output_type": "execute_result"
    }
   ],
   "source": [
    "# Load in best performing Conv1D and revaluate\n",
    "model_4 = tf.keras.models.load_model(\"model_experiments/model_4_conv1D\")\n",
    "model_4.evaluate(test_windows,test_labels)"
   ]
  },
  {
   "cell_type": "code",
   "execution_count": 74,
   "metadata": {},
   "outputs": [
    {
     "data": {
      "text/plain": [
       "<tf.Tensor: shape=(10,), dtype=float32, numpy=\n",
       "array([8704.815 , 8669.115 , 8521.997 , 8436.322 , 8502.095 , 8255.512 ,\n",
       "       8108.7847, 8042.412 , 7691.715 , 7315.2524], dtype=float32)>"
      ]
     },
     "execution_count": 74,
     "metadata": {},
     "output_type": "execute_result"
    }
   ],
   "source": [
    "# Mkae predictions\n",
    "\n",
    "model_4_preds = make_preds(model_4,test_windows)\n",
    "model_4_preds[:10]"
   ]
  },
  {
   "cell_type": "code",
   "execution_count": 75,
   "metadata": {},
   "outputs": [
    {
     "data": {
      "text/plain": [
       "{'mae': 574.778,\n",
       " 'mse': 1190340.9,\n",
       " 'rmse': 1091.0275,\n",
       " 'mape': 2.5663424,\n",
       " 'mase': 1.0031887}"
      ]
     },
     "execution_count": 75,
     "metadata": {},
     "output_type": "execute_result"
    }
   ],
   "source": [
    "# Evaluate preds \n",
    "model_4_results =evaluate_preds(tf.squeeze(test_labels),\n",
    "                                model_4_preds)\n",
    "model_4_results"
   ]
  },
  {
   "attachments": {},
   "cell_type": "markdown",
   "metadata": {},
   "source": [
    "## Model 5: RNN (LSTM)\n"
   ]
  },
  {
   "cell_type": "code",
   "execution_count": 76,
   "metadata": {},
   "outputs": [
    {
     "name": "stdout",
     "output_type": "stream",
     "text": [
      "WARNING:tensorflow:Layer lstm will not use cuDNN kernels since it doesn't meet the criteria. It will use a generic GPU kernel as fallback when running on GPU.\n",
      "Epoch 1/100\n",
      "16/18 [=========================>....] - ETA: 0s - loss: 2387.3342INFO:tensorflow:Assets written to: model_experiments\\model_5_LSTM\\assets\n"
     ]
    },
    {
     "name": "stderr",
     "output_type": "stream",
     "text": [
      "WARNING:absl:<keras.layers.recurrent.LSTMCell object at 0x0000021EAC049390> has the same name 'LSTMCell' as a built-in Keras object. Consider renaming <class 'keras.layers.recurrent.LSTMCell'> to avoid naming conflicts when loading with `tf.keras.models.load_model`. If renaming is not possible, pass the object in the `custom_objects` parameter of the load function.\n"
     ]
    },
    {
     "name": "stdout",
     "output_type": "stream",
     "text": [
      "18/18 [==============================] - 3s 103ms/step - loss: 2336.7212 - val_loss: 9045.6035\n",
      "Epoch 2/100\n",
      "18/18 [==============================] - ETA: 0s - loss: 711.9308 INFO:tensorflow:Assets written to: model_experiments\\model_5_LSTM\\assets\n"
     ]
    },
    {
     "name": "stderr",
     "output_type": "stream",
     "text": [
      "INFO:tensorflow:Assets written to: model_experiments\\model_5_LSTM\\assets\n",
      "WARNING:absl:<keras.layers.recurrent.LSTMCell object at 0x0000021EAC049390> has the same name 'LSTMCell' as a built-in Keras object. Consider renaming <class 'keras.layers.recurrent.LSTMCell'> to avoid naming conflicts when loading with `tf.keras.models.load_model`. If renaming is not possible, pass the object in the `custom_objects` parameter of the load function.\n"
     ]
    },
    {
     "name": "stdout",
     "output_type": "stream",
     "text": [
      "18/18 [==============================] - 2s 92ms/step - loss: 711.9308 - val_loss: 1442.2871\n",
      "Epoch 3/100\n",
      "10/18 [===============>..............] - ETA: 0s - loss: 276.2114INFO:tensorflow:Assets written to: model_experiments\\model_5_LSTM\\assets\n"
     ]
    },
    {
     "name": "stderr",
     "output_type": "stream",
     "text": [
      "INFO:tensorflow:Assets written to: model_experiments\\model_5_LSTM\\assets\n",
      "WARNING:absl:<keras.layers.recurrent.LSTMCell object at 0x0000021EAC049390> has the same name 'LSTMCell' as a built-in Keras object. Consider renaming <class 'keras.layers.recurrent.LSTMCell'> to avoid naming conflicts when loading with `tf.keras.models.load_model`. If renaming is not possible, pass the object in the `custom_objects` parameter of the load function.\n"
     ]
    },
    {
     "name": "stdout",
     "output_type": "stream",
     "text": [
      "18/18 [==============================] - 2s 91ms/step - loss: 239.2708 - val_loss: 1320.5254\n",
      "Epoch 4/100\n",
      "18/18 [==============================] - ETA: 0s - loss: 182.9835INFO:tensorflow:Assets written to: model_experiments\\model_5_LSTM\\assets\n"
     ]
    },
    {
     "name": "stderr",
     "output_type": "stream",
     "text": [
      "INFO:tensorflow:Assets written to: model_experiments\\model_5_LSTM\\assets\n",
      "WARNING:absl:<keras.layers.recurrent.LSTMCell object at 0x0000021EAC049390> has the same name 'LSTMCell' as a built-in Keras object. Consider renaming <class 'keras.layers.recurrent.LSTMCell'> to avoid naming conflicts when loading with `tf.keras.models.load_model`. If renaming is not possible, pass the object in the `custom_objects` parameter of the load function.\n"
     ]
    },
    {
     "name": "stdout",
     "output_type": "stream",
     "text": [
      "18/18 [==============================] - 2s 104ms/step - loss: 182.9835 - val_loss: 981.6747\n",
      "Epoch 5/100\n",
      "10/18 [===============>..............] - ETA: 0s - loss: 180.7733INFO:tensorflow:Assets written to: model_experiments\\model_5_LSTM\\assets\n"
     ]
    },
    {
     "name": "stderr",
     "output_type": "stream",
     "text": [
      "INFO:tensorflow:Assets written to: model_experiments\\model_5_LSTM\\assets\n",
      "WARNING:absl:<keras.layers.recurrent.LSTMCell object at 0x0000021EAC049390> has the same name 'LSTMCell' as a built-in Keras object. Consider renaming <class 'keras.layers.recurrent.LSTMCell'> to avoid naming conflicts when loading with `tf.keras.models.load_model`. If renaming is not possible, pass the object in the `custom_objects` parameter of the load function.\n"
     ]
    },
    {
     "name": "stdout",
     "output_type": "stream",
     "text": [
      "18/18 [==============================] - 2s 92ms/step - loss: 174.9795 - val_loss: 959.8746\n",
      "Epoch 6/100\n",
      "10/18 [===============>..............] - ETA: 0s - loss: 163.7727INFO:tensorflow:Assets written to: model_experiments\\model_5_LSTM\\assets\n"
     ]
    },
    {
     "name": "stderr",
     "output_type": "stream",
     "text": [
      "INFO:tensorflow:Assets written to: model_experiments\\model_5_LSTM\\assets\n",
      "WARNING:absl:<keras.layers.recurrent.LSTMCell object at 0x0000021EAC049390> has the same name 'LSTMCell' as a built-in Keras object. Consider renaming <class 'keras.layers.recurrent.LSTMCell'> to avoid naming conflicts when loading with `tf.keras.models.load_model`. If renaming is not possible, pass the object in the `custom_objects` parameter of the load function.\n"
     ]
    },
    {
     "name": "stdout",
     "output_type": "stream",
     "text": [
      "18/18 [==============================] - 2s 92ms/step - loss: 176.4473 - val_loss: 950.2917\n",
      "Epoch 7/100\n",
      "18/18 [==============================] - 0s 7ms/step - loss: 176.7048 - val_loss: 1005.5700\n",
      "Epoch 8/100\n",
      "18/18 [==============================] - 0s 7ms/step - loss: 167.4149 - val_loss: 962.6767\n",
      "Epoch 9/100\n",
      "18/18 [==============================] - 0s 7ms/step - loss: 165.1346 - val_loss: 1007.8981\n",
      "Epoch 10/100\n",
      "18/18 [==============================] - 0s 7ms/step - loss: 167.6294 - val_loss: 1009.1493\n",
      "Epoch 11/100\n",
      "11/18 [=================>............] - ETA: 0s - loss: 160.7681INFO:tensorflow:Assets written to: model_experiments\\model_5_LSTM\\assets\n"
     ]
    },
    {
     "name": "stderr",
     "output_type": "stream",
     "text": [
      "INFO:tensorflow:Assets written to: model_experiments\\model_5_LSTM\\assets\n",
      "WARNING:absl:<keras.layers.recurrent.LSTMCell object at 0x0000021EAC049390> has the same name 'LSTMCell' as a built-in Keras object. Consider renaming <class 'keras.layers.recurrent.LSTMCell'> to avoid naming conflicts when loading with `tf.keras.models.load_model`. If renaming is not possible, pass the object in the `custom_objects` parameter of the load function.\n"
     ]
    },
    {
     "name": "stdout",
     "output_type": "stream",
     "text": [
      "18/18 [==============================] - 2s 102ms/step - loss: 165.9615 - val_loss: 922.4389\n",
      "Epoch 12/100\n",
      "11/18 [=================>............] - ETA: 0s - loss: 164.4605INFO:tensorflow:Assets written to: model_experiments\\model_5_LSTM\\assets\n"
     ]
    },
    {
     "name": "stderr",
     "output_type": "stream",
     "text": [
      "INFO:tensorflow:Assets written to: model_experiments\\model_5_LSTM\\assets\n",
      "WARNING:absl:<keras.layers.recurrent.LSTMCell object at 0x0000021EAC049390> has the same name 'LSTMCell' as a built-in Keras object. Consider renaming <class 'keras.layers.recurrent.LSTMCell'> to avoid naming conflicts when loading with `tf.keras.models.load_model`. If renaming is not possible, pass the object in the `custom_objects` parameter of the load function.\n"
     ]
    },
    {
     "name": "stdout",
     "output_type": "stream",
     "text": [
      "18/18 [==============================] - 2s 89ms/step - loss: 166.1708 - val_loss: 912.7910\n",
      "Epoch 13/100\n",
      "11/18 [=================>............] - ETA: 0s - loss: 147.9916INFO:tensorflow:Assets written to: model_experiments\\model_5_LSTM\\assets\n"
     ]
    },
    {
     "name": "stderr",
     "output_type": "stream",
     "text": [
      "INFO:tensorflow:Assets written to: model_experiments\\model_5_LSTM\\assets\n",
      "WARNING:absl:<keras.layers.recurrent.LSTMCell object at 0x0000021EAC049390> has the same name 'LSTMCell' as a built-in Keras object. Consider renaming <class 'keras.layers.recurrent.LSTMCell'> to avoid naming conflicts when loading with `tf.keras.models.load_model`. If renaming is not possible, pass the object in the `custom_objects` parameter of the load function.\n"
     ]
    },
    {
     "name": "stdout",
     "output_type": "stream",
     "text": [
      "18/18 [==============================] - 2s 88ms/step - loss: 162.9857 - val_loss: 906.2006\n",
      "Epoch 14/100\n",
      "18/18 [==============================] - 0s 7ms/step - loss: 161.5913 - val_loss: 913.2524\n",
      "Epoch 15/100\n",
      "18/18 [==============================] - 0s 7ms/step - loss: 158.0985 - val_loss: 920.8420\n",
      "Epoch 16/100\n",
      "10/18 [===============>..............] - ETA: 0s - loss: 156.6491INFO:tensorflow:Assets written to: model_experiments\\model_5_LSTM\\assets\n"
     ]
    },
    {
     "name": "stderr",
     "output_type": "stream",
     "text": [
      "INFO:tensorflow:Assets written to: model_experiments\\model_5_LSTM\\assets\n",
      "WARNING:absl:<keras.layers.recurrent.LSTMCell object at 0x0000021EAC049390> has the same name 'LSTMCell' as a built-in Keras object. Consider renaming <class 'keras.layers.recurrent.LSTMCell'> to avoid naming conflicts when loading with `tf.keras.models.load_model`. If renaming is not possible, pass the object in the `custom_objects` parameter of the load function.\n"
     ]
    },
    {
     "name": "stdout",
     "output_type": "stream",
     "text": [
      "18/18 [==============================] - 2s 91ms/step - loss: 158.4031 - val_loss: 905.5132\n",
      "Epoch 17/100\n",
      "11/18 [=================>............] - ETA: 0s - loss: 146.2022INFO:tensorflow:Assets written to: model_experiments\\model_5_LSTM\\assets\n"
     ]
    },
    {
     "name": "stderr",
     "output_type": "stream",
     "text": [
      "INFO:tensorflow:Assets written to: model_experiments\\model_5_LSTM\\assets\n",
      "WARNING:absl:<keras.layers.recurrent.LSTMCell object at 0x0000021EAC049390> has the same name 'LSTMCell' as a built-in Keras object. Consider renaming <class 'keras.layers.recurrent.LSTMCell'> to avoid naming conflicts when loading with `tf.keras.models.load_model`. If renaming is not possible, pass the object in the `custom_objects` parameter of the load function.\n"
     ]
    },
    {
     "name": "stdout",
     "output_type": "stream",
     "text": [
      "18/18 [==============================] - 2s 105ms/step - loss: 155.9547 - val_loss: 871.4522\n",
      "Epoch 18/100\n",
      "18/18 [==============================] - 0s 7ms/step - loss: 155.1698 - val_loss: 873.4503\n",
      "Epoch 19/100\n",
      "18/18 [==============================] - 0s 7ms/step - loss: 152.8280 - val_loss: 913.1996\n",
      "Epoch 20/100\n",
      "11/18 [=================>............] - ETA: 0s - loss: 151.7060INFO:tensorflow:Assets written to: model_experiments\\model_5_LSTM\\assets\n"
     ]
    },
    {
     "name": "stderr",
     "output_type": "stream",
     "text": [
      "INFO:tensorflow:Assets written to: model_experiments\\model_5_LSTM\\assets\n",
      "WARNING:absl:<keras.layers.recurrent.LSTMCell object at 0x0000021EAC049390> has the same name 'LSTMCell' as a built-in Keras object. Consider renaming <class 'keras.layers.recurrent.LSTMCell'> to avoid naming conflicts when loading with `tf.keras.models.load_model`. If renaming is not possible, pass the object in the `custom_objects` parameter of the load function.\n"
     ]
    },
    {
     "name": "stdout",
     "output_type": "stream",
     "text": [
      "18/18 [==============================] - 2s 90ms/step - loss: 154.0173 - val_loss: 854.1241\n",
      "Epoch 21/100\n",
      "11/18 [=================>............] - ETA: 0s - loss: 149.1722INFO:tensorflow:Assets written to: model_experiments\\model_5_LSTM\\assets\n"
     ]
    },
    {
     "name": "stderr",
     "output_type": "stream",
     "text": [
      "INFO:tensorflow:Assets written to: model_experiments\\model_5_LSTM\\assets\n",
      "WARNING:absl:<keras.layers.recurrent.LSTMCell object at 0x0000021EAC049390> has the same name 'LSTMCell' as a built-in Keras object. Consider renaming <class 'keras.layers.recurrent.LSTMCell'> to avoid naming conflicts when loading with `tf.keras.models.load_model`. If renaming is not possible, pass the object in the `custom_objects` parameter of the load function.\n"
     ]
    },
    {
     "name": "stdout",
     "output_type": "stream",
     "text": [
      "18/18 [==============================] - 2s 90ms/step - loss: 151.9810 - val_loss: 830.6902\n",
      "Epoch 22/100\n",
      "18/18 [==============================] - 0s 7ms/step - loss: 148.6223 - val_loss: 880.1916\n",
      "Epoch 23/100\n",
      "18/18 [==============================] - 0s 7ms/step - loss: 147.4644 - val_loss: 878.3856\n",
      "Epoch 24/100\n",
      "18/18 [==============================] - 0s 7ms/step - loss: 145.0904 - val_loss: 841.6723\n",
      "Epoch 25/100\n",
      "10/18 [===============>..............] - ETA: 0s - loss: 145.8478INFO:tensorflow:Assets written to: model_experiments\\model_5_LSTM\\assets\n"
     ]
    },
    {
     "name": "stderr",
     "output_type": "stream",
     "text": [
      "INFO:tensorflow:Assets written to: model_experiments\\model_5_LSTM\\assets\n",
      "WARNING:absl:<keras.layers.recurrent.LSTMCell object at 0x0000021EAC049390> has the same name 'LSTMCell' as a built-in Keras object. Consider renaming <class 'keras.layers.recurrent.LSTMCell'> to avoid naming conflicts when loading with `tf.keras.models.load_model`. If renaming is not possible, pass the object in the `custom_objects` parameter of the load function.\n"
     ]
    },
    {
     "name": "stdout",
     "output_type": "stream",
     "text": [
      "18/18 [==============================] - 2s 93ms/step - loss: 145.3143 - val_loss: 798.7645\n",
      "Epoch 26/100\n",
      "12/18 [===================>..........] - ETA: 0s - loss: 145.6847INFO:tensorflow:Assets written to: model_experiments\\model_5_LSTM\\assets\n"
     ]
    },
    {
     "name": "stderr",
     "output_type": "stream",
     "text": [
      "INFO:tensorflow:Assets written to: model_experiments\\model_5_LSTM\\assets\n",
      "WARNING:absl:<keras.layers.recurrent.LSTMCell object at 0x0000021EAC049390> has the same name 'LSTMCell' as a built-in Keras object. Consider renaming <class 'keras.layers.recurrent.LSTMCell'> to avoid naming conflicts when loading with `tf.keras.models.load_model`. If renaming is not possible, pass the object in the `custom_objects` parameter of the load function.\n"
     ]
    },
    {
     "name": "stdout",
     "output_type": "stream",
     "text": [
      "18/18 [==============================] - 2s 101ms/step - loss: 142.1881 - val_loss: 790.5482\n",
      "Epoch 27/100\n",
      "18/18 [==============================] - 0s 6ms/step - loss: 141.5711 - val_loss: 906.3041\n",
      "Epoch 28/100\n",
      "13/18 [====================>.........] - ETA: 0s - loss: 147.4140INFO:tensorflow:Assets written to: model_experiments\\model_5_LSTM\\assets\n"
     ]
    },
    {
     "name": "stderr",
     "output_type": "stream",
     "text": [
      "INFO:tensorflow:Assets written to: model_experiments\\model_5_LSTM\\assets\n",
      "WARNING:absl:<keras.layers.recurrent.LSTMCell object at 0x0000021EAC049390> has the same name 'LSTMCell' as a built-in Keras object. Consider renaming <class 'keras.layers.recurrent.LSTMCell'> to avoid naming conflicts when loading with `tf.keras.models.load_model`. If renaming is not possible, pass the object in the `custom_objects` parameter of the load function.\n"
     ]
    },
    {
     "name": "stdout",
     "output_type": "stream",
     "text": [
      "18/18 [==============================] - 2s 91ms/step - loss: 141.7803 - val_loss: 779.0469\n",
      "Epoch 29/100\n",
      "18/18 [==============================] - 0s 8ms/step - loss: 137.8382 - val_loss: 826.8504\n",
      "Epoch 30/100\n",
      "18/18 [==============================] - 0s 7ms/step - loss: 136.5561 - val_loss: 780.6615\n",
      "Epoch 31/100\n",
      "11/18 [=================>............] - ETA: 0s - loss: 144.6324INFO:tensorflow:Assets written to: model_experiments\\model_5_LSTM\\assets\n"
     ]
    },
    {
     "name": "stderr",
     "output_type": "stream",
     "text": [
      "INFO:tensorflow:Assets written to: model_experiments\\model_5_LSTM\\assets\n",
      "WARNING:absl:<keras.layers.recurrent.LSTMCell object at 0x0000021EAC049390> has the same name 'LSTMCell' as a built-in Keras object. Consider renaming <class 'keras.layers.recurrent.LSTMCell'> to avoid naming conflicts when loading with `tf.keras.models.load_model`. If renaming is not possible, pass the object in the `custom_objects` parameter of the load function.\n"
     ]
    },
    {
     "name": "stdout",
     "output_type": "stream",
     "text": [
      "18/18 [==============================] - 2s 89ms/step - loss: 135.9364 - val_loss: 756.9119\n",
      "Epoch 32/100\n",
      "11/18 [=================>............] - ETA: 0s - loss: 123.0433INFO:tensorflow:Assets written to: model_experiments\\model_5_LSTM\\assets\n"
     ]
    },
    {
     "name": "stderr",
     "output_type": "stream",
     "text": [
      "INFO:tensorflow:Assets written to: model_experiments\\model_5_LSTM\\assets\n",
      "WARNING:absl:<keras.layers.recurrent.LSTMCell object at 0x0000021EAC049390> has the same name 'LSTMCell' as a built-in Keras object. Consider renaming <class 'keras.layers.recurrent.LSTMCell'> to avoid naming conflicts when loading with `tf.keras.models.load_model`. If renaming is not possible, pass the object in the `custom_objects` parameter of the load function.\n"
     ]
    },
    {
     "name": "stdout",
     "output_type": "stream",
     "text": [
      "18/18 [==============================] - 2s 92ms/step - loss: 135.8566 - val_loss: 751.7798\n",
      "Epoch 33/100\n",
      "18/18 [==============================] - 0s 7ms/step - loss: 135.0988 - val_loss: 758.3214\n",
      "Epoch 34/100\n",
      "11/18 [=================>............] - ETA: 0s - loss: 134.8682INFO:tensorflow:Assets written to: model_experiments\\model_5_LSTM\\assets\n"
     ]
    },
    {
     "name": "stderr",
     "output_type": "stream",
     "text": [
      "INFO:tensorflow:Assets written to: model_experiments\\model_5_LSTM\\assets\n",
      "WARNING:absl:<keras.layers.recurrent.LSTMCell object at 0x0000021EAC049390> has the same name 'LSTMCell' as a built-in Keras object. Consider renaming <class 'keras.layers.recurrent.LSTMCell'> to avoid naming conflicts when loading with `tf.keras.models.load_model`. If renaming is not possible, pass the object in the `custom_objects` parameter of the load function.\n"
     ]
    },
    {
     "name": "stdout",
     "output_type": "stream",
     "text": [
      "18/18 [==============================] - 2s 104ms/step - loss: 136.0903 - val_loss: 735.0709\n",
      "Epoch 35/100\n",
      "18/18 [==============================] - 0s 7ms/step - loss: 131.9063 - val_loss: 738.7091\n",
      "Epoch 36/100\n",
      "11/18 [=================>............] - ETA: 0s - loss: 131.9163INFO:tensorflow:Assets written to: model_experiments\\model_5_LSTM\\assets\n"
     ]
    },
    {
     "name": "stderr",
     "output_type": "stream",
     "text": [
      "INFO:tensorflow:Assets written to: model_experiments\\model_5_LSTM\\assets\n",
      "WARNING:absl:<keras.layers.recurrent.LSTMCell object at 0x0000021EAC049390> has the same name 'LSTMCell' as a built-in Keras object. Consider renaming <class 'keras.layers.recurrent.LSTMCell'> to avoid naming conflicts when loading with `tf.keras.models.load_model`. If renaming is not possible, pass the object in the `custom_objects` parameter of the load function.\n"
     ]
    },
    {
     "name": "stdout",
     "output_type": "stream",
     "text": [
      "18/18 [==============================] - 2s 91ms/step - loss: 130.6139 - val_loss: 731.7086\n",
      "Epoch 37/100\n",
      "10/18 [===============>..............] - ETA: 0s - loss: 157.9335INFO:tensorflow:Assets written to: model_experiments\\model_5_LSTM\\assets\n"
     ]
    },
    {
     "name": "stderr",
     "output_type": "stream",
     "text": [
      "INFO:tensorflow:Assets written to: model_experiments\\model_5_LSTM\\assets\n",
      "WARNING:absl:<keras.layers.recurrent.LSTMCell object at 0x0000021EAC049390> has the same name 'LSTMCell' as a built-in Keras object. Consider renaming <class 'keras.layers.recurrent.LSTMCell'> to avoid naming conflicts when loading with `tf.keras.models.load_model`. If renaming is not possible, pass the object in the `custom_objects` parameter of the load function.\n"
     ]
    },
    {
     "name": "stdout",
     "output_type": "stream",
     "text": [
      "18/18 [==============================] - 2s 90ms/step - loss: 150.3801 - val_loss: 718.5421\n",
      "Epoch 38/100\n",
      "18/18 [==============================] - 0s 7ms/step - loss: 128.2605 - val_loss: 724.5986\n",
      "Epoch 39/100\n",
      "11/18 [=================>............] - ETA: 0s - loss: 128.2480INFO:tensorflow:Assets written to: model_experiments\\model_5_LSTM\\assets\n"
     ]
    },
    {
     "name": "stderr",
     "output_type": "stream",
     "text": [
      "INFO:tensorflow:Assets written to: model_experiments\\model_5_LSTM\\assets\n",
      "WARNING:absl:<keras.layers.recurrent.LSTMCell object at 0x0000021EAC049390> has the same name 'LSTMCell' as a built-in Keras object. Consider renaming <class 'keras.layers.recurrent.LSTMCell'> to avoid naming conflicts when loading with `tf.keras.models.load_model`. If renaming is not possible, pass the object in the `custom_objects` parameter of the load function.\n"
     ]
    },
    {
     "name": "stdout",
     "output_type": "stream",
     "text": [
      "18/18 [==============================] - 2s 89ms/step - loss: 127.2001 - val_loss: 713.4073\n",
      "Epoch 40/100\n",
      "11/18 [=================>............] - ETA: 0s - loss: 123.6234INFO:tensorflow:Assets written to: model_experiments\\model_5_LSTM\\assets\n"
     ]
    },
    {
     "name": "stderr",
     "output_type": "stream",
     "text": [
      "INFO:tensorflow:Assets written to: model_experiments\\model_5_LSTM\\assets\n",
      "WARNING:absl:<keras.layers.recurrent.LSTMCell object at 0x0000021EAC049390> has the same name 'LSTMCell' as a built-in Keras object. Consider renaming <class 'keras.layers.recurrent.LSTMCell'> to avoid naming conflicts when loading with `tf.keras.models.load_model`. If renaming is not possible, pass the object in the `custom_objects` parameter of the load function.\n"
     ]
    },
    {
     "name": "stdout",
     "output_type": "stream",
     "text": [
      "18/18 [==============================] - 2s 105ms/step - loss: 126.6686 - val_loss: 702.1061\n",
      "Epoch 41/100\n",
      "18/18 [==============================] - 0s 7ms/step - loss: 126.8580 - val_loss: 704.5472\n",
      "Epoch 42/100\n",
      "18/18 [==============================] - 0s 7ms/step - loss: 125.3855 - val_loss: 739.6730\n",
      "Epoch 43/100\n",
      "11/18 [=================>............] - ETA: 0s - loss: 131.1425INFO:tensorflow:Assets written to: model_experiments\\model_5_LSTM\\assets\n"
     ]
    },
    {
     "name": "stderr",
     "output_type": "stream",
     "text": [
      "INFO:tensorflow:Assets written to: model_experiments\\model_5_LSTM\\assets\n",
      "WARNING:absl:<keras.layers.recurrent.LSTMCell object at 0x0000021EAC049390> has the same name 'LSTMCell' as a built-in Keras object. Consider renaming <class 'keras.layers.recurrent.LSTMCell'> to avoid naming conflicts when loading with `tf.keras.models.load_model`. If renaming is not possible, pass the object in the `custom_objects` parameter of the load function.\n"
     ]
    },
    {
     "name": "stdout",
     "output_type": "stream",
     "text": [
      "18/18 [==============================] - 2s 89ms/step - loss: 126.4163 - val_loss: 689.1602\n",
      "Epoch 44/100\n",
      "18/18 [==============================] - 0s 7ms/step - loss: 125.0489 - val_loss: 722.1752\n",
      "Epoch 45/100\n",
      "18/18 [==============================] - 0s 7ms/step - loss: 123.0148 - val_loss: 707.7032\n",
      "Epoch 46/100\n",
      "11/18 [=================>............] - ETA: 0s - loss: 124.7863INFO:tensorflow:Assets written to: model_experiments\\model_5_LSTM\\assets\n"
     ]
    },
    {
     "name": "stderr",
     "output_type": "stream",
     "text": [
      "INFO:tensorflow:Assets written to: model_experiments\\model_5_LSTM\\assets\n",
      "WARNING:absl:<keras.layers.recurrent.LSTMCell object at 0x0000021EAC049390> has the same name 'LSTMCell' as a built-in Keras object. Consider renaming <class 'keras.layers.recurrent.LSTMCell'> to avoid naming conflicts when loading with `tf.keras.models.load_model`. If renaming is not possible, pass the object in the `custom_objects` parameter of the load function.\n"
     ]
    },
    {
     "name": "stdout",
     "output_type": "stream",
     "text": [
      "18/18 [==============================] - 2s 90ms/step - loss: 122.5035 - val_loss: 676.3026\n",
      "Epoch 47/100\n",
      "10/18 [===============>..............] - ETA: 0s - loss: 123.0541INFO:tensorflow:Assets written to: model_experiments\\model_5_LSTM\\assets\n"
     ]
    },
    {
     "name": "stderr",
     "output_type": "stream",
     "text": [
      "INFO:tensorflow:Assets written to: model_experiments\\model_5_LSTM\\assets\n",
      "WARNING:absl:<keras.layers.recurrent.LSTMCell object at 0x0000021EAC049390> has the same name 'LSTMCell' as a built-in Keras object. Consider renaming <class 'keras.layers.recurrent.LSTMCell'> to avoid naming conflicts when loading with `tf.keras.models.load_model`. If renaming is not possible, pass the object in the `custom_objects` parameter of the load function.\n"
     ]
    },
    {
     "name": "stdout",
     "output_type": "stream",
     "text": [
      "18/18 [==============================] - 2s 89ms/step - loss: 121.2718 - val_loss: 672.2407\n",
      "Epoch 48/100\n",
      "18/18 [==============================] - 0s 8ms/step - loss: 123.1524 - val_loss: 783.8877\n",
      "Epoch 49/100\n",
      "11/18 [=================>............] - ETA: 0s - loss: 134.4699INFO:tensorflow:Assets written to: model_experiments\\model_5_LSTM\\assets\n"
     ]
    },
    {
     "name": "stderr",
     "output_type": "stream",
     "text": [
      "INFO:tensorflow:Assets written to: model_experiments\\model_5_LSTM\\assets\n",
      "WARNING:absl:<keras.layers.recurrent.LSTMCell object at 0x0000021EAC049390> has the same name 'LSTMCell' as a built-in Keras object. Consider renaming <class 'keras.layers.recurrent.LSTMCell'> to avoid naming conflicts when loading with `tf.keras.models.load_model`. If renaming is not possible, pass the object in the `custom_objects` parameter of the load function.\n"
     ]
    },
    {
     "name": "stdout",
     "output_type": "stream",
     "text": [
      "18/18 [==============================] - 2s 104ms/step - loss: 126.2957 - val_loss: 666.4952\n",
      "Epoch 50/100\n",
      "18/18 [==============================] - 0s 7ms/step - loss: 122.1675 - val_loss: 701.2913\n",
      "Epoch 51/100\n",
      "11/18 [=================>............] - ETA: 0s - loss: 127.0298INFO:tensorflow:Assets written to: model_experiments\\model_5_LSTM\\assets\n"
     ]
    },
    {
     "name": "stderr",
     "output_type": "stream",
     "text": [
      "INFO:tensorflow:Assets written to: model_experiments\\model_5_LSTM\\assets\n",
      "WARNING:absl:<keras.layers.recurrent.LSTMCell object at 0x0000021EAC049390> has the same name 'LSTMCell' as a built-in Keras object. Consider renaming <class 'keras.layers.recurrent.LSTMCell'> to avoid naming conflicts when loading with `tf.keras.models.load_model`. If renaming is not possible, pass the object in the `custom_objects` parameter of the load function.\n"
     ]
    },
    {
     "name": "stdout",
     "output_type": "stream",
     "text": [
      "18/18 [==============================] - 2s 89ms/step - loss: 124.2146 - val_loss: 664.3631\n",
      "Epoch 52/100\n",
      "18/18 [==============================] - 0s 7ms/step - loss: 122.8422 - val_loss: 745.8642\n",
      "Epoch 53/100\n",
      "10/18 [===============>..............] - ETA: 0s - loss: 123.2059INFO:tensorflow:Assets written to: model_experiments\\model_5_LSTM\\assets\n"
     ]
    },
    {
     "name": "stderr",
     "output_type": "stream",
     "text": [
      "INFO:tensorflow:Assets written to: model_experiments\\model_5_LSTM\\assets\n",
      "WARNING:absl:<keras.layers.recurrent.LSTMCell object at 0x0000021EAC049390> has the same name 'LSTMCell' as a built-in Keras object. Consider renaming <class 'keras.layers.recurrent.LSTMCell'> to avoid naming conflicts when loading with `tf.keras.models.load_model`. If renaming is not possible, pass the object in the `custom_objects` parameter of the load function.\n"
     ]
    },
    {
     "name": "stdout",
     "output_type": "stream",
     "text": [
      "18/18 [==============================] - 2s 92ms/step - loss: 126.6225 - val_loss: 655.8232\n",
      "Epoch 54/100\n",
      "18/18 [==============================] - 0s 8ms/step - loss: 124.1256 - val_loss: 670.5493\n",
      "Epoch 55/100\n",
      "18/18 [==============================] - 0s 7ms/step - loss: 126.3667 - val_loss: 664.3867\n",
      "Epoch 56/100\n",
      "18/18 [==============================] - 0s 7ms/step - loss: 118.5741 - val_loss: 686.7986\n",
      "Epoch 57/100\n",
      "11/18 [=================>............] - ETA: 0s - loss: 128.6840INFO:tensorflow:Assets written to: model_experiments\\model_5_LSTM\\assets\n"
     ]
    },
    {
     "name": "stderr",
     "output_type": "stream",
     "text": [
      "INFO:tensorflow:Assets written to: model_experiments\\model_5_LSTM\\assets\n",
      "WARNING:absl:<keras.layers.recurrent.LSTMCell object at 0x0000021EAC049390> has the same name 'LSTMCell' as a built-in Keras object. Consider renaming <class 'keras.layers.recurrent.LSTMCell'> to avoid naming conflicts when loading with `tf.keras.models.load_model`. If renaming is not possible, pass the object in the `custom_objects` parameter of the load function.\n"
     ]
    },
    {
     "name": "stdout",
     "output_type": "stream",
     "text": [
      "18/18 [==============================] - 2s 89ms/step - loss: 122.9106 - val_loss: 649.9595\n",
      "Epoch 58/100\n",
      "11/18 [=================>............] - ETA: 0s - loss: 115.4901INFO:tensorflow:Assets written to: model_experiments\\model_5_LSTM\\assets\n"
     ]
    },
    {
     "name": "stderr",
     "output_type": "stream",
     "text": [
      "INFO:tensorflow:Assets written to: model_experiments\\model_5_LSTM\\assets\n",
      "WARNING:absl:<keras.layers.recurrent.LSTMCell object at 0x0000021EAC049390> has the same name 'LSTMCell' as a built-in Keras object. Consider renaming <class 'keras.layers.recurrent.LSTMCell'> to avoid naming conflicts when loading with `tf.keras.models.load_model`. If renaming is not possible, pass the object in the `custom_objects` parameter of the load function.\n"
     ]
    },
    {
     "name": "stdout",
     "output_type": "stream",
     "text": [
      "18/18 [==============================] - 2s 104ms/step - loss: 117.5861 - val_loss: 647.2559\n",
      "Epoch 59/100\n",
      "11/18 [=================>............] - ETA: 0s - loss: 112.5392INFO:tensorflow:Assets written to: model_experiments\\model_5_LSTM\\assets\n"
     ]
    },
    {
     "name": "stderr",
     "output_type": "stream",
     "text": [
      "INFO:tensorflow:Assets written to: model_experiments\\model_5_LSTM\\assets\n",
      "WARNING:absl:<keras.layers.recurrent.LSTMCell object at 0x0000021EAC049390> has the same name 'LSTMCell' as a built-in Keras object. Consider renaming <class 'keras.layers.recurrent.LSTMCell'> to avoid naming conflicts when loading with `tf.keras.models.load_model`. If renaming is not possible, pass the object in the `custom_objects` parameter of the load function.\n"
     ]
    },
    {
     "name": "stdout",
     "output_type": "stream",
     "text": [
      "18/18 [==============================] - 2s 89ms/step - loss: 118.1674 - val_loss: 644.8066\n",
      "Epoch 60/100\n",
      "10/18 [===============>..............] - ETA: 0s - loss: 118.8053INFO:tensorflow:Assets written to: model_experiments\\model_5_LSTM\\assets\n"
     ]
    },
    {
     "name": "stderr",
     "output_type": "stream",
     "text": [
      "INFO:tensorflow:Assets written to: model_experiments\\model_5_LSTM\\assets\n",
      "WARNING:absl:<keras.layers.recurrent.LSTMCell object at 0x0000021EAC049390> has the same name 'LSTMCell' as a built-in Keras object. Consider renaming <class 'keras.layers.recurrent.LSTMCell'> to avoid naming conflicts when loading with `tf.keras.models.load_model`. If renaming is not possible, pass the object in the `custom_objects` parameter of the load function.\n"
     ]
    },
    {
     "name": "stdout",
     "output_type": "stream",
     "text": [
      "18/18 [==============================] - 2s 91ms/step - loss: 120.6697 - val_loss: 642.5886\n",
      "Epoch 61/100\n",
      "18/18 [==============================] - 0s 7ms/step - loss: 118.4601 - val_loss: 642.9163\n",
      "Epoch 62/100\n",
      "18/18 [==============================] - 0s 7ms/step - loss: 121.6432 - val_loss: 643.7953\n",
      "Epoch 63/100\n",
      "10/18 [===============>..............] - ETA: 0s - loss: 123.9050INFO:tensorflow:Assets written to: model_experiments\\model_5_LSTM\\assets\n"
     ]
    },
    {
     "name": "stderr",
     "output_type": "stream",
     "text": [
      "INFO:tensorflow:Assets written to: model_experiments\\model_5_LSTM\\assets\n",
      "WARNING:absl:<keras.layers.recurrent.LSTMCell object at 0x0000021EAC049390> has the same name 'LSTMCell' as a built-in Keras object. Consider renaming <class 'keras.layers.recurrent.LSTMCell'> to avoid naming conflicts when loading with `tf.keras.models.load_model`. If renaming is not possible, pass the object in the `custom_objects` parameter of the load function.\n"
     ]
    },
    {
     "name": "stdout",
     "output_type": "stream",
     "text": [
      "18/18 [==============================] - 2s 92ms/step - loss: 118.4376 - val_loss: 639.0661\n",
      "Epoch 64/100\n",
      "10/18 [===============>..............] - ETA: 0s - loss: 111.1387INFO:tensorflow:Assets written to: model_experiments\\model_5_LSTM\\assets\n"
     ]
    },
    {
     "name": "stderr",
     "output_type": "stream",
     "text": [
      "INFO:tensorflow:Assets written to: model_experiments\\model_5_LSTM\\assets\n",
      "WARNING:absl:<keras.layers.recurrent.LSTMCell object at 0x0000021EAC049390> has the same name 'LSTMCell' as a built-in Keras object. Consider renaming <class 'keras.layers.recurrent.LSTMCell'> to avoid naming conflicts when loading with `tf.keras.models.load_model`. If renaming is not possible, pass the object in the `custom_objects` parameter of the load function.\n"
     ]
    },
    {
     "name": "stdout",
     "output_type": "stream",
     "text": [
      "18/18 [==============================] - 2s 106ms/step - loss: 117.4628 - val_loss: 635.9095\n",
      "Epoch 65/100\n",
      "12/18 [===================>..........] - ETA: 0s - loss: 119.0655INFO:tensorflow:Assets written to: model_experiments\\model_5_LSTM\\assets\n"
     ]
    },
    {
     "name": "stderr",
     "output_type": "stream",
     "text": [
      "INFO:tensorflow:Assets written to: model_experiments\\model_5_LSTM\\assets\n",
      "WARNING:absl:<keras.layers.recurrent.LSTMCell object at 0x0000021EAC049390> has the same name 'LSTMCell' as a built-in Keras object. Consider renaming <class 'keras.layers.recurrent.LSTMCell'> to avoid naming conflicts when loading with `tf.keras.models.load_model`. If renaming is not possible, pass the object in the `custom_objects` parameter of the load function.\n"
     ]
    },
    {
     "name": "stdout",
     "output_type": "stream",
     "text": [
      "18/18 [==============================] - 2s 90ms/step - loss: 116.2816 - val_loss: 633.7571\n",
      "Epoch 66/100\n",
      "11/18 [=================>............] - ETA: 0s - loss: 112.6178INFO:tensorflow:Assets written to: model_experiments\\model_5_LSTM\\assets\n"
     ]
    },
    {
     "name": "stderr",
     "output_type": "stream",
     "text": [
      "INFO:tensorflow:Assets written to: model_experiments\\model_5_LSTM\\assets\n",
      "WARNING:absl:<keras.layers.recurrent.LSTMCell object at 0x0000021EAC049390> has the same name 'LSTMCell' as a built-in Keras object. Consider renaming <class 'keras.layers.recurrent.LSTMCell'> to avoid naming conflicts when loading with `tf.keras.models.load_model`. If renaming is not possible, pass the object in the `custom_objects` parameter of the load function.\n"
     ]
    },
    {
     "name": "stdout",
     "output_type": "stream",
     "text": [
      "18/18 [==============================] - 2s 90ms/step - loss: 115.9425 - val_loss: 631.9549\n",
      "Epoch 67/100\n",
      "11/18 [=================>............] - ETA: 0s - loss: 111.2542INFO:tensorflow:Assets written to: model_experiments\\model_5_LSTM\\assets\n"
     ]
    },
    {
     "name": "stderr",
     "output_type": "stream",
     "text": [
      "INFO:tensorflow:Assets written to: model_experiments\\model_5_LSTM\\assets\n",
      "WARNING:absl:<keras.layers.recurrent.LSTMCell object at 0x0000021EAC049390> has the same name 'LSTMCell' as a built-in Keras object. Consider renaming <class 'keras.layers.recurrent.LSTMCell'> to avoid naming conflicts when loading with `tf.keras.models.load_model`. If renaming is not possible, pass the object in the `custom_objects` parameter of the load function.\n"
     ]
    },
    {
     "name": "stdout",
     "output_type": "stream",
     "text": [
      "18/18 [==============================] - 2s 90ms/step - loss: 116.4699 - val_loss: 631.2153\n",
      "Epoch 68/100\n",
      "18/18 [==============================] - 0s 7ms/step - loss: 115.4995 - val_loss: 639.0834\n",
      "Epoch 69/100\n",
      "18/18 [==============================] - 0s 7ms/step - loss: 115.1090 - val_loss: 643.1538\n",
      "Epoch 70/100\n",
      "18/18 [==============================] - 0s 7ms/step - loss: 116.8198 - val_loss: 678.7923\n",
      "Epoch 71/100\n",
      "18/18 [==============================] - 0s 7ms/step - loss: 117.3374 - val_loss: 631.2849\n",
      "Epoch 72/100\n",
      "11/18 [=================>............] - ETA: 0s - loss: 112.2724INFO:tensorflow:Assets written to: model_experiments\\model_5_LSTM\\assets\n"
     ]
    },
    {
     "name": "stderr",
     "output_type": "stream",
     "text": [
      "INFO:tensorflow:Assets written to: model_experiments\\model_5_LSTM\\assets\n",
      "WARNING:absl:<keras.layers.recurrent.LSTMCell object at 0x0000021EAC049390> has the same name 'LSTMCell' as a built-in Keras object. Consider renaming <class 'keras.layers.recurrent.LSTMCell'> to avoid naming conflicts when loading with `tf.keras.models.load_model`. If renaming is not possible, pass the object in the `custom_objects` parameter of the load function.\n"
     ]
    },
    {
     "name": "stdout",
     "output_type": "stream",
     "text": [
      "18/18 [==============================] - 2s 103ms/step - loss: 115.7911 - val_loss: 622.3685\n",
      "Epoch 73/100\n",
      "18/18 [==============================] - 0s 7ms/step - loss: 118.7361 - val_loss: 625.6614\n",
      "Epoch 74/100\n",
      "18/18 [==============================] - 0s 7ms/step - loss: 114.7681 - val_loss: 627.7098\n",
      "Epoch 75/100\n",
      "11/18 [=================>............] - ETA: 0s - loss: 120.1554INFO:tensorflow:Assets written to: model_experiments\\model_5_LSTM\\assets\n"
     ]
    },
    {
     "name": "stderr",
     "output_type": "stream",
     "text": [
      "INFO:tensorflow:Assets written to: model_experiments\\model_5_LSTM\\assets\n",
      "WARNING:absl:<keras.layers.recurrent.LSTMCell object at 0x0000021EAC049390> has the same name 'LSTMCell' as a built-in Keras object. Consider renaming <class 'keras.layers.recurrent.LSTMCell'> to avoid naming conflicts when loading with `tf.keras.models.load_model`. If renaming is not possible, pass the object in the `custom_objects` parameter of the load function.\n"
     ]
    },
    {
     "name": "stdout",
     "output_type": "stream",
     "text": [
      "18/18 [==============================] - 2s 91ms/step - loss: 114.1627 - val_loss: 622.1952\n",
      "Epoch 76/100\n",
      "18/18 [==============================] - 0s 6ms/step - loss: 114.0394 - val_loss: 624.9930\n",
      "Epoch 77/100\n",
      "13/18 [====================>.........] - ETA: 0s - loss: 114.4066INFO:tensorflow:Assets written to: model_experiments\\model_5_LSTM\\assets\n"
     ]
    },
    {
     "name": "stderr",
     "output_type": "stream",
     "text": [
      "INFO:tensorflow:Assets written to: model_experiments\\model_5_LSTM\\assets\n",
      "WARNING:absl:<keras.layers.recurrent.LSTMCell object at 0x0000021EAC049390> has the same name 'LSTMCell' as a built-in Keras object. Consider renaming <class 'keras.layers.recurrent.LSTMCell'> to avoid naming conflicts when loading with `tf.keras.models.load_model`. If renaming is not possible, pass the object in the `custom_objects` parameter of the load function.\n"
     ]
    },
    {
     "name": "stdout",
     "output_type": "stream",
     "text": [
      "18/18 [==============================] - 1s 87ms/step - loss: 113.8231 - val_loss: 620.3487\n",
      "Epoch 78/100\n",
      "11/18 [=================>............] - ETA: 0s - loss: 110.5181INFO:tensorflow:Assets written to: model_experiments\\model_5_LSTM\\assets\n"
     ]
    },
    {
     "name": "stderr",
     "output_type": "stream",
     "text": [
      "INFO:tensorflow:Assets written to: model_experiments\\model_5_LSTM\\assets\n",
      "WARNING:absl:<keras.layers.recurrent.LSTMCell object at 0x0000021EAC049390> has the same name 'LSTMCell' as a built-in Keras object. Consider renaming <class 'keras.layers.recurrent.LSTMCell'> to avoid naming conflicts when loading with `tf.keras.models.load_model`. If renaming is not possible, pass the object in the `custom_objects` parameter of the load function.\n"
     ]
    },
    {
     "name": "stdout",
     "output_type": "stream",
     "text": [
      "18/18 [==============================] - 2s 90ms/step - loss: 114.0260 - val_loss: 616.2192\n",
      "Epoch 79/100\n",
      "18/18 [==============================] - 0s 8ms/step - loss: 113.5140 - val_loss: 624.7553\n",
      "Epoch 80/100\n",
      "18/18 [==============================] - 0s 7ms/step - loss: 119.0085 - val_loss: 631.1695\n",
      "Epoch 81/100\n",
      "18/18 [==============================] - 0s 7ms/step - loss: 121.2349 - val_loss: 707.7242\n",
      "Epoch 82/100\n",
      "18/18 [==============================] - 0s 7ms/step - loss: 117.8639 - val_loss: 629.5108\n",
      "Epoch 83/100\n",
      "11/18 [=================>............] - ETA: 0s - loss: 116.6758INFO:tensorflow:Assets written to: model_experiments\\model_5_LSTM\\assets\n"
     ]
    },
    {
     "name": "stderr",
     "output_type": "stream",
     "text": [
      "INFO:tensorflow:Assets written to: model_experiments\\model_5_LSTM\\assets\n",
      "WARNING:absl:<keras.layers.recurrent.LSTMCell object at 0x0000021EAC049390> has the same name 'LSTMCell' as a built-in Keras object. Consider renaming <class 'keras.layers.recurrent.LSTMCell'> to avoid naming conflicts when loading with `tf.keras.models.load_model`. If renaming is not possible, pass the object in the `custom_objects` parameter of the load function.\n"
     ]
    },
    {
     "name": "stdout",
     "output_type": "stream",
     "text": [
      "18/18 [==============================] - 2s 103ms/step - loss: 114.5529 - val_loss: 615.1636\n",
      "Epoch 84/100\n",
      "12/18 [===================>..........] - ETA: 0s - loss: 114.8131INFO:tensorflow:Assets written to: model_experiments\\model_5_LSTM\\assets\n"
     ]
    },
    {
     "name": "stderr",
     "output_type": "stream",
     "text": [
      "INFO:tensorflow:Assets written to: model_experiments\\model_5_LSTM\\assets\n",
      "WARNING:absl:<keras.layers.recurrent.LSTMCell object at 0x0000021EAC049390> has the same name 'LSTMCell' as a built-in Keras object. Consider renaming <class 'keras.layers.recurrent.LSTMCell'> to avoid naming conflicts when loading with `tf.keras.models.load_model`. If renaming is not possible, pass the object in the `custom_objects` parameter of the load function.\n"
     ]
    },
    {
     "name": "stdout",
     "output_type": "stream",
     "text": [
      "18/18 [==============================] - 1s 87ms/step - loss: 113.5977 - val_loss: 612.2022\n",
      "Epoch 85/100\n",
      "18/18 [==============================] - 0s 7ms/step - loss: 113.2843 - val_loss: 618.9429\n",
      "Epoch 86/100\n",
      "11/18 [=================>............] - ETA: 0s - loss: 113.4894INFO:tensorflow:Assets written to: model_experiments\\model_5_LSTM\\assets\n"
     ]
    },
    {
     "name": "stderr",
     "output_type": "stream",
     "text": [
      "INFO:tensorflow:Assets written to: model_experiments\\model_5_LSTM\\assets\n",
      "WARNING:absl:<keras.layers.recurrent.LSTMCell object at 0x0000021EAC049390> has the same name 'LSTMCell' as a built-in Keras object. Consider renaming <class 'keras.layers.recurrent.LSTMCell'> to avoid naming conflicts when loading with `tf.keras.models.load_model`. If renaming is not possible, pass the object in the `custom_objects` parameter of the load function.\n"
     ]
    },
    {
     "name": "stdout",
     "output_type": "stream",
     "text": [
      "18/18 [==============================] - 2s 91ms/step - loss: 113.1863 - val_loss: 610.5975\n",
      "Epoch 87/100\n",
      "18/18 [==============================] - 0s 7ms/step - loss: 113.9207 - val_loss: 628.0419\n",
      "Epoch 88/100\n",
      "18/18 [==============================] - 0s 7ms/step - loss: 112.6350 - val_loss: 630.2177\n",
      "Epoch 89/100\n",
      "18/18 [==============================] - 0s 7ms/step - loss: 113.1746 - val_loss: 662.0069\n",
      "Epoch 90/100\n",
      "11/18 [=================>............] - ETA: 0s - loss: 117.6108INFO:tensorflow:Assets written to: model_experiments\\model_5_LSTM\\assets\n"
     ]
    },
    {
     "name": "stderr",
     "output_type": "stream",
     "text": [
      "INFO:tensorflow:Assets written to: model_experiments\\model_5_LSTM\\assets\n",
      "WARNING:absl:<keras.layers.recurrent.LSTMCell object at 0x0000021EAC049390> has the same name 'LSTMCell' as a built-in Keras object. Consider renaming <class 'keras.layers.recurrent.LSTMCell'> to avoid naming conflicts when loading with `tf.keras.models.load_model`. If renaming is not possible, pass the object in the `custom_objects` parameter of the load function.\n"
     ]
    },
    {
     "name": "stdout",
     "output_type": "stream",
     "text": [
      "18/18 [==============================] - 2s 100ms/step - loss: 114.9012 - val_loss: 608.0988\n",
      "Epoch 91/100\n",
      "18/18 [==============================] - 0s 13ms/step - loss: 113.7626 - val_loss: 612.2397\n",
      "Epoch 92/100\n",
      "18/18 [==============================] - 0s 8ms/step - loss: 111.3108 - val_loss: 608.3987\n",
      "Epoch 93/100\n",
      "18/18 [==============================] - 0s 7ms/step - loss: 113.4207 - val_loss: 627.7930\n",
      "Epoch 94/100\n",
      "18/18 [==============================] - 0s 7ms/step - loss: 114.9248 - val_loss: 639.6974\n",
      "Epoch 95/100\n",
      "10/18 [===============>..............] - ETA: 0s - loss: 116.2544INFO:tensorflow:Assets written to: model_experiments\\model_5_LSTM\\assets\n"
     ]
    },
    {
     "name": "stderr",
     "output_type": "stream",
     "text": [
      "INFO:tensorflow:Assets written to: model_experiments\\model_5_LSTM\\assets\n",
      "WARNING:absl:<keras.layers.recurrent.LSTMCell object at 0x0000021EAC049390> has the same name 'LSTMCell' as a built-in Keras object. Consider renaming <class 'keras.layers.recurrent.LSTMCell'> to avoid naming conflicts when loading with `tf.keras.models.load_model`. If renaming is not possible, pass the object in the `custom_objects` parameter of the load function.\n"
     ]
    },
    {
     "name": "stdout",
     "output_type": "stream",
     "text": [
      "18/18 [==============================] - 2s 146ms/step - loss: 114.7963 - val_loss: 603.1116\n",
      "Epoch 96/100\n",
      "18/18 [==============================] - 0s 8ms/step - loss: 112.6617 - val_loss: 607.8137\n",
      "Epoch 97/100\n",
      "18/18 [==============================] - 0s 8ms/step - loss: 112.4661 - val_loss: 641.9933\n",
      "Epoch 98/100\n",
      "18/18 [==============================] - 0s 7ms/step - loss: 112.3020 - val_loss: 657.0794\n",
      "Epoch 99/100\n",
      "11/18 [=================>............] - ETA: 0s - loss: 115.2939INFO:tensorflow:Assets written to: model_experiments\\model_5_LSTM\\assets\n"
     ]
    },
    {
     "name": "stderr",
     "output_type": "stream",
     "text": [
      "INFO:tensorflow:Assets written to: model_experiments\\model_5_LSTM\\assets\n",
      "WARNING:absl:<keras.layers.recurrent.LSTMCell object at 0x0000021EAC049390> has the same name 'LSTMCell' as a built-in Keras object. Consider renaming <class 'keras.layers.recurrent.LSTMCell'> to avoid naming conflicts when loading with `tf.keras.models.load_model`. If renaming is not possible, pass the object in the `custom_objects` parameter of the load function.\n"
     ]
    },
    {
     "name": "stdout",
     "output_type": "stream",
     "text": [
      "18/18 [==============================] - 2s 96ms/step - loss: 112.6966 - val_loss: 599.8253\n",
      "Epoch 100/100\n",
      "18/18 [==============================] - 0s 7ms/step - loss: 114.6029 - val_loss: 700.8041\n"
     ]
    },
    {
     "data": {
      "text/plain": [
       "<keras.callbacks.History at 0x21eac0130a0>"
      ]
     },
     "execution_count": 76,
     "metadata": {},
     "output_type": "execute_result"
    }
   ],
   "source": [
    "tf.random.set_seed(42)\n",
    "\n",
    "inputs=layers.Input(shape=(WINDOW_SIZE))\n",
    "x = layers.Lambda(lambda x: tf.expand_dims(x,axis=1))(inputs)\n",
    "# x = layers.LSTM(128,return_sequences=True)(x)\n",
    "x = layers.LSTM(128, activation=\"relu\")(x)\n",
    "# x = layers.Dense(32,activation=\"relu\")(x)\n",
    "output = layers.Dense(HORIZON)(x)\n",
    "model_5 = tf.keras.Model(inputs=inputs, outputs=output ,name =\"model_5_LSTM\")\n",
    "\n",
    "\n",
    "# Compile model \n",
    "\n",
    "model_5.compile(loss=\"mae\",\n",
    "                optimizer=tf.keras.optimizers.Adam())\n",
    "\n",
    "# Fit\n",
    "model_5.fit(train_windows,\n",
    "            train_labels,\n",
    "            batch_size=128,\n",
    "            epochs=100,\n",
    "            validation_data=(test_windows,test_labels),\n",
    "            callbacks=[create_model_checkpoint(model_name=model_5.name)])\n"
   ]
  },
  {
   "cell_type": "code",
   "execution_count": 77,
   "metadata": {},
   "outputs": [
    {
     "name": "stdout",
     "output_type": "stream",
     "text": [
      "WARNING:tensorflow:Layer lstm will not use cuDNN kernels since it doesn't meet the criteria. It will use a generic GPU kernel as fallback when running on GPU.\n"
     ]
    },
    {
     "name": "stderr",
     "output_type": "stream",
     "text": [
      "WARNING:tensorflow:Layer lstm will not use cuDNN kernels since it doesn't meet the criteria. It will use a generic GPU kernel as fallback when running on GPU.\n"
     ]
    },
    {
     "name": "stdout",
     "output_type": "stream",
     "text": [
      "18/18 [==============================] - 0s 3ms/step - loss: 599.8253\n"
     ]
    },
    {
     "data": {
      "text/plain": [
       "599.8253173828125"
      ]
     },
     "execution_count": 77,
     "metadata": {},
     "output_type": "execute_result"
    }
   ],
   "source": [
    "# load best version of model 5\n",
    "\n",
    "model_5 = tf.keras.models.load_model(\"model_experiments/model_5_LSTM\")\n",
    "model_5.evaluate(test_windows,test_labels)"
   ]
  },
  {
   "cell_type": "code",
   "execution_count": 78,
   "metadata": {},
   "outputs": [
    {
     "data": {
      "text/plain": [
       "<tf.Tensor: shape=(5,), dtype=float32, numpy=array([8774.361, 8733.715, 8537.717, 8499.416, 8530.363], dtype=float32)>"
      ]
     },
     "execution_count": 78,
     "metadata": {},
     "output_type": "execute_result"
    }
   ],
   "source": [
    "# make preds \n",
    "model_5_preds = make_preds(model_5,test_windows)\n",
    "model_5_preds[:5]"
   ]
  },
  {
   "cell_type": "code",
   "execution_count": 79,
   "metadata": {},
   "outputs": [
    {
     "data": {
      "text/plain": [
       "{'mae': 599.8253,\n",
       " 'mse': 1281321.9,\n",
       " 'rmse': 1131.9548,\n",
       " 'mape': 2.6950874,\n",
       " 'mase': 1.046905}"
      ]
     },
     "execution_count": 79,
     "metadata": {},
     "output_type": "execute_result"
    }
   ],
   "source": [
    "# Evaluate model 5 preds \n",
    "model_5_results = evaluate_preds(tf.squeeze(test_labels),\n",
    "                                 model_5_preds)\n",
    "model_5_results"
   ]
  },
  {
   "cell_type": "code",
   "execution_count": 80,
   "metadata": {},
   "outputs": [
    {
     "data": {
      "text/plain": [
       "{'mae': 570.3397,\n",
       " 'mse': 1180294.9,\n",
       " 'rmse': 1086.4137,\n",
       " 'mape': 2.5392227,\n",
       " 'mase': 0.99544233}"
      ]
     },
     "execution_count": 80,
     "metadata": {},
     "output_type": "execute_result"
    }
   ],
   "source": [
    "model_1_results"
   ]
  },
  {
   "attachments": {},
   "cell_type": "markdown",
   "metadata": {},
   "source": [
    "### Make a multivariate time Series dataset"
   ]
  },
  {
   "cell_type": "code",
   "execution_count": 81,
   "metadata": {},
   "outputs": [],
   "source": [
    "# Let's add the bitcoin halving events to our dataset \n",
    "\n",
    "block_reward_1 = 50 \n",
    "block_reward_2 = 25 \n",
    "block_reward_3 = 12.5\n",
    "block_reward_4 = 6.25\n",
    "\n",
    "# Block reward dates\n",
    "block_reward_2_datetime = np.datetime64(\"2012-11-28\")\n",
    "block_reward_3_datetime = np.datetime64(\"2016-07-09\")\n",
    "block_reward_4_datetime = np.datetime64(\"2020-05-18\")\n",
    " "
   ]
  },
  {
   "cell_type": "code",
   "execution_count": 82,
   "metadata": {},
   "outputs": [
    {
     "data": {
      "text/plain": [
       "(1012, 2421)"
      ]
     },
     "execution_count": 82,
     "metadata": {},
     "output_type": "execute_result"
    }
   ],
   "source": [
    "block_reward_2_days = (block_reward_3_datetime - bitcoin_prices.index[0]).days\n",
    "\n",
    "block_reward_3_days = (block_reward_4_datetime - bitcoin_prices.index[0]).days\n",
    "\n",
    "\n",
    "block_reward_2_days,block_reward_3_days"
   ]
  },
  {
   "cell_type": "code",
   "execution_count": 83,
   "metadata": {},
   "outputs": [],
   "source": [
    "bitcoin_prices_block = bitcoin_prices.copy()\n",
    "\n",
    "bitcoin_prices_block[\"block_reward\"] = None\n",
    "\n",
    "bitcoin_prices_block.iloc[:block_reward_2_days, -1] = block_reward_2\n",
    "\n",
    "bitcoin_prices_block.iloc[block_reward_2_days :block_reward_3_days, -1] = block_reward_3\n",
    "\n",
    "bitcoin_prices_block.iloc[block_reward_3_days:, -1] = block_reward_4"
   ]
  },
  {
   "cell_type": "code",
   "execution_count": 84,
   "metadata": {},
   "outputs": [
    {
     "data": {
      "text/html": [
       "<div>\n",
       "<style scoped>\n",
       "    .dataframe tbody tr th:only-of-type {\n",
       "        vertical-align: middle;\n",
       "    }\n",
       "\n",
       "    .dataframe tbody tr th {\n",
       "        vertical-align: top;\n",
       "    }\n",
       "\n",
       "    .dataframe thead th {\n",
       "        text-align: right;\n",
       "    }\n",
       "</style>\n",
       "<table border=\"1\" class=\"dataframe\">\n",
       "  <thead>\n",
       "    <tr style=\"text-align: right;\">\n",
       "      <th></th>\n",
       "      <th>Price</th>\n",
       "      <th>block_reward</th>\n",
       "    </tr>\n",
       "    <tr>\n",
       "      <th>Date</th>\n",
       "      <th></th>\n",
       "      <th></th>\n",
       "    </tr>\n",
       "  </thead>\n",
       "  <tbody>\n",
       "    <tr>\n",
       "      <th>2021-05-14</th>\n",
       "      <td>49764.132082</td>\n",
       "      <td>6.25</td>\n",
       "    </tr>\n",
       "    <tr>\n",
       "      <th>2021-05-15</th>\n",
       "      <td>50032.693137</td>\n",
       "      <td>6.25</td>\n",
       "    </tr>\n",
       "    <tr>\n",
       "      <th>2021-05-16</th>\n",
       "      <td>47885.625255</td>\n",
       "      <td>6.25</td>\n",
       "    </tr>\n",
       "    <tr>\n",
       "      <th>2021-05-17</th>\n",
       "      <td>45604.615754</td>\n",
       "      <td>6.25</td>\n",
       "    </tr>\n",
       "    <tr>\n",
       "      <th>2021-05-18</th>\n",
       "      <td>43144.471291</td>\n",
       "      <td>6.25</td>\n",
       "    </tr>\n",
       "  </tbody>\n",
       "</table>\n",
       "</div>"
      ],
      "text/plain": [
       "                   Price block_reward\n",
       "Date                                 \n",
       "2021-05-14  49764.132082         6.25\n",
       "2021-05-15  50032.693137         6.25\n",
       "2021-05-16  47885.625255         6.25\n",
       "2021-05-17  45604.615754         6.25\n",
       "2021-05-18  43144.471291         6.25"
      ]
     },
     "execution_count": 84,
     "metadata": {},
     "output_type": "execute_result"
    }
   ],
   "source": [
    "bitcoin_prices_block.tail()"
   ]
  },
  {
   "cell_type": "code",
   "execution_count": 85,
   "metadata": {},
   "outputs": [
    {
     "data": {
      "text/plain": [
       "<AxesSubplot: xlabel='Date'>"
      ]
     },
     "execution_count": 85,
     "metadata": {},
     "output_type": "execute_result"
    },
    {
     "data": {
      "image/png": "[encoded data removed]",
      "text/plain": [
       "<Figure size 1000x700 with 1 Axes>"
      ]
     },
     "metadata": {},
     "output_type": "display_data"
    }
   ],
   "source": [
    "from sklearn.preprocessing import minmax_scale\n",
    "\n",
    "scaled_price_block_df = pd.DataFrame(minmax_scale(bitcoin_prices_block[[\"Price\",\"block_reward\"]]),\n",
    "columns=bitcoin_prices_block.columns,\n",
    "index=bitcoin_prices_block.index)\n",
    "\n",
    "scaled_price_block_df.plot(figsize=(10,7))"
   ]
  },
  {
   "attachments": {},
   "cell_type": "markdown",
   "metadata": {},
   "source": [
    "## Making a windowed dataset with pandas \n"
   ]
  },
  {
   "cell_type": "code",
   "execution_count": 86,
   "metadata": {},
   "outputs": [],
   "source": [
    "HORIZON = 1 \n",
    "WINDOW_SIZE = 7"
   ]
  },
  {
   "cell_type": "code",
   "execution_count": 87,
   "metadata": {},
   "outputs": [
    {
     "data": {
      "text/html": [
       "<div>\n",
       "<style scoped>\n",
       "    .dataframe tbody tr th:only-of-type {\n",
       "        vertical-align: middle;\n",
       "    }\n",
       "\n",
       "    .dataframe tbody tr th {\n",
       "        vertical-align: top;\n",
       "    }\n",
       "\n",
       "    .dataframe thead th {\n",
       "        text-align: right;\n",
       "    }\n",
       "</style>\n",
       "<table border=\"1\" class=\"dataframe\">\n",
       "  <thead>\n",
       "    <tr style=\"text-align: right;\">\n",
       "      <th></th>\n",
       "      <th>Price</th>\n",
       "      <th>block_reward</th>\n",
       "      <th>Price+1</th>\n",
       "      <th>Price+2</th>\n",
       "      <th>Price+3</th>\n",
       "      <th>Price+4</th>\n",
       "      <th>Price+5</th>\n",
       "      <th>Price+6</th>\n",
       "      <th>Price+7</th>\n",
       "    </tr>\n",
       "    <tr>\n",
       "      <th>Date</th>\n",
       "      <th></th>\n",
       "      <th></th>\n",
       "      <th></th>\n",
       "      <th></th>\n",
       "      <th></th>\n",
       "      <th></th>\n",
       "      <th></th>\n",
       "      <th></th>\n",
       "      <th></th>\n",
       "    </tr>\n",
       "  </thead>\n",
       "  <tbody>\n",
       "    <tr>\n",
       "      <th>2013-10-01</th>\n",
       "      <td>123.65499</td>\n",
       "      <td>25</td>\n",
       "      <td>NaN</td>\n",
       "      <td>NaN</td>\n",
       "      <td>NaN</td>\n",
       "      <td>NaN</td>\n",
       "      <td>NaN</td>\n",
       "      <td>NaN</td>\n",
       "      <td>NaN</td>\n",
       "    </tr>\n",
       "    <tr>\n",
       "      <th>2013-10-02</th>\n",
       "      <td>125.45500</td>\n",
       "      <td>25</td>\n",
       "      <td>123.65499</td>\n",
       "      <td>NaN</td>\n",
       "      <td>NaN</td>\n",
       "      <td>NaN</td>\n",
       "      <td>NaN</td>\n",
       "      <td>NaN</td>\n",
       "      <td>NaN</td>\n",
       "    </tr>\n",
       "    <tr>\n",
       "      <th>2013-10-03</th>\n",
       "      <td>108.58483</td>\n",
       "      <td>25</td>\n",
       "      <td>125.45500</td>\n",
       "      <td>123.65499</td>\n",
       "      <td>NaN</td>\n",
       "      <td>NaN</td>\n",
       "      <td>NaN</td>\n",
       "      <td>NaN</td>\n",
       "      <td>NaN</td>\n",
       "    </tr>\n",
       "    <tr>\n",
       "      <th>2013-10-04</th>\n",
       "      <td>118.67466</td>\n",
       "      <td>25</td>\n",
       "      <td>108.58483</td>\n",
       "      <td>125.45500</td>\n",
       "      <td>123.65499</td>\n",
       "      <td>NaN</td>\n",
       "      <td>NaN</td>\n",
       "      <td>NaN</td>\n",
       "      <td>NaN</td>\n",
       "    </tr>\n",
       "    <tr>\n",
       "      <th>2013-10-05</th>\n",
       "      <td>121.33866</td>\n",
       "      <td>25</td>\n",
       "      <td>118.67466</td>\n",
       "      <td>108.58483</td>\n",
       "      <td>125.45500</td>\n",
       "      <td>123.65499</td>\n",
       "      <td>NaN</td>\n",
       "      <td>NaN</td>\n",
       "      <td>NaN</td>\n",
       "    </tr>\n",
       "    <tr>\n",
       "      <th>2013-10-06</th>\n",
       "      <td>120.65533</td>\n",
       "      <td>25</td>\n",
       "      <td>121.33866</td>\n",
       "      <td>118.67466</td>\n",
       "      <td>108.58483</td>\n",
       "      <td>125.45500</td>\n",
       "      <td>123.65499</td>\n",
       "      <td>NaN</td>\n",
       "      <td>NaN</td>\n",
       "    </tr>\n",
       "    <tr>\n",
       "      <th>2013-10-07</th>\n",
       "      <td>121.79500</td>\n",
       "      <td>25</td>\n",
       "      <td>120.65533</td>\n",
       "      <td>121.33866</td>\n",
       "      <td>118.67466</td>\n",
       "      <td>108.58483</td>\n",
       "      <td>125.45500</td>\n",
       "      <td>123.65499</td>\n",
       "      <td>NaN</td>\n",
       "    </tr>\n",
       "    <tr>\n",
       "      <th>2013-10-08</th>\n",
       "      <td>123.03300</td>\n",
       "      <td>25</td>\n",
       "      <td>121.79500</td>\n",
       "      <td>120.65533</td>\n",
       "      <td>121.33866</td>\n",
       "      <td>118.67466</td>\n",
       "      <td>108.58483</td>\n",
       "      <td>125.45500</td>\n",
       "      <td>123.65499</td>\n",
       "    </tr>\n",
       "    <tr>\n",
       "      <th>2013-10-09</th>\n",
       "      <td>124.04900</td>\n",
       "      <td>25</td>\n",
       "      <td>123.03300</td>\n",
       "      <td>121.79500</td>\n",
       "      <td>120.65533</td>\n",
       "      <td>121.33866</td>\n",
       "      <td>118.67466</td>\n",
       "      <td>108.58483</td>\n",
       "      <td>125.45500</td>\n",
       "    </tr>\n",
       "    <tr>\n",
       "      <th>2013-10-10</th>\n",
       "      <td>125.96116</td>\n",
       "      <td>25</td>\n",
       "      <td>124.04900</td>\n",
       "      <td>123.03300</td>\n",
       "      <td>121.79500</td>\n",
       "      <td>120.65533</td>\n",
       "      <td>121.33866</td>\n",
       "      <td>118.67466</td>\n",
       "      <td>108.58483</td>\n",
       "    </tr>\n",
       "  </tbody>\n",
       "</table>\n",
       "</div>"
      ],
      "text/plain": [
       "                Price block_reward    Price+1    Price+2    Price+3  \\\n",
       "Date                                                                  \n",
       "2013-10-01  123.65499           25        NaN        NaN        NaN   \n",
       "2013-10-02  125.45500           25  123.65499        NaN        NaN   \n",
       "2013-10-03  108.58483           25  125.45500  123.65499        NaN   \n",
       "2013-10-04  118.67466           25  108.58483  125.45500  123.65499   \n",
       "2013-10-05  121.33866           25  118.67466  108.58483  125.45500   \n",
       "2013-10-06  120.65533           25  121.33866  118.67466  108.58483   \n",
       "2013-10-07  121.79500           25  120.65533  121.33866  118.67466   \n",
       "2013-10-08  123.03300           25  121.79500  120.65533  121.33866   \n",
       "2013-10-09  124.04900           25  123.03300  121.79500  120.65533   \n",
       "2013-10-10  125.96116           25  124.04900  123.03300  121.79500   \n",
       "\n",
       "              Price+4    Price+5    Price+6    Price+7  \n",
       "Date                                                    \n",
       "2013-10-01        NaN        NaN        NaN        NaN  \n",
       "2013-10-02        NaN        NaN        NaN        NaN  \n",
       "2013-10-03        NaN        NaN        NaN        NaN  \n",
       "2013-10-04        NaN        NaN        NaN        NaN  \n",
       "2013-10-05  123.65499        NaN        NaN        NaN  \n",
       "2013-10-06  125.45500  123.65499        NaN        NaN  \n",
       "2013-10-07  108.58483  125.45500  123.65499        NaN  \n",
       "2013-10-08  118.67466  108.58483  125.45500  123.65499  \n",
       "2013-10-09  121.33866  118.67466  108.58483  125.45500  \n",
       "2013-10-10  120.65533  121.33866  118.67466  108.58483  "
      ]
     },
     "execution_count": 87,
     "metadata": {},
     "output_type": "execute_result"
    }
   ],
   "source": [
    "bitcoin_prices_windowed = bitcoin_prices_block.copy()\n",
    "\n",
    "# Add windowed columns \n",
    "\n",
    "for i in range(WINDOW_SIZE):\n",
    "    bitcoin_prices_windowed[f\"Price+{i+1}\"] = bitcoin_prices_windowed[\"Price\"].shift(periods=i+1)\n",
    "    \n",
    "bitcoin_prices_windowed.head(10)"
   ]
  },
  {
   "cell_type": "code",
   "execution_count": 88,
   "metadata": {},
   "outputs": [
    {
     "data": {
      "text/html": [
       "<div>\n",
       "<style scoped>\n",
       "    .dataframe tbody tr th:only-of-type {\n",
       "        vertical-align: middle;\n",
       "    }\n",
       "\n",
       "    .dataframe tbody tr th {\n",
       "        vertical-align: top;\n",
       "    }\n",
       "\n",
       "    .dataframe thead th {\n",
       "        text-align: right;\n",
       "    }\n",
       "</style>\n",
       "<table border=\"1\" class=\"dataframe\">\n",
       "  <thead>\n",
       "    <tr style=\"text-align: right;\">\n",
       "      <th></th>\n",
       "      <th>block_reward</th>\n",
       "      <th>Price+1</th>\n",
       "      <th>Price+2</th>\n",
       "      <th>Price+3</th>\n",
       "      <th>Price+4</th>\n",
       "      <th>Price+5</th>\n",
       "      <th>Price+6</th>\n",
       "      <th>Price+7</th>\n",
       "    </tr>\n",
       "    <tr>\n",
       "      <th>Date</th>\n",
       "      <th></th>\n",
       "      <th></th>\n",
       "      <th></th>\n",
       "      <th></th>\n",
       "      <th></th>\n",
       "      <th></th>\n",
       "      <th></th>\n",
       "      <th></th>\n",
       "    </tr>\n",
       "  </thead>\n",
       "  <tbody>\n",
       "    <tr>\n",
       "      <th>2013-10-08</th>\n",
       "      <td>25.0</td>\n",
       "      <td>121.794998</td>\n",
       "      <td>120.655327</td>\n",
       "      <td>121.338661</td>\n",
       "      <td>118.674660</td>\n",
       "      <td>108.584831</td>\n",
       "      <td>125.455002</td>\n",
       "      <td>123.654991</td>\n",
       "    </tr>\n",
       "    <tr>\n",
       "      <th>2013-10-09</th>\n",
       "      <td>25.0</td>\n",
       "      <td>123.032997</td>\n",
       "      <td>121.794998</td>\n",
       "      <td>120.655327</td>\n",
       "      <td>121.338661</td>\n",
       "      <td>118.674660</td>\n",
       "      <td>108.584831</td>\n",
       "      <td>125.455002</td>\n",
       "    </tr>\n",
       "    <tr>\n",
       "      <th>2013-10-10</th>\n",
       "      <td>25.0</td>\n",
       "      <td>124.049004</td>\n",
       "      <td>123.032997</td>\n",
       "      <td>121.794998</td>\n",
       "      <td>120.655327</td>\n",
       "      <td>121.338661</td>\n",
       "      <td>118.674660</td>\n",
       "      <td>108.584831</td>\n",
       "    </tr>\n",
       "    <tr>\n",
       "      <th>2013-10-11</th>\n",
       "      <td>25.0</td>\n",
       "      <td>125.961159</td>\n",
       "      <td>124.049004</td>\n",
       "      <td>123.032997</td>\n",
       "      <td>121.794998</td>\n",
       "      <td>120.655327</td>\n",
       "      <td>121.338661</td>\n",
       "      <td>118.674660</td>\n",
       "    </tr>\n",
       "    <tr>\n",
       "      <th>2013-10-12</th>\n",
       "      <td>25.0</td>\n",
       "      <td>125.279663</td>\n",
       "      <td>125.961159</td>\n",
       "      <td>124.049004</td>\n",
       "      <td>123.032997</td>\n",
       "      <td>121.794998</td>\n",
       "      <td>120.655327</td>\n",
       "      <td>121.338661</td>\n",
       "    </tr>\n",
       "  </tbody>\n",
       "</table>\n",
       "</div>"
      ],
      "text/plain": [
       "            block_reward     Price+1     Price+2     Price+3     Price+4  \\\n",
       "Date                                                                       \n",
       "2013-10-08          25.0  121.794998  120.655327  121.338661  118.674660   \n",
       "2013-10-09          25.0  123.032997  121.794998  120.655327  121.338661   \n",
       "2013-10-10          25.0  124.049004  123.032997  121.794998  120.655327   \n",
       "2013-10-11          25.0  125.961159  124.049004  123.032997  121.794998   \n",
       "2013-10-12          25.0  125.279663  125.961159  124.049004  123.032997   \n",
       "\n",
       "               Price+5     Price+6     Price+7  \n",
       "Date                                            \n",
       "2013-10-08  108.584831  125.455002  123.654991  \n",
       "2013-10-09  118.674660  108.584831  125.455002  \n",
       "2013-10-10  121.338661  118.674660  108.584831  \n",
       "2013-10-11  120.655327  121.338661  118.674660  \n",
       "2013-10-12  121.794998  120.655327  121.338661  "
      ]
     },
     "execution_count": 88,
     "metadata": {},
     "output_type": "execute_result"
    }
   ],
   "source": [
    "# Create X features and y horizons \n",
    "X = bitcoin_prices_windowed.dropna().drop(\"Price\",axis=1).astype(np.float32)\n",
    "\n",
    "y = bitcoin_prices_windowed.dropna()[\"Price\"].astype(np.float32)\n",
    "\n",
    "X.head()"
   ]
  },
  {
   "cell_type": "code",
   "execution_count": 89,
   "metadata": {},
   "outputs": [
    {
     "data": {
      "text/plain": [
       "Date\n",
       "2013-10-08    123.032997\n",
       "2013-10-09    124.049004\n",
       "2013-10-10    125.961159\n",
       "2013-10-11    125.279663\n",
       "2013-10-12    125.927498\n",
       "Name: Price, dtype: float32"
      ]
     },
     "execution_count": 89,
     "metadata": {},
     "output_type": "execute_result"
    }
   ],
   "source": [
    "y.head()"
   ]
  },
  {
   "cell_type": "code",
   "execution_count": 90,
   "metadata": {},
   "outputs": [
    {
     "data": {
      "text/plain": [
       "(2224, 2224, 556, 556)"
      ]
     },
     "execution_count": 90,
     "metadata": {},
     "output_type": "execute_result"
    }
   ],
   "source": [
    "# Split to train and test \n",
    "\n",
    "split_size = int(len(X) * 0.8)\n",
    "\n",
    "X_train, y_train = X[:split_size], y[:split_size]\n",
    "\n",
    "X_test,y_test = X[split_size:], y[split_size:]\n",
    "\n",
    "len(X_train),len(y_train),len(X_test),len(y_test)"
   ]
  },
  {
   "cell_type": "code",
   "execution_count": 91,
   "metadata": {},
   "outputs": [
    {
     "name": "stdout",
     "output_type": "stream",
     "text": [
      "Epoch 1/100\n",
      "16/18 [=========================>....] - ETA: 0s - loss: 740.0436 INFO:tensorflow:Assets written to: model_experiments\\model_6_dense_multivariate\\assets\n"
     ]
    },
    {
     "name": "stderr",
     "output_type": "stream",
     "text": [
      "INFO:tensorflow:Assets written to: model_experiments\\model_6_dense_multivariate\\assets\n"
     ]
    },
    {
     "name": "stdout",
     "output_type": "stream",
     "text": [
      "18/18 [==============================] - 1s 46ms/step - loss: 708.7571 - val_loss: 2263.3035\n",
      "Epoch 2/100\n",
      "17/18 [===========================>..] - ETA: 0s - loss: 211.7339INFO:tensorflow:Assets written to: model_experiments\\model_6_dense_multivariate\\assets\n"
     ]
    },
    {
     "name": "stderr",
     "output_type": "stream",
     "text": [
      "INFO:tensorflow:Assets written to: model_experiments\\model_6_dense_multivariate\\assets\n"
     ]
    },
    {
     "name": "stdout",
     "output_type": "stream",
     "text": [
      "18/18 [==============================] - 1s 45ms/step - loss: 209.3599 - val_loss: 882.9350\n",
      "Epoch 3/100\n",
      "14/18 [======================>.......] - ETA: 0s - loss: 158.7038INFO:tensorflow:Assets written to: model_experiments\\model_6_dense_multivariate\\assets\n"
     ]
    },
    {
     "name": "stderr",
     "output_type": "stream",
     "text": [
      "INFO:tensorflow:Assets written to: model_experiments\\model_6_dense_multivariate\\assets\n"
     ]
    },
    {
     "name": "stdout",
     "output_type": "stream",
     "text": [
      "18/18 [==============================] - 1s 45ms/step - loss: 155.8662 - val_loss: 819.8378\n",
      "Epoch 4/100\n",
      "16/18 [=========================>....] - ETA: 0s - loss: 147.2961INFO:tensorflow:Assets written to: model_experiments\\model_6_dense_multivariate\\assets\n"
     ]
    },
    {
     "name": "stderr",
     "output_type": "stream",
     "text": [
      "INFO:tensorflow:Assets written to: model_experiments\\model_6_dense_multivariate\\assets\n"
     ]
    },
    {
     "name": "stdout",
     "output_type": "stream",
     "text": [
      "18/18 [==============================] - 1s 43ms/step - loss: 146.5632 - val_loss: 799.7484\n",
      "Epoch 5/100\n",
      "14/18 [======================>.......] - ETA: 0s - loss: 133.9309INFO:tensorflow:Assets written to: model_experiments\\model_6_dense_multivariate\\assets\n"
     ]
    },
    {
     "name": "stderr",
     "output_type": "stream",
     "text": [
      "INFO:tensorflow:Assets written to: model_experiments\\model_6_dense_multivariate\\assets\n"
     ]
    },
    {
     "name": "stdout",
     "output_type": "stream",
     "text": [
      "18/18 [==============================] - 1s 55ms/step - loss: 132.3965 - val_loss: 693.0831\n",
      "Epoch 6/100\n",
      "11/18 [=================>............] - ETA: 0s - loss: 123.1516INFO:tensorflow:Assets written to: model_experiments\\model_6_dense_multivariate\\assets\n"
     ]
    },
    {
     "name": "stderr",
     "output_type": "stream",
     "text": [
      "INFO:tensorflow:Assets written to: model_experiments\\model_6_dense_multivariate\\assets\n"
     ]
    },
    {
     "name": "stdout",
     "output_type": "stream",
     "text": [
      "18/18 [==============================] - 1s 42ms/step - loss: 125.7849 - val_loss: 659.4670\n",
      "Epoch 7/100\n",
      "18/18 [==============================] - 0s 8ms/step - loss: 122.0054 - val_loss: 715.4888\n",
      "Epoch 8/100\n",
      "14/18 [======================>.......] - ETA: 0s - loss: 119.7870INFO:tensorflow:Assets written to: model_experiments\\model_6_dense_multivariate\\assets\n"
     ]
    },
    {
     "name": "stderr",
     "output_type": "stream",
     "text": [
      "INFO:tensorflow:Assets written to: model_experiments\\model_6_dense_multivariate\\assets\n"
     ]
    },
    {
     "name": "stdout",
     "output_type": "stream",
     "text": [
      "18/18 [==============================] - 1s 40ms/step - loss: 120.0701 - val_loss: 636.3212\n",
      "Epoch 9/100\n",
      "18/18 [==============================] - 0s 6ms/step - loss: 118.8690 - val_loss: 813.5287\n",
      "Epoch 10/100\n",
      "18/18 [==============================] - 0s 6ms/step - loss: 142.6461 - val_loss: 798.1339\n",
      "Epoch 11/100\n",
      "18/18 [==============================] - 0s 6ms/step - loss: 132.8748 - val_loss: 954.1594\n",
      "Epoch 12/100\n",
      "18/18 [==============================] - 0s 5ms/step - loss: 141.3553 - val_loss: 760.2547\n",
      "Epoch 13/100\n",
      "18/18 [==============================] - 0s 5ms/step - loss: 121.1712 - val_loss: 744.8667\n",
      "Epoch 14/100\n",
      "18/18 [==============================] - 0s 5ms/step - loss: 118.9032 - val_loss: 676.4731\n",
      "Epoch 15/100\n",
      "18/18 [==============================] - 0s 5ms/step - loss: 128.2026 - val_loss: 650.1197\n",
      "Epoch 16/100\n",
      "16/18 [=========================>....] - ETA: 0s - loss: 117.9929INFO:tensorflow:Assets written to: model_experiments\\model_6_dense_multivariate\\assets\n"
     ]
    },
    {
     "name": "stderr",
     "output_type": "stream",
     "text": [
      "INFO:tensorflow:Assets written to: model_experiments\\model_6_dense_multivariate\\assets\n"
     ]
    },
    {
     "name": "stdout",
     "output_type": "stream",
     "text": [
      "18/18 [==============================] - 1s 42ms/step - loss: 120.1517 - val_loss: 607.5734\n",
      "Epoch 17/100\n",
      "18/18 [==============================] - 0s 9ms/step - loss: 112.3910 - val_loss: 613.7141\n",
      "Epoch 18/100\n",
      "12/18 [===================>..........] - ETA: 0s - loss: 117.4662INFO:tensorflow:Assets written to: model_experiments\\model_6_dense_multivariate\\assets\n"
     ]
    },
    {
     "name": "stderr",
     "output_type": "stream",
     "text": [
      "INFO:tensorflow:Assets written to: model_experiments\\model_6_dense_multivariate\\assets\n"
     ]
    },
    {
     "name": "stdout",
     "output_type": "stream",
     "text": [
      "18/18 [==============================] - 1s 42ms/step - loss: 111.6833 - val_loss: 594.0026\n",
      "Epoch 19/100\n",
      "15/18 [========================>.....] - ETA: 0s - loss: 113.9747INFO:tensorflow:Assets written to: model_experiments\\model_6_dense_multivariate\\assets\n"
     ]
    },
    {
     "name": "stderr",
     "output_type": "stream",
     "text": [
      "INFO:tensorflow:Assets written to: model_experiments\\model_6_dense_multivariate\\assets\n"
     ]
    },
    {
     "name": "stdout",
     "output_type": "stream",
     "text": [
      "18/18 [==============================] - 1s 42ms/step - loss: 115.6327 - val_loss: 587.0794\n",
      "Epoch 20/100\n",
      "18/18 [==============================] - 0s 5ms/step - loss: 108.1031 - val_loss: 610.2454\n",
      "Epoch 21/100\n",
      "18/18 [==============================] - 0s 5ms/step - loss: 113.3326 - val_loss: 746.6417\n",
      "Epoch 22/100\n",
      "15/18 [========================>.....] - ETA: 0s - loss: 124.7246INFO:tensorflow:Assets written to: model_experiments\\model_6_dense_multivariate\\assets\n"
     ]
    },
    {
     "name": "stderr",
     "output_type": "stream",
     "text": [
      "INFO:tensorflow:Assets written to: model_experiments\\model_6_dense_multivariate\\assets\n"
     ]
    },
    {
     "name": "stdout",
     "output_type": "stream",
     "text": [
      "18/18 [==============================] - 1s 42ms/step - loss: 119.9599 - val_loss: 584.4870\n",
      "Epoch 23/100\n",
      "18/18 [==============================] - 0s 5ms/step - loss: 108.9238 - val_loss: 633.5174\n",
      "Epoch 24/100\n",
      "18/18 [==============================] - 0s 4ms/step - loss: 113.8530 - val_loss: 744.4081\n",
      "Epoch 25/100\n",
      "18/18 [==============================] - 0s 5ms/step - loss: 111.2092 - val_loss: 621.2402\n",
      "Epoch 26/100\n",
      "18/18 [==============================] - 0s 4ms/step - loss: 110.4809 - val_loss: 616.5059\n",
      "Epoch 27/100\n",
      "18/18 [==============================] - 0s 5ms/step - loss: 107.2301 - val_loss: 586.4800\n",
      "Epoch 28/100\n",
      "18/18 [==============================] - ETA: 0s - loss: 107.8962INFO:tensorflow:Assets written to: model_experiments\\model_6_dense_multivariate\\assets\n"
     ]
    },
    {
     "name": "stderr",
     "output_type": "stream",
     "text": [
      "INFO:tensorflow:Assets written to: model_experiments\\model_6_dense_multivariate\\assets\n"
     ]
    },
    {
     "name": "stdout",
     "output_type": "stream",
     "text": [
      "18/18 [==============================] - 1s 39ms/step - loss: 107.8962 - val_loss: 577.8254\n",
      "Epoch 29/100\n",
      "18/18 [==============================] - 0s 5ms/step - loss: 104.8487 - val_loss: 605.5060\n",
      "Epoch 30/100\n",
      "18/18 [==============================] - 0s 4ms/step - loss: 110.9190 - val_loss: 622.7369\n",
      "Epoch 31/100\n",
      "18/18 [==============================] - 0s 5ms/step - loss: 108.3989 - val_loss: 583.1696\n",
      "Epoch 32/100\n",
      " 1/18 [>.............................] - ETA: 0s - loss: 103.8338INFO:tensorflow:Assets written to: model_experiments\\model_6_dense_multivariate\\assets\n"
     ]
    },
    {
     "name": "stderr",
     "output_type": "stream",
     "text": [
      "INFO:tensorflow:Assets written to: model_experiments\\model_6_dense_multivariate\\assets\n"
     ]
    },
    {
     "name": "stdout",
     "output_type": "stream",
     "text": [
      "18/18 [==============================] - 1s 39ms/step - loss: 110.4221 - val_loss: 574.4393\n",
      "Epoch 33/100\n",
      "18/18 [==============================] - 0s 7ms/step - loss: 109.4232 - val_loss: 584.2971\n",
      "Epoch 34/100\n",
      "18/18 [==============================] - 0s 5ms/step - loss: 106.3021 - val_loss: 681.6042\n",
      "Epoch 35/100\n",
      "18/18 [==============================] - 0s 5ms/step - loss: 110.6243 - val_loss: 685.6693\n",
      "Epoch 36/100\n",
      "18/18 [==============================] - 0s 5ms/step - loss: 113.9770 - val_loss: 589.9265\n",
      "Epoch 37/100\n",
      "18/18 [==============================] - 0s 4ms/step - loss: 110.6149 - val_loss: 610.3574\n",
      "Epoch 38/100\n",
      "18/18 [==============================] - 0s 4ms/step - loss: 114.3095 - val_loss: 629.7599\n",
      "Epoch 39/100\n",
      "18/18 [==============================] - 0s 5ms/step - loss: 111.1903 - val_loss: 576.9446\n",
      "Epoch 40/100\n",
      "18/18 [==============================] - 0s 5ms/step - loss: 107.4169 - val_loss: 577.9575\n",
      "Epoch 41/100\n",
      "18/18 [==============================] - 0s 4ms/step - loss: 107.9132 - val_loss: 585.7651\n",
      "Epoch 42/100\n",
      "18/18 [==============================] - 0s 5ms/step - loss: 112.8143 - val_loss: 654.1024\n",
      "Epoch 43/100\n",
      " 1/18 [>.............................] - ETA: 0s - loss: 86.3545INFO:tensorflow:Assets written to: model_experiments\\model_6_dense_multivariate\\assets\n"
     ]
    },
    {
     "name": "stderr",
     "output_type": "stream",
     "text": [
      "INFO:tensorflow:Assets written to: model_experiments\\model_6_dense_multivariate\\assets\n"
     ]
    },
    {
     "name": "stdout",
     "output_type": "stream",
     "text": [
      "18/18 [==============================] - 1s 40ms/step - loss: 111.5022 - val_loss: 572.1923\n",
      "Epoch 44/100\n",
      "15/18 [========================>.....] - ETA: 0s - loss: 104.8012INFO:tensorflow:Assets written to: model_experiments\\model_6_dense_multivariate\\assets\n"
     ]
    },
    {
     "name": "stderr",
     "output_type": "stream",
     "text": [
      "INFO:tensorflow:Assets written to: model_experiments\\model_6_dense_multivariate\\assets\n"
     ]
    },
    {
     "name": "stdout",
     "output_type": "stream",
     "text": [
      "18/18 [==============================] - 1s 45ms/step - loss: 105.0783 - val_loss: 570.3766\n",
      "Epoch 45/100\n",
      "18/18 [==============================] - 0s 9ms/step - loss: 106.0239 - val_loss: 583.6287\n",
      "Epoch 46/100\n",
      "18/18 [==============================] - 0s 6ms/step - loss: 112.0586 - val_loss: 632.0320\n",
      "Epoch 47/100\n",
      "18/18 [==============================] - 0s 9ms/step - loss: 114.8050 - val_loss: 597.8690\n",
      "Epoch 48/100\n",
      "16/18 [=========================>....] - ETA: 0s - loss: 103.4828INFO:tensorflow:Assets written to: model_experiments\\model_6_dense_multivariate\\assets\n"
     ]
    },
    {
     "name": "stderr",
     "output_type": "stream",
     "text": [
      "INFO:tensorflow:Assets written to: model_experiments\\model_6_dense_multivariate\\assets\n"
     ]
    },
    {
     "name": "stdout",
     "output_type": "stream",
     "text": [
      "18/18 [==============================] - 1s 41ms/step - loss: 105.1643 - val_loss: 570.2969\n",
      "Epoch 49/100\n",
      "18/18 [==============================] - 0s 9ms/step - loss: 108.7897 - val_loss: 863.3886\n",
      "Epoch 50/100\n",
      "18/18 [==============================] - 0s 6ms/step - loss: 124.0439 - val_loss: 797.6622\n",
      "Epoch 51/100\n",
      "18/18 [==============================] - 0s 6ms/step - loss: 121.7918 - val_loss: 648.4105\n",
      "Epoch 52/100\n",
      "18/18 [==============================] - 0s 6ms/step - loss: 119.4072 - val_loss: 705.8719\n",
      "Epoch 53/100\n",
      "18/18 [==============================] - 0s 6ms/step - loss: 110.6556 - val_loss: 610.5165\n",
      "Epoch 54/100\n",
      "18/18 [==============================] - 0s 6ms/step - loss: 110.0141 - val_loss: 603.0484\n",
      "Epoch 55/100\n",
      "18/18 [==============================] - 0s 6ms/step - loss: 117.0033 - val_loss: 744.6322\n",
      "Epoch 56/100\n",
      "18/18 [==============================] - 0s 8ms/step - loss: 121.3403 - val_loss: 889.7574\n",
      "Epoch 57/100\n",
      "18/18 [==============================] - 0s 8ms/step - loss: 126.3842 - val_loss: 591.5109\n",
      "Epoch 58/100\n",
      "18/18 [==============================] - 0s 5ms/step - loss: 109.0939 - val_loss: 606.5200\n",
      "Epoch 59/100\n",
      "18/18 [==============================] - 0s 6ms/step - loss: 104.2990 - val_loss: 587.6765\n",
      "Epoch 60/100\n",
      "18/18 [==============================] - 0s 6ms/step - loss: 110.1445 - val_loss: 593.7009\n",
      "Epoch 61/100\n",
      "18/18 [==============================] - 0s 6ms/step - loss: 106.3899 - val_loss: 590.7781\n",
      "Epoch 62/100\n",
      "18/18 [==============================] - 0s 6ms/step - loss: 107.2730 - val_loss: 592.6044\n",
      "Epoch 63/100\n",
      "18/18 [==============================] - 0s 6ms/step - loss: 112.9778 - val_loss: 578.6824\n",
      "Epoch 64/100\n",
      "18/18 [==============================] - 0s 5ms/step - loss: 105.5587 - val_loss: 578.8479\n",
      "Epoch 65/100\n",
      "18/18 [==============================] - 0s 5ms/step - loss: 109.0412 - val_loss: 622.2093\n",
      "Epoch 66/100\n",
      "18/18 [==============================] - 0s 4ms/step - loss: 107.9248 - val_loss: 605.9521\n",
      "Epoch 67/100\n",
      "18/18 [==============================] - 0s 5ms/step - loss: 106.0414 - val_loss: 639.6359\n",
      "Epoch 68/100\n",
      "14/18 [======================>.......] - ETA: 0s - loss: 105.1038INFO:tensorflow:Assets written to: model_experiments\\model_6_dense_multivariate\\assets\n"
     ]
    },
    {
     "name": "stderr",
     "output_type": "stream",
     "text": [
      "INFO:tensorflow:Assets written to: model_experiments\\model_6_dense_multivariate\\assets\n"
     ]
    },
    {
     "name": "stdout",
     "output_type": "stream",
     "text": [
      "18/18 [==============================] - 1s 45ms/step - loss: 104.4472 - val_loss: 568.4493\n",
      "Epoch 69/100\n",
      "18/18 [==============================] - 0s 9ms/step - loss: 105.8395 - val_loss: 614.3583\n",
      "Epoch 70/100\n",
      "18/18 [==============================] - 0s 6ms/step - loss: 117.3847 - val_loss: 675.6932\n",
      "Epoch 71/100\n",
      "18/18 [==============================] - 0s 6ms/step - loss: 107.5268 - val_loss: 575.9047\n",
      "Epoch 72/100\n",
      "18/18 [==============================] - 0s 6ms/step - loss: 106.8737 - val_loss: 636.9822\n",
      "Epoch 73/100\n",
      "18/18 [==============================] - 0s 6ms/step - loss: 104.6579 - val_loss: 572.9102\n",
      "Epoch 74/100\n",
      "18/18 [==============================] - 0s 7ms/step - loss: 103.8628 - val_loss: 568.5963\n",
      "Epoch 75/100\n",
      "18/18 [==============================] - 0s 6ms/step - loss: 106.9379 - val_loss: 568.8134\n",
      "Epoch 76/100\n",
      "18/18 [==============================] - 0s 6ms/step - loss: 110.7747 - val_loss: 610.8443\n",
      "Epoch 77/100\n",
      "18/18 [==============================] - 0s 6ms/step - loss: 112.0712 - val_loss: 573.3515\n",
      "Epoch 78/100\n",
      "18/18 [==============================] - 0s 6ms/step - loss: 109.6708 - val_loss: 627.4224\n",
      "Epoch 79/100\n",
      "18/18 [==============================] - 0s 6ms/step - loss: 106.7073 - val_loss: 709.9754\n",
      "Epoch 80/100\n",
      "18/18 [==============================] - 0s 6ms/step - loss: 114.5397 - val_loss: 598.1285\n",
      "Epoch 81/100\n",
      "18/18 [==============================] - 0s 5ms/step - loss: 104.1564 - val_loss: 594.6578\n",
      "Epoch 82/100\n",
      "18/18 [==============================] - 0s 5ms/step - loss: 123.0163 - val_loss: 636.4761\n",
      "Epoch 83/100\n",
      "18/18 [==============================] - 0s 6ms/step - loss: 120.9340 - val_loss: 791.8199\n",
      "Epoch 84/100\n",
      "18/18 [==============================] - 0s 6ms/step - loss: 120.3619 - val_loss: 579.2975\n",
      "Epoch 85/100\n",
      "18/18 [==============================] - 0s 5ms/step - loss: 107.4052 - val_loss: 569.8883\n",
      "Epoch 86/100\n",
      "18/18 [==============================] - 0s 5ms/step - loss: 106.5675 - val_loss: 579.8303\n",
      "Epoch 87/100\n",
      "18/18 [==============================] - 0s 5ms/step - loss: 105.2727 - val_loss: 659.6160\n",
      "Epoch 88/100\n",
      "18/18 [==============================] - 0s 5ms/step - loss: 111.9449 - val_loss: 574.7595\n",
      "Epoch 89/100\n",
      "18/18 [==============================] - 0s 5ms/step - loss: 107.1659 - val_loss: 655.6242\n",
      "Epoch 90/100\n",
      "18/18 [==============================] - 0s 5ms/step - loss: 109.9282 - val_loss: 573.6559\n",
      "Epoch 91/100\n",
      "18/18 [==============================] - 0s 5ms/step - loss: 109.5412 - val_loss: 624.5382\n",
      "Epoch 92/100\n",
      "18/18 [==============================] - 0s 4ms/step - loss: 117.6141 - val_loss: 841.8391\n",
      "Epoch 93/100\n",
      "18/18 [==============================] - 0s 5ms/step - loss: 128.4591 - val_loss: 658.1865\n",
      "Epoch 94/100\n",
      "18/18 [==============================] - 0s 5ms/step - loss: 119.5399 - val_loss: 579.2852\n",
      "Epoch 95/100\n",
      "18/18 [==============================] - 0s 6ms/step - loss: 107.1123 - val_loss: 570.6282\n",
      "Epoch 96/100\n",
      "18/18 [==============================] - 0s 4ms/step - loss: 108.4747 - val_loss: 596.8217\n",
      "Epoch 97/100\n",
      "18/18 [==============================] - 0s 4ms/step - loss: 107.7628 - val_loss: 574.1490\n",
      "Epoch 98/100\n",
      "18/18 [==============================] - 0s 5ms/step - loss: 105.2159 - val_loss: 581.9721\n",
      "Epoch 99/100\n",
      "18/18 [==============================] - 0s 4ms/step - loss: 112.5839 - val_loss: 569.4894\n",
      "Epoch 100/100\n",
      "18/18 [==============================] - 0s 4ms/step - loss: 125.4316 - val_loss: 866.1625\n"
     ]
    },
    {
     "data": {
      "text/plain": [
       "<keras.callbacks.History at 0x21f249003a0>"
      ]
     },
     "execution_count": 91,
     "metadata": {},
     "output_type": "execute_result"
    }
   ],
   "source": [
    "tf.random.set_seed(42)\n",
    "\n",
    "# Make multivariate time series model \n",
    "\n",
    "model_6 = tf.keras.Sequential([\n",
    "    layers.Dense(128,activation=\"relu\"),\n",
    "    layers.Dense(128,activation=\"relu\"),\n",
    "    layers.Dense(HORIZON)\n",
    "],name=\"model_6_dense_multivariate\")\n",
    "\n",
    "# Compile \n",
    "\n",
    "model_6.compile(loss=\"mae\",\n",
    "                optimizer=tf.keras.optimizers.Adam())\n",
    "\n",
    "# Fit \n",
    "\n",
    "model_6.fit(X_train,y_train,\n",
    "            epochs=100,\n",
    "            batch_size=128,\n",
    "            validation_data=(X_test,y_test),\n",
    "            callbacks=[create_model_checkpoint(model_name=model_6.name)])"
   ]
  },
  {
   "cell_type": "code",
   "execution_count": 92,
   "metadata": {},
   "outputs": [
    {
     "name": "stdout",
     "output_type": "stream",
     "text": [
      "18/18 [==============================] - 0s 5ms/step - loss: 866.1625\n"
     ]
    },
    {
     "data": {
      "text/plain": [
       "866.1625366210938"
      ]
     },
     "execution_count": 92,
     "metadata": {},
     "output_type": "execute_result"
    }
   ],
   "source": [
    "model_6.evaluate(X_test,y_test)"
   ]
  },
  {
   "cell_type": "code",
   "execution_count": 93,
   "metadata": {},
   "outputs": [
    {
     "name": "stdout",
     "output_type": "stream",
     "text": [
      "18/18 [==============================] - 0s 2ms/step - loss: 568.4493\n"
     ]
    },
    {
     "data": {
      "text/plain": [
       "568.4493408203125"
      ]
     },
     "execution_count": 93,
     "metadata": {},
     "output_type": "execute_result"
    }
   ],
   "source": [
    "model_6 = tf.keras.models.load_model(\"model_experiments/model_6_dense_multivariate\")\n",
    "\n",
    "model_6.evaluate(X_test,y_test)"
   ]
  },
  {
   "cell_type": "code",
   "execution_count": 94,
   "metadata": {},
   "outputs": [
    {
     "data": {
      "text/plain": [
       "<tf.Tensor: shape=(10,), dtype=float32, numpy=\n",
       "array([8813.428, 8767.835, 9045.075, 8723.281, 8713.942, 8744.136,\n",
       "       8651.526, 8490.182, 8448.835, 8518.019], dtype=float32)>"
      ]
     },
     "execution_count": 94,
     "metadata": {},
     "output_type": "execute_result"
    }
   ],
   "source": [
    "# Make preds \n",
    "\n",
    "model_6_preds = tf.squeeze(model_6.predict(X_test))\n",
    "model_6_preds[:10]"
   ]
  },
  {
   "cell_type": "code",
   "execution_count": 95,
   "metadata": {},
   "outputs": [
    {
     "data": {
      "text/plain": [
       "{'mae': 568.4494,\n",
       " 'mse': 1162442.4,\n",
       " 'rmse': 1078.1663,\n",
       " 'mape': 2.5558891,\n",
       " 'mase': 0.9986082}"
      ]
     },
     "execution_count": 95,
     "metadata": {},
     "output_type": "execute_result"
    }
   ],
   "source": [
    "# Evaluate preds \n",
    "model_6_results = evaluate_preds(y_true=y_test,\n",
    "                                 y_pred=model_6_preds)\n",
    "\n",
    "model_6_results"
   ]
  },
  {
   "cell_type": "code",
   "execution_count": 96,
   "metadata": {},
   "outputs": [
    {
     "data": {
      "text/plain": [
       "{'mae': 570.3397,\n",
       " 'mse': 1180294.9,\n",
       " 'rmse': 1086.4137,\n",
       " 'mape': 2.5392227,\n",
       " 'mase': 0.99544233}"
      ]
     },
     "execution_count": 96,
     "metadata": {},
     "output_type": "execute_result"
    }
   ],
   "source": [
    "model_1_results"
   ]
  },
  {
   "cell_type": "code",
   "execution_count": 97,
   "metadata": {},
   "outputs": [
    {
     "data": {
      "text/plain": [
       "{'mae': 567.9802,\n",
       " 'mse': 1147547.0,\n",
       " 'rmse': 1071.2362,\n",
       " 'mape': 2.516525,\n",
       " 'mase': 0.99957}"
      ]
     },
     "execution_count": 97,
     "metadata": {},
     "output_type": "execute_result"
    }
   ],
   "source": [
    "naive_results"
   ]
  },
  {
   "attachments": {},
   "cell_type": "markdown",
   "metadata": {},
   "source": [
    "## Model 7 : N-BEATS algorithm "
   ]
  },
  {
   "attachments": {},
   "cell_type": "markdown",
   "metadata": {},
   "source": [
    "### Building and testing N-BEATS block layer"
   ]
  },
  {
   "cell_type": "code",
   "execution_count": 99,
   "metadata": {},
   "outputs": [],
   "source": [
    "# Create NBeatBlock custom layer \n",
    "\n",
    "class NBeatsBlock(tf.keras.layers.Layer):\n",
    "    def __init__(self,\n",
    "                 input_size: int,\n",
    "                 theta_size: int,\n",
    "                 horizon: int,\n",
    "                 n_neurons: int,\n",
    "                 n_layers: int,\n",
    "                 **kwargs):\n",
    "        super().__init__(**kwargs)\n",
    "        self.input_size = input_size\n",
    "        self.theta_size= theta_size\n",
    "        self.horizon = horizon\n",
    "        self.n_neurons = n_neurons\n",
    "        self.n_layers = n_layers\n",
    "        \n",
    "        # Block contains stack of 4 fully connected layers each has a ReLu activation \n",
    "        \n",
    "        self.hidden =[tf.keras.layers.Dense(n_neurons,activation=\"relu\") for _ in range(n_layers)]\n",
    "        # Output of block is theta layer with linear activation \n",
    "        \n",
    "        self.theta_layer = tf.keras.layers.Dense(theta_size, activation=\"linear\",name=\"theta\")\n",
    "        \n",
    "    def call(self,inputs):\n",
    "        x = inputs\n",
    "        for layer in self.hidden:\n",
    "            x = layer(x)\n",
    "        theta =  self.theta_layer(x)\n",
    "        # Output the backcast and the forecast from theta \n",
    "        backcast, forecast = theta[:, :self.input_size], theta[:,-self.horizon] \n",
    "        return backcast,forecast      "
   ]
  },
  {
   "cell_type": "code",
   "execution_count": 100,
   "metadata": {},
   "outputs": [],
   "source": [
    "# Setup a dummy NBeatsBlock layer \n",
    "\n",
    "tf.random.set_seed(42)\n",
    "\n",
    "dummy_nbeats_block_layer = NBeatsBlock(input_size=WINDOW_SIZE,\n",
    "                                       theta_size=WINDOW_SIZE+HORIZON, # backcast + forecast\n",
    "                                       horizon=HORIZON,\n",
    "                                       n_neurons=128,\n",
    "                                       n_layers=4)"
   ]
  },
  {
   "cell_type": "code",
   "execution_count": 101,
   "metadata": {},
   "outputs": [
    {
     "data": {
      "text/plain": [
       "<tf.Tensor: shape=(1, 7), dtype=int32, numpy=array([[1, 2, 3, 4, 5, 6, 7]])>"
      ]
     },
     "execution_count": 101,
     "metadata": {},
     "output_type": "execute_result"
    }
   ],
   "source": [
    "# Create dummy inputs (have to be same size as input size )\n",
    "\n",
    "dummy_inputs = tf.expand_dims(tf.range(WINDOW_SIZE)+1,axis=0) \n",
    "\n",
    "dummy_inputs"
   ]
  },
  {
   "cell_type": "code",
   "execution_count": 102,
   "metadata": {},
   "outputs": [
    {
     "name": "stdout",
     "output_type": "stream",
     "text": [
      "Backcast: [-0.4634872   0.10944451 -0.4335534   0.93602407 -0.35703534 -0.17927621\n",
      " -0.34048355]\n",
      "forecast: -0.4397900700569153\n"
     ]
    }
   ],
   "source": [
    "# pass dummy inputs to dummy layer \n",
    " \n",
    "backcast, forecast = dummy_nbeats_block_layer(dummy_inputs)\n",
    "\n",
    "#These are the activation outputs of the theta layer \n",
    "\n",
    "print(f\"Backcast: {tf.squeeze(backcast.numpy())}\")\n",
    "print(f\"forecast: {tf.squeeze(forecast.numpy())}\")"
   ]
  },
  {
   "attachments": {},
   "cell_type": "markdown",
   "metadata": {},
   "source": [
    "### Preparing data with `tf.data`"
   ]
  },
  {
   "cell_type": "code",
   "execution_count": null,
   "metadata": {},
   "outputs": [],
   "source": [
    "HORIZON= 1\n",
    "WINDOW_SIZE = 7"
   ]
  },
  {
   "cell_type": "code",
   "execution_count": 103,
   "metadata": {},
   "outputs": [
    {
     "data": {
      "text/html": [
       "<div>\n",
       "<style scoped>\n",
       "    .dataframe tbody tr th:only-of-type {\n",
       "        vertical-align: middle;\n",
       "    }\n",
       "\n",
       "    .dataframe tbody tr th {\n",
       "        vertical-align: top;\n",
       "    }\n",
       "\n",
       "    .dataframe thead th {\n",
       "        text-align: right;\n",
       "    }\n",
       "</style>\n",
       "<table border=\"1\" class=\"dataframe\">\n",
       "  <thead>\n",
       "    <tr style=\"text-align: right;\">\n",
       "      <th></th>\n",
       "      <th>Price</th>\n",
       "    </tr>\n",
       "    <tr>\n",
       "      <th>Date</th>\n",
       "      <th></th>\n",
       "    </tr>\n",
       "  </thead>\n",
       "  <tbody>\n",
       "    <tr>\n",
       "      <th>2013-10-01</th>\n",
       "      <td>123.65499</td>\n",
       "    </tr>\n",
       "    <tr>\n",
       "      <th>2013-10-02</th>\n",
       "      <td>125.45500</td>\n",
       "    </tr>\n",
       "    <tr>\n",
       "      <th>2013-10-03</th>\n",
       "      <td>108.58483</td>\n",
       "    </tr>\n",
       "    <tr>\n",
       "      <th>2013-10-04</th>\n",
       "      <td>118.67466</td>\n",
       "    </tr>\n",
       "    <tr>\n",
       "      <th>2013-10-05</th>\n",
       "      <td>121.33866</td>\n",
       "    </tr>\n",
       "  </tbody>\n",
       "</table>\n",
       "</div>"
      ],
      "text/plain": [
       "                Price\n",
       "Date                 \n",
       "2013-10-01  123.65499\n",
       "2013-10-02  125.45500\n",
       "2013-10-03  108.58483\n",
       "2013-10-04  118.67466\n",
       "2013-10-05  121.33866"
      ]
     },
     "execution_count": 103,
     "metadata": {},
     "output_type": "execute_result"
    }
   ],
   "source": [
    "# Create N-BEATS data inputs \n",
    "\n",
    "bitcoin_prices.head()"
   ]
  },
  {
   "cell_type": "code",
   "execution_count": 107,
   "metadata": {},
   "outputs": [
    {
     "data": {
      "text/html": [
       "<div>\n",
       "<style scoped>\n",
       "    .dataframe tbody tr th:only-of-type {\n",
       "        vertical-align: middle;\n",
       "    }\n",
       "\n",
       "    .dataframe tbody tr th {\n",
       "        vertical-align: top;\n",
       "    }\n",
       "\n",
       "    .dataframe thead th {\n",
       "        text-align: right;\n",
       "    }\n",
       "</style>\n",
       "<table border=\"1\" class=\"dataframe\">\n",
       "  <thead>\n",
       "    <tr style=\"text-align: right;\">\n",
       "      <th></th>\n",
       "      <th>Price</th>\n",
       "      <th>Price+1</th>\n",
       "      <th>Price+2</th>\n",
       "      <th>Price+3</th>\n",
       "      <th>Price+4</th>\n",
       "      <th>Price+5</th>\n",
       "      <th>Price+6</th>\n",
       "      <th>Price+7</th>\n",
       "    </tr>\n",
       "    <tr>\n",
       "      <th>Date</th>\n",
       "      <th></th>\n",
       "      <th></th>\n",
       "      <th></th>\n",
       "      <th></th>\n",
       "      <th></th>\n",
       "      <th></th>\n",
       "      <th></th>\n",
       "      <th></th>\n",
       "    </tr>\n",
       "  </thead>\n",
       "  <tbody>\n",
       "    <tr>\n",
       "      <th>2013-10-01</th>\n",
       "      <td>123.65499</td>\n",
       "      <td>NaN</td>\n",
       "      <td>NaN</td>\n",
       "      <td>NaN</td>\n",
       "      <td>NaN</td>\n",
       "      <td>NaN</td>\n",
       "      <td>NaN</td>\n",
       "      <td>NaN</td>\n",
       "    </tr>\n",
       "    <tr>\n",
       "      <th>2013-10-02</th>\n",
       "      <td>125.45500</td>\n",
       "      <td>123.65499</td>\n",
       "      <td>NaN</td>\n",
       "      <td>NaN</td>\n",
       "      <td>NaN</td>\n",
       "      <td>NaN</td>\n",
       "      <td>NaN</td>\n",
       "      <td>NaN</td>\n",
       "    </tr>\n",
       "    <tr>\n",
       "      <th>2013-10-03</th>\n",
       "      <td>108.58483</td>\n",
       "      <td>125.45500</td>\n",
       "      <td>123.65499</td>\n",
       "      <td>NaN</td>\n",
       "      <td>NaN</td>\n",
       "      <td>NaN</td>\n",
       "      <td>NaN</td>\n",
       "      <td>NaN</td>\n",
       "    </tr>\n",
       "    <tr>\n",
       "      <th>2013-10-04</th>\n",
       "      <td>118.67466</td>\n",
       "      <td>108.58483</td>\n",
       "      <td>125.45500</td>\n",
       "      <td>123.65499</td>\n",
       "      <td>NaN</td>\n",
       "      <td>NaN</td>\n",
       "      <td>NaN</td>\n",
       "      <td>NaN</td>\n",
       "    </tr>\n",
       "    <tr>\n",
       "      <th>2013-10-05</th>\n",
       "      <td>121.33866</td>\n",
       "      <td>118.67466</td>\n",
       "      <td>108.58483</td>\n",
       "      <td>125.45500</td>\n",
       "      <td>123.65499</td>\n",
       "      <td>NaN</td>\n",
       "      <td>NaN</td>\n",
       "      <td>NaN</td>\n",
       "    </tr>\n",
       "  </tbody>\n",
       "</table>\n",
       "</div>"
      ],
      "text/plain": [
       "                Price    Price+1    Price+2    Price+3    Price+4  Price+5  \\\n",
       "Date                                                                         \n",
       "2013-10-01  123.65499        NaN        NaN        NaN        NaN      NaN   \n",
       "2013-10-02  125.45500  123.65499        NaN        NaN        NaN      NaN   \n",
       "2013-10-03  108.58483  125.45500  123.65499        NaN        NaN      NaN   \n",
       "2013-10-04  118.67466  108.58483  125.45500  123.65499        NaN      NaN   \n",
       "2013-10-05  121.33866  118.67466  108.58483  125.45500  123.65499      NaN   \n",
       "\n",
       "            Price+6  Price+7  \n",
       "Date                          \n",
       "2013-10-01      NaN      NaN  \n",
       "2013-10-02      NaN      NaN  \n",
       "2013-10-03      NaN      NaN  \n",
       "2013-10-04      NaN      NaN  \n",
       "2013-10-05      NaN      NaN  "
      ]
     },
     "execution_count": 107,
     "metadata": {},
     "output_type": "execute_result"
    }
   ],
   "source": [
    "# Add windowed columns \n",
    "\n",
    "bitcoin_prices_nbeats = bitcoin_prices.copy()\n",
    "\n",
    "for i in range(WINDOW_SIZE):\n",
    "    bitcoin_prices_nbeats[f\"Price+{i+1}\"] = bitcoin_prices_nbeats[\"Price\"].shift(periods=i+1)\n",
    "    \n",
    "bitcoin_prices_nbeats.head()"
   ]
  },
  {
   "cell_type": "code",
   "execution_count": 108,
   "metadata": {},
   "outputs": [
    {
     "data": {
      "text/plain": [
       "(2224, 2224, 556, 556)"
      ]
     },
     "execution_count": 108,
     "metadata": {},
     "output_type": "execute_result"
    }
   ],
   "source": [
    "# Make features and labels \n",
    "\n",
    "X = bitcoin_prices_nbeats.dropna().drop(\"Price\",axis=1)\n",
    "y = bitcoin_prices_nbeats.dropna()[\"Price\"]\n",
    "\n",
    "# Make train and test \n",
    "\n",
    "split_size = int(len(X)* 0.8)\n",
    "\n",
    "X_train, y_train = X[:split_size], y[:split_size]\n",
    "\n",
    "X_test,y_test = X[split_size:], y[split_size:]\n",
    "\n",
    "len(X_train),len(y_train),len(X_test),len(y_test)"
   ]
  },
  {
   "cell_type": "code",
   "execution_count": 109,
   "metadata": {},
   "outputs": [
    {
     "data": {
      "text/plain": [
       "(<PrefetchDataset element_spec=(TensorSpec(shape=(None, 7), dtype=tf.float64, name=None), TensorSpec(shape=(None,), dtype=tf.float64, name=None))>,\n",
       " <PrefetchDataset element_spec=(TensorSpec(shape=(None, 7), dtype=tf.float64, name=None), TensorSpec(shape=(None,), dtype=tf.float64, name=None))>)"
      ]
     },
     "execution_count": 109,
     "metadata": {},
     "output_type": "execute_result"
    }
   ],
   "source": [
    "# Time to make our dataset performant using tf.data API \n",
    "\n",
    "train_features_dataset = tf.data.Dataset.from_tensor_slices(X_train)\n",
    "\n",
    "train_labels_dataset = tf.data.Dataset.from_tensor_slices(y_train)\n",
    "\n",
    "test_features_dataset = tf.data.Dataset.from_tensor_slices(X_test)\n",
    "\n",
    "test_labels_dataset = tf.data.Dataset.from_tensor_slices(y_test)\n",
    "\n",
    "\n",
    "# Combine labels and features by zipping \n",
    "\n",
    "train_dataset = tf.data.Dataset.zip((train_features_dataset,train_labels_dataset))\n",
    "\n",
    "test_dataset = tf.data.Dataset.zip((test_features_dataset,test_labels_dataset))\n",
    "\n",
    "\n",
    "# Batch and prefetch \n",
    "\n",
    "BATCH_SIZE = 1024 \n",
    "train_dataset = train_dataset.batch(BATCH_SIZE).prefetch(tf.data.AUTOTUNE)\n",
    "test_dataset = test_dataset.batch(BATCH_SIZE).prefetch(tf.data.AUTOTUNE)\n",
    "\n",
    "train_dataset,test_dataset"
   ]
  }
 ],
 "metadata": {
  "kernelspec": {
   "display_name": "tf2.4",
   "language": "python",
   "name": "python3"
  },
  "language_info": {
   "codemirror_mode": {
    "name": "ipython",
    "version": 3
   },
   "file_extension": ".py",
   "mimetype": "text/x-python",
   "name": "python",
   "nbconvert_exporter": "python",
   "pygments_lexer": "ipython3",
   "version": "3.10.0"
  },
  "orig_nbformat": 4
 },
 "nbformat": 4,
 "nbformat_minor": 2
}
